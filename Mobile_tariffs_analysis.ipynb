{
 "cells": [
  {
   "cell_type": "markdown",
   "metadata": {},
   "source": [
    "## Подготовка данных ##\n",
    "\n",
    "Начинаем исследование с постановки задачи:\n",
    "Имеется два тарифных плана: «Смарт» и «Ультра», необходимо определить, какой ТП приносит больше денег.\n",
    "\n",
    "Импортируем библиотеки:"
   ]
  },
  {
   "cell_type": "code",
   "execution_count": 1,
   "metadata": {},
   "outputs": [],
   "source": [
    "import pandas as pd\n",
    "import math\n",
    "import matplotlib.pyplot as plt\n",
    "from scipy import stats as st\n",
    "import numpy as np\n",
    "import seaborn"
   ]
  },
  {
   "cell_type": "markdown",
   "metadata": {},
   "source": [
    "Откроем файлы с данными и передадим их значения в соответвующие переменные."
   ]
  },
  {
   "cell_type": "code",
   "execution_count": 2,
   "metadata": {},
   "outputs": [],
   "source": [
    "\n",
    "calls = pd.read_csv('/datasets/calls.csv')\n",
    "internet = pd.read_csv('/datasets/internet.csv',index_col=0) #  index_col=0 чтобы в таблице не создавался отдельный столбец \"Unnamed: 0\"\n",
    "messages = pd.read_csv('/datasets/messages.csv')\n",
    "tariffs = pd.read_csv('/datasets/tariffs.csv')\n",
    "users = pd.read_csv('/datasets/users.csv')"
   ]
  },
  {
   "cell_type": "markdown",
   "metadata": {},
   "source": [
    "Изучим данные в полученных таблицах"
   ]
  },
  {
   "cell_type": "code",
   "execution_count": 3,
   "metadata": {
    "scrolled": false
   },
   "outputs": [
    {
     "name": "stdout",
     "output_type": "stream",
     "text": [
      "Информация по таблице calls :\n"
     ]
    },
    {
     "data": {
      "text/html": [
       "<div>\n",
       "<style scoped>\n",
       "    .dataframe tbody tr th:only-of-type {\n",
       "        vertical-align: middle;\n",
       "    }\n",
       "\n",
       "    .dataframe tbody tr th {\n",
       "        vertical-align: top;\n",
       "    }\n",
       "\n",
       "    .dataframe thead th {\n",
       "        text-align: right;\n",
       "    }\n",
       "</style>\n",
       "<table border=\"1\" class=\"dataframe\">\n",
       "  <thead>\n",
       "    <tr style=\"text-align: right;\">\n",
       "      <th></th>\n",
       "      <th>id</th>\n",
       "      <th>call_date</th>\n",
       "      <th>duration</th>\n",
       "      <th>user_id</th>\n",
       "    </tr>\n",
       "  </thead>\n",
       "  <tbody>\n",
       "    <tr>\n",
       "      <td>0</td>\n",
       "      <td>1000_0</td>\n",
       "      <td>2018-07-25</td>\n",
       "      <td>0.00</td>\n",
       "      <td>1000</td>\n",
       "    </tr>\n",
       "    <tr>\n",
       "      <td>1</td>\n",
       "      <td>1000_1</td>\n",
       "      <td>2018-08-17</td>\n",
       "      <td>0.00</td>\n",
       "      <td>1000</td>\n",
       "    </tr>\n",
       "    <tr>\n",
       "      <td>2</td>\n",
       "      <td>1000_2</td>\n",
       "      <td>2018-06-11</td>\n",
       "      <td>2.85</td>\n",
       "      <td>1000</td>\n",
       "    </tr>\n",
       "    <tr>\n",
       "      <td>3</td>\n",
       "      <td>1000_3</td>\n",
       "      <td>2018-09-21</td>\n",
       "      <td>13.80</td>\n",
       "      <td>1000</td>\n",
       "    </tr>\n",
       "    <tr>\n",
       "      <td>4</td>\n",
       "      <td>1000_4</td>\n",
       "      <td>2018-12-15</td>\n",
       "      <td>5.18</td>\n",
       "      <td>1000</td>\n",
       "    </tr>\n",
       "    <tr>\n",
       "      <td>...</td>\n",
       "      <td>...</td>\n",
       "      <td>...</td>\n",
       "      <td>...</td>\n",
       "      <td>...</td>\n",
       "    </tr>\n",
       "    <tr>\n",
       "      <td>202602</td>\n",
       "      <td>1499_215</td>\n",
       "      <td>2018-12-26</td>\n",
       "      <td>0.76</td>\n",
       "      <td>1499</td>\n",
       "    </tr>\n",
       "    <tr>\n",
       "      <td>202603</td>\n",
       "      <td>1499_216</td>\n",
       "      <td>2018-10-18</td>\n",
       "      <td>18.83</td>\n",
       "      <td>1499</td>\n",
       "    </tr>\n",
       "    <tr>\n",
       "      <td>202604</td>\n",
       "      <td>1499_217</td>\n",
       "      <td>2018-11-10</td>\n",
       "      <td>10.81</td>\n",
       "      <td>1499</td>\n",
       "    </tr>\n",
       "    <tr>\n",
       "      <td>202605</td>\n",
       "      <td>1499_218</td>\n",
       "      <td>2018-10-06</td>\n",
       "      <td>4.27</td>\n",
       "      <td>1499</td>\n",
       "    </tr>\n",
       "    <tr>\n",
       "      <td>202606</td>\n",
       "      <td>1499_219</td>\n",
       "      <td>2018-12-14</td>\n",
       "      <td>19.62</td>\n",
       "      <td>1499</td>\n",
       "    </tr>\n",
       "  </tbody>\n",
       "</table>\n",
       "<p>202607 rows × 4 columns</p>\n",
       "</div>"
      ],
      "text/plain": [
       "              id   call_date  duration  user_id\n",
       "0         1000_0  2018-07-25      0.00     1000\n",
       "1         1000_1  2018-08-17      0.00     1000\n",
       "2         1000_2  2018-06-11      2.85     1000\n",
       "3         1000_3  2018-09-21     13.80     1000\n",
       "4         1000_4  2018-12-15      5.18     1000\n",
       "...          ...         ...       ...      ...\n",
       "202602  1499_215  2018-12-26      0.76     1499\n",
       "202603  1499_216  2018-10-18     18.83     1499\n",
       "202604  1499_217  2018-11-10     10.81     1499\n",
       "202605  1499_218  2018-10-06      4.27     1499\n",
       "202606  1499_219  2018-12-14     19.62     1499\n",
       "\n",
       "[202607 rows x 4 columns]"
      ]
     },
     "metadata": {},
     "output_type": "display_data"
    },
    {
     "name": "stdout",
     "output_type": "stream",
     "text": [
      "<class 'pandas.core.frame.DataFrame'>\n",
      "RangeIndex: 202607 entries, 0 to 202606\n",
      "Data columns (total 4 columns):\n",
      "id           202607 non-null object\n",
      "call_date    202607 non-null object\n",
      "duration     202607 non-null float64\n",
      "user_id      202607 non-null int64\n",
      "dtypes: float64(1), int64(1), object(2)\n",
      "memory usage: 6.2+ MB\n",
      "\n",
      "Информация по таблице internet :\n"
     ]
    },
    {
     "data": {
      "text/html": [
       "<div>\n",
       "<style scoped>\n",
       "    .dataframe tbody tr th:only-of-type {\n",
       "        vertical-align: middle;\n",
       "    }\n",
       "\n",
       "    .dataframe tbody tr th {\n",
       "        vertical-align: top;\n",
       "    }\n",
       "\n",
       "    .dataframe thead th {\n",
       "        text-align: right;\n",
       "    }\n",
       "</style>\n",
       "<table border=\"1\" class=\"dataframe\">\n",
       "  <thead>\n",
       "    <tr style=\"text-align: right;\">\n",
       "      <th></th>\n",
       "      <th>id</th>\n",
       "      <th>mb_used</th>\n",
       "      <th>session_date</th>\n",
       "      <th>user_id</th>\n",
       "    </tr>\n",
       "  </thead>\n",
       "  <tbody>\n",
       "    <tr>\n",
       "      <td>0</td>\n",
       "      <td>1000_0</td>\n",
       "      <td>112.95</td>\n",
       "      <td>2018-11-25</td>\n",
       "      <td>1000</td>\n",
       "    </tr>\n",
       "    <tr>\n",
       "      <td>1</td>\n",
       "      <td>1000_1</td>\n",
       "      <td>1052.81</td>\n",
       "      <td>2018-09-07</td>\n",
       "      <td>1000</td>\n",
       "    </tr>\n",
       "    <tr>\n",
       "      <td>2</td>\n",
       "      <td>1000_2</td>\n",
       "      <td>1197.26</td>\n",
       "      <td>2018-06-25</td>\n",
       "      <td>1000</td>\n",
       "    </tr>\n",
       "    <tr>\n",
       "      <td>3</td>\n",
       "      <td>1000_3</td>\n",
       "      <td>550.27</td>\n",
       "      <td>2018-08-22</td>\n",
       "      <td>1000</td>\n",
       "    </tr>\n",
       "    <tr>\n",
       "      <td>4</td>\n",
       "      <td>1000_4</td>\n",
       "      <td>302.56</td>\n",
       "      <td>2018-09-24</td>\n",
       "      <td>1000</td>\n",
       "    </tr>\n",
       "    <tr>\n",
       "      <td>...</td>\n",
       "      <td>...</td>\n",
       "      <td>...</td>\n",
       "      <td>...</td>\n",
       "      <td>...</td>\n",
       "    </tr>\n",
       "    <tr>\n",
       "      <td>149391</td>\n",
       "      <td>1499_152</td>\n",
       "      <td>318.90</td>\n",
       "      <td>2018-10-03</td>\n",
       "      <td>1499</td>\n",
       "    </tr>\n",
       "    <tr>\n",
       "      <td>149392</td>\n",
       "      <td>1499_153</td>\n",
       "      <td>490.13</td>\n",
       "      <td>2018-12-14</td>\n",
       "      <td>1499</td>\n",
       "    </tr>\n",
       "    <tr>\n",
       "      <td>149393</td>\n",
       "      <td>1499_154</td>\n",
       "      <td>0.00</td>\n",
       "      <td>2018-10-27</td>\n",
       "      <td>1499</td>\n",
       "    </tr>\n",
       "    <tr>\n",
       "      <td>149394</td>\n",
       "      <td>1499_155</td>\n",
       "      <td>1246.32</td>\n",
       "      <td>2018-11-26</td>\n",
       "      <td>1499</td>\n",
       "    </tr>\n",
       "    <tr>\n",
       "      <td>149395</td>\n",
       "      <td>1499_156</td>\n",
       "      <td>544.37</td>\n",
       "      <td>2018-10-26</td>\n",
       "      <td>1499</td>\n",
       "    </tr>\n",
       "  </tbody>\n",
       "</table>\n",
       "<p>149396 rows × 4 columns</p>\n",
       "</div>"
      ],
      "text/plain": [
       "              id  mb_used session_date  user_id\n",
       "0         1000_0   112.95   2018-11-25     1000\n",
       "1         1000_1  1052.81   2018-09-07     1000\n",
       "2         1000_2  1197.26   2018-06-25     1000\n",
       "3         1000_3   550.27   2018-08-22     1000\n",
       "4         1000_4   302.56   2018-09-24     1000\n",
       "...          ...      ...          ...      ...\n",
       "149391  1499_152   318.90   2018-10-03     1499\n",
       "149392  1499_153   490.13   2018-12-14     1499\n",
       "149393  1499_154     0.00   2018-10-27     1499\n",
       "149394  1499_155  1246.32   2018-11-26     1499\n",
       "149395  1499_156   544.37   2018-10-26     1499\n",
       "\n",
       "[149396 rows x 4 columns]"
      ]
     },
     "metadata": {},
     "output_type": "display_data"
    },
    {
     "name": "stdout",
     "output_type": "stream",
     "text": [
      "<class 'pandas.core.frame.DataFrame'>\n",
      "Int64Index: 149396 entries, 0 to 149395\n",
      "Data columns (total 4 columns):\n",
      "id              149396 non-null object\n",
      "mb_used         149396 non-null float64\n",
      "session_date    149396 non-null object\n",
      "user_id         149396 non-null int64\n",
      "dtypes: float64(1), int64(1), object(2)\n",
      "memory usage: 5.7+ MB\n",
      "\n",
      "Информация по таблице messages :\n"
     ]
    },
    {
     "data": {
      "text/html": [
       "<div>\n",
       "<style scoped>\n",
       "    .dataframe tbody tr th:only-of-type {\n",
       "        vertical-align: middle;\n",
       "    }\n",
       "\n",
       "    .dataframe tbody tr th {\n",
       "        vertical-align: top;\n",
       "    }\n",
       "\n",
       "    .dataframe thead th {\n",
       "        text-align: right;\n",
       "    }\n",
       "</style>\n",
       "<table border=\"1\" class=\"dataframe\">\n",
       "  <thead>\n",
       "    <tr style=\"text-align: right;\">\n",
       "      <th></th>\n",
       "      <th>id</th>\n",
       "      <th>message_date</th>\n",
       "      <th>user_id</th>\n",
       "    </tr>\n",
       "  </thead>\n",
       "  <tbody>\n",
       "    <tr>\n",
       "      <td>0</td>\n",
       "      <td>1000_0</td>\n",
       "      <td>2018-06-27</td>\n",
       "      <td>1000</td>\n",
       "    </tr>\n",
       "    <tr>\n",
       "      <td>1</td>\n",
       "      <td>1000_1</td>\n",
       "      <td>2018-10-08</td>\n",
       "      <td>1000</td>\n",
       "    </tr>\n",
       "    <tr>\n",
       "      <td>2</td>\n",
       "      <td>1000_2</td>\n",
       "      <td>2018-08-04</td>\n",
       "      <td>1000</td>\n",
       "    </tr>\n",
       "    <tr>\n",
       "      <td>3</td>\n",
       "      <td>1000_3</td>\n",
       "      <td>2018-06-16</td>\n",
       "      <td>1000</td>\n",
       "    </tr>\n",
       "    <tr>\n",
       "      <td>4</td>\n",
       "      <td>1000_4</td>\n",
       "      <td>2018-12-05</td>\n",
       "      <td>1000</td>\n",
       "    </tr>\n",
       "    <tr>\n",
       "      <td>...</td>\n",
       "      <td>...</td>\n",
       "      <td>...</td>\n",
       "      <td>...</td>\n",
       "    </tr>\n",
       "    <tr>\n",
       "      <td>123031</td>\n",
       "      <td>1499_179</td>\n",
       "      <td>2018-12-12</td>\n",
       "      <td>1499</td>\n",
       "    </tr>\n",
       "    <tr>\n",
       "      <td>123032</td>\n",
       "      <td>1499_180</td>\n",
       "      <td>2018-09-28</td>\n",
       "      <td>1499</td>\n",
       "    </tr>\n",
       "    <tr>\n",
       "      <td>123033</td>\n",
       "      <td>1499_181</td>\n",
       "      <td>2018-09-27</td>\n",
       "      <td>1499</td>\n",
       "    </tr>\n",
       "    <tr>\n",
       "      <td>123034</td>\n",
       "      <td>1499_182</td>\n",
       "      <td>2018-11-15</td>\n",
       "      <td>1499</td>\n",
       "    </tr>\n",
       "    <tr>\n",
       "      <td>123035</td>\n",
       "      <td>1499_183</td>\n",
       "      <td>2018-11-16</td>\n",
       "      <td>1499</td>\n",
       "    </tr>\n",
       "  </tbody>\n",
       "</table>\n",
       "<p>123036 rows × 3 columns</p>\n",
       "</div>"
      ],
      "text/plain": [
       "              id message_date  user_id\n",
       "0         1000_0   2018-06-27     1000\n",
       "1         1000_1   2018-10-08     1000\n",
       "2         1000_2   2018-08-04     1000\n",
       "3         1000_3   2018-06-16     1000\n",
       "4         1000_4   2018-12-05     1000\n",
       "...          ...          ...      ...\n",
       "123031  1499_179   2018-12-12     1499\n",
       "123032  1499_180   2018-09-28     1499\n",
       "123033  1499_181   2018-09-27     1499\n",
       "123034  1499_182   2018-11-15     1499\n",
       "123035  1499_183   2018-11-16     1499\n",
       "\n",
       "[123036 rows x 3 columns]"
      ]
     },
     "metadata": {},
     "output_type": "display_data"
    },
    {
     "name": "stdout",
     "output_type": "stream",
     "text": [
      "<class 'pandas.core.frame.DataFrame'>\n",
      "RangeIndex: 123036 entries, 0 to 123035\n",
      "Data columns (total 3 columns):\n",
      "id              123036 non-null object\n",
      "message_date    123036 non-null object\n",
      "user_id         123036 non-null int64\n",
      "dtypes: int64(1), object(2)\n",
      "memory usage: 2.8+ MB\n",
      "\n",
      "Информация по таблице tariffs :\n"
     ]
    },
    {
     "data": {
      "text/html": [
       "<div>\n",
       "<style scoped>\n",
       "    .dataframe tbody tr th:only-of-type {\n",
       "        vertical-align: middle;\n",
       "    }\n",
       "\n",
       "    .dataframe tbody tr th {\n",
       "        vertical-align: top;\n",
       "    }\n",
       "\n",
       "    .dataframe thead th {\n",
       "        text-align: right;\n",
       "    }\n",
       "</style>\n",
       "<table border=\"1\" class=\"dataframe\">\n",
       "  <thead>\n",
       "    <tr style=\"text-align: right;\">\n",
       "      <th></th>\n",
       "      <th>messages_included</th>\n",
       "      <th>mb_per_month_included</th>\n",
       "      <th>minutes_included</th>\n",
       "      <th>rub_monthly_fee</th>\n",
       "      <th>rub_per_gb</th>\n",
       "      <th>rub_per_message</th>\n",
       "      <th>rub_per_minute</th>\n",
       "      <th>tariff_name</th>\n",
       "    </tr>\n",
       "  </thead>\n",
       "  <tbody>\n",
       "    <tr>\n",
       "      <td>0</td>\n",
       "      <td>50</td>\n",
       "      <td>15360</td>\n",
       "      <td>500</td>\n",
       "      <td>550</td>\n",
       "      <td>200</td>\n",
       "      <td>3</td>\n",
       "      <td>3</td>\n",
       "      <td>smart</td>\n",
       "    </tr>\n",
       "    <tr>\n",
       "      <td>1</td>\n",
       "      <td>1000</td>\n",
       "      <td>30720</td>\n",
       "      <td>3000</td>\n",
       "      <td>1950</td>\n",
       "      <td>150</td>\n",
       "      <td>1</td>\n",
       "      <td>1</td>\n",
       "      <td>ultra</td>\n",
       "    </tr>\n",
       "  </tbody>\n",
       "</table>\n",
       "</div>"
      ],
      "text/plain": [
       "   messages_included  mb_per_month_included  minutes_included  \\\n",
       "0                 50                  15360               500   \n",
       "1               1000                  30720              3000   \n",
       "\n",
       "   rub_monthly_fee  rub_per_gb  rub_per_message  rub_per_minute tariff_name  \n",
       "0              550         200                3               3       smart  \n",
       "1             1950         150                1               1       ultra  "
      ]
     },
     "metadata": {},
     "output_type": "display_data"
    },
    {
     "name": "stdout",
     "output_type": "stream",
     "text": [
      "<class 'pandas.core.frame.DataFrame'>\n",
      "RangeIndex: 2 entries, 0 to 1\n",
      "Data columns (total 8 columns):\n",
      "messages_included        2 non-null int64\n",
      "mb_per_month_included    2 non-null int64\n",
      "minutes_included         2 non-null int64\n",
      "rub_monthly_fee          2 non-null int64\n",
      "rub_per_gb               2 non-null int64\n",
      "rub_per_message          2 non-null int64\n",
      "rub_per_minute           2 non-null int64\n",
      "tariff_name              2 non-null object\n",
      "dtypes: int64(7), object(1)\n",
      "memory usage: 256.0+ bytes\n",
      "\n",
      "Информация по таблице users :\n"
     ]
    },
    {
     "data": {
      "text/html": [
       "<div>\n",
       "<style scoped>\n",
       "    .dataframe tbody tr th:only-of-type {\n",
       "        vertical-align: middle;\n",
       "    }\n",
       "\n",
       "    .dataframe tbody tr th {\n",
       "        vertical-align: top;\n",
       "    }\n",
       "\n",
       "    .dataframe thead th {\n",
       "        text-align: right;\n",
       "    }\n",
       "</style>\n",
       "<table border=\"1\" class=\"dataframe\">\n",
       "  <thead>\n",
       "    <tr style=\"text-align: right;\">\n",
       "      <th></th>\n",
       "      <th>user_id</th>\n",
       "      <th>age</th>\n",
       "      <th>churn_date</th>\n",
       "      <th>city</th>\n",
       "      <th>first_name</th>\n",
       "      <th>last_name</th>\n",
       "      <th>reg_date</th>\n",
       "      <th>tariff</th>\n",
       "    </tr>\n",
       "  </thead>\n",
       "  <tbody>\n",
       "    <tr>\n",
       "      <td>0</td>\n",
       "      <td>1000</td>\n",
       "      <td>52</td>\n",
       "      <td>NaN</td>\n",
       "      <td>Краснодар</td>\n",
       "      <td>Рафаил</td>\n",
       "      <td>Верещагин</td>\n",
       "      <td>2018-05-25</td>\n",
       "      <td>ultra</td>\n",
       "    </tr>\n",
       "    <tr>\n",
       "      <td>1</td>\n",
       "      <td>1001</td>\n",
       "      <td>41</td>\n",
       "      <td>NaN</td>\n",
       "      <td>Москва</td>\n",
       "      <td>Иван</td>\n",
       "      <td>Ежов</td>\n",
       "      <td>2018-11-01</td>\n",
       "      <td>smart</td>\n",
       "    </tr>\n",
       "    <tr>\n",
       "      <td>2</td>\n",
       "      <td>1002</td>\n",
       "      <td>59</td>\n",
       "      <td>NaN</td>\n",
       "      <td>Стерлитамак</td>\n",
       "      <td>Евгений</td>\n",
       "      <td>Абрамович</td>\n",
       "      <td>2018-06-17</td>\n",
       "      <td>smart</td>\n",
       "    </tr>\n",
       "    <tr>\n",
       "      <td>3</td>\n",
       "      <td>1003</td>\n",
       "      <td>23</td>\n",
       "      <td>NaN</td>\n",
       "      <td>Москва</td>\n",
       "      <td>Белла</td>\n",
       "      <td>Белякова</td>\n",
       "      <td>2018-08-17</td>\n",
       "      <td>ultra</td>\n",
       "    </tr>\n",
       "    <tr>\n",
       "      <td>4</td>\n",
       "      <td>1004</td>\n",
       "      <td>68</td>\n",
       "      <td>NaN</td>\n",
       "      <td>Новокузнецк</td>\n",
       "      <td>Татьяна</td>\n",
       "      <td>Авдеенко</td>\n",
       "      <td>2018-05-14</td>\n",
       "      <td>ultra</td>\n",
       "    </tr>\n",
       "    <tr>\n",
       "      <td>...</td>\n",
       "      <td>...</td>\n",
       "      <td>...</td>\n",
       "      <td>...</td>\n",
       "      <td>...</td>\n",
       "      <td>...</td>\n",
       "      <td>...</td>\n",
       "      <td>...</td>\n",
       "      <td>...</td>\n",
       "    </tr>\n",
       "    <tr>\n",
       "      <td>495</td>\n",
       "      <td>1495</td>\n",
       "      <td>65</td>\n",
       "      <td>NaN</td>\n",
       "      <td>Иркутск</td>\n",
       "      <td>Авксентий</td>\n",
       "      <td>Фокин</td>\n",
       "      <td>2018-08-28</td>\n",
       "      <td>ultra</td>\n",
       "    </tr>\n",
       "    <tr>\n",
       "      <td>496</td>\n",
       "      <td>1496</td>\n",
       "      <td>36</td>\n",
       "      <td>NaN</td>\n",
       "      <td>Вологда</td>\n",
       "      <td>Трифон</td>\n",
       "      <td>Блохин</td>\n",
       "      <td>2018-01-27</td>\n",
       "      <td>smart</td>\n",
       "    </tr>\n",
       "    <tr>\n",
       "      <td>497</td>\n",
       "      <td>1497</td>\n",
       "      <td>32</td>\n",
       "      <td>NaN</td>\n",
       "      <td>Челябинск</td>\n",
       "      <td>Каролина</td>\n",
       "      <td>Агеева</td>\n",
       "      <td>2018-10-09</td>\n",
       "      <td>smart</td>\n",
       "    </tr>\n",
       "    <tr>\n",
       "      <td>498</td>\n",
       "      <td>1498</td>\n",
       "      <td>68</td>\n",
       "      <td>2018-10-25</td>\n",
       "      <td>Владикавказ</td>\n",
       "      <td>Всеволод</td>\n",
       "      <td>Акимчин</td>\n",
       "      <td>2018-07-19</td>\n",
       "      <td>smart</td>\n",
       "    </tr>\n",
       "    <tr>\n",
       "      <td>499</td>\n",
       "      <td>1499</td>\n",
       "      <td>35</td>\n",
       "      <td>NaN</td>\n",
       "      <td>Пермь</td>\n",
       "      <td>Гектор</td>\n",
       "      <td>Корнилов</td>\n",
       "      <td>2018-09-27</td>\n",
       "      <td>smart</td>\n",
       "    </tr>\n",
       "  </tbody>\n",
       "</table>\n",
       "<p>500 rows × 8 columns</p>\n",
       "</div>"
      ],
      "text/plain": [
       "     user_id  age  churn_date         city first_name  last_name    reg_date  \\\n",
       "0       1000   52         NaN    Краснодар     Рафаил  Верещагин  2018-05-25   \n",
       "1       1001   41         NaN       Москва       Иван       Ежов  2018-11-01   \n",
       "2       1002   59         NaN  Стерлитамак    Евгений  Абрамович  2018-06-17   \n",
       "3       1003   23         NaN       Москва      Белла   Белякова  2018-08-17   \n",
       "4       1004   68         NaN  Новокузнецк    Татьяна   Авдеенко  2018-05-14   \n",
       "..       ...  ...         ...          ...        ...        ...         ...   \n",
       "495     1495   65         NaN      Иркутск  Авксентий      Фокин  2018-08-28   \n",
       "496     1496   36         NaN      Вологда     Трифон     Блохин  2018-01-27   \n",
       "497     1497   32         NaN    Челябинск   Каролина     Агеева  2018-10-09   \n",
       "498     1498   68  2018-10-25  Владикавказ   Всеволод    Акимчин  2018-07-19   \n",
       "499     1499   35         NaN        Пермь     Гектор   Корнилов  2018-09-27   \n",
       "\n",
       "    tariff  \n",
       "0    ultra  \n",
       "1    smart  \n",
       "2    smart  \n",
       "3    ultra  \n",
       "4    ultra  \n",
       "..     ...  \n",
       "495  ultra  \n",
       "496  smart  \n",
       "497  smart  \n",
       "498  smart  \n",
       "499  smart  \n",
       "\n",
       "[500 rows x 8 columns]"
      ]
     },
     "metadata": {},
     "output_type": "display_data"
    },
    {
     "name": "stdout",
     "output_type": "stream",
     "text": [
      "<class 'pandas.core.frame.DataFrame'>\n",
      "RangeIndex: 500 entries, 0 to 499\n",
      "Data columns (total 8 columns):\n",
      "user_id       500 non-null int64\n",
      "age           500 non-null int64\n",
      "churn_date    38 non-null object\n",
      "city          500 non-null object\n",
      "first_name    500 non-null object\n",
      "last_name     500 non-null object\n",
      "reg_date      500 non-null object\n",
      "tariff        500 non-null object\n",
      "dtypes: int64(2), object(6)\n",
      "memory usage: 31.4+ KB\n",
      "\n"
     ]
    }
   ],
   "source": [
    "table_of_tables = [calls, internet, messages, tariffs, users]\n",
    "name_of_tables = ['calls', 'internet', 'messages', 'tariffs', 'users' ]\n",
    "for item in range(len(table_of_tables)):\n",
    "    print('Информация по таблице', name_of_tables[item],':')\n",
    "    display(table_of_tables[item])\n",
    "    table_of_tables[item].info()\n",
    "    print()"
   ]
  },
  {
   "cell_type": "markdown",
   "metadata": {},
   "source": [
    "Описание данных в таблицах и комментарии по тем, данным, на которые стоит обратить внимание:\n",
    "\n",
    "**Таблица calls (информация о звонках)**:\n",
    "- id           202607 non-null object — уникальный номер звонка\n",
    "- call_date    202607 non-null object — дата звонка **преобразовать в дату**\n",
    "- duration     202607 non-null float64 — длительность звонка в минутах **округлить до мин и преобразовать в int**\n",
    "- user_id      202607 non-null int64 — идентификатор пользователя, сделавшего звонок\n",
    "\n",
    "\n",
    "**Таблица internet (информация об интернет-сессиях):**\n",
    "\n",
    "- id              149396 non-null object — уникальный номер сессии\n",
    "- mb_used         149396 non-null float64 — объём потраченного за сессию интернет-трафика (в мегабайтах) \n",
    "- session_date    149396 non-null object — дата интернет-сессии **преобразовать в дату**\n",
    "- user_id         149396 non-null int64 — идентификатор пользователя\n",
    "\n",
    "\n",
    "**Таблица messages (информация о сообщениях):**\n",
    "\n",
    "- id              123036 non-null object — уникальный номер сообщения\n",
    "- message_date    123036 non-null object — дата сообщения **преобразовать в дату**\n",
    "- user_id         123036 non-null int64 — идентификатор пользователя, отправившего сообщение\n",
    "\n",
    "\n",
    "**Таблица tariffs (информация о тарифах):**\n",
    "\n",
    "- tariff_name — название тарифа\n",
    "- rub_monthly_fee — ежемесячная абонентская плата в рублях\n",
    "- minutes_included — количество минут разговора в месяц, включённых в абонентскую плату\n",
    "- messages_included — количество сообщений в месяц, включённых в абонентскую плату\n",
    "- mb_per_month_included — объём интернет-трафика, включённого в абонентскую плату (в мегабайтах)\n",
    "- rub_per_minute — стоимость минуты разговора сверх тарифного пакета (например, если в тарифе 100 минут разговора в месяц, то со 101 минуты будет взиматься плата)\n",
    "- rub_per_message — стоимость отправки сообщения сверх тарифного пакета\n",
    "- rub_per_gb — стоимость дополнительного гигабайта интернет-трафика сверх тарифного пакета (1 гигабайт = 1024 мегабайта)\n",
    "\n",
    "**Таблица users (информация о пользователях):**\n",
    "\n",
    "- user_id       500 non-null int64 — уникальный идентификатор пользователя\n",
    "- first_name    500 non-null object — имя пользователя\n",
    "- last_name     500 non-null object — фамилия пользователя\n",
    "- age           500 non-null int64 — возраст пользователя (годы)\n",
    "- reg_date      500 non-null object — дата подключения тарифа (день, месяц, год)\n",
    "- churn_date    38 non-null object — дата прекращения пользования тарифом (если значение пропущено, то тариф ещё действовал на момент выгрузки данных)\n",
    "- city — город проживания пользователя\n",
    "- tariff        500 non-null object — название тарифного плана"
   ]
  },
  {
   "cell_type": "markdown",
   "metadata": {},
   "source": [
    "## Подготовка пользовательских данных ##"
   ]
  },
  {
   "cell_type": "markdown",
   "metadata": {},
   "source": [
    "Привем данные к нужным типам, а также Найдем и исправиме ошибки в них.\n",
    "\n",
    "В таблицах \"calls\", \"internet\", \"messages\" и \"users\" значения стобцов, в которых указаны даты требуют преобразования типов данных из object в date:"
   ]
  },
  {
   "cell_type": "code",
   "execution_count": 4,
   "metadata": {},
   "outputs": [],
   "source": [
    "calls['call_date'] = pd.to_datetime(calls['call_date'], format = '%Y-%m-%d')\n",
    "internet['session_date'] = pd.to_datetime(internet['session_date'], format = '%Y-%m-%d')\n",
    "messages['message_date'] = pd.to_datetime(messages['message_date'], format = '%Y-%m-%d')\n",
    "users['reg_date'] = pd.to_datetime(users['reg_date'], format = '%Y-%m-%d')"
   ]
  },
  {
   "cell_type": "markdown",
   "metadata": {},
   "source": [
    "В таблице \"tariffs\" произведем переименование столбца тариф, это поможет в дальнейшем для объединения таблиц по этому столбцу"
   ]
  },
  {
   "cell_type": "code",
   "execution_count": 5,
   "metadata": {},
   "outputs": [
    {
     "data": {
      "text/html": [
       "<div>\n",
       "<style scoped>\n",
       "    .dataframe tbody tr th:only-of-type {\n",
       "        vertical-align: middle;\n",
       "    }\n",
       "\n",
       "    .dataframe tbody tr th {\n",
       "        vertical-align: top;\n",
       "    }\n",
       "\n",
       "    .dataframe thead th {\n",
       "        text-align: right;\n",
       "    }\n",
       "</style>\n",
       "<table border=\"1\" class=\"dataframe\">\n",
       "  <thead>\n",
       "    <tr style=\"text-align: right;\">\n",
       "      <th></th>\n",
       "      <th>messages_included</th>\n",
       "      <th>mb_per_month_included</th>\n",
       "      <th>minutes_included</th>\n",
       "      <th>rub_monthly_fee</th>\n",
       "      <th>rub_per_gb</th>\n",
       "      <th>rub_per_message</th>\n",
       "      <th>rub_per_minute</th>\n",
       "      <th>tariff</th>\n",
       "    </tr>\n",
       "  </thead>\n",
       "  <tbody>\n",
       "    <tr>\n",
       "      <td>0</td>\n",
       "      <td>50</td>\n",
       "      <td>15360</td>\n",
       "      <td>500</td>\n",
       "      <td>550</td>\n",
       "      <td>200</td>\n",
       "      <td>3</td>\n",
       "      <td>3</td>\n",
       "      <td>smart</td>\n",
       "    </tr>\n",
       "    <tr>\n",
       "      <td>1</td>\n",
       "      <td>1000</td>\n",
       "      <td>30720</td>\n",
       "      <td>3000</td>\n",
       "      <td>1950</td>\n",
       "      <td>150</td>\n",
       "      <td>1</td>\n",
       "      <td>1</td>\n",
       "      <td>ultra</td>\n",
       "    </tr>\n",
       "  </tbody>\n",
       "</table>\n",
       "</div>"
      ],
      "text/plain": [
       "   messages_included  mb_per_month_included  minutes_included  \\\n",
       "0                 50                  15360               500   \n",
       "1               1000                  30720              3000   \n",
       "\n",
       "   rub_monthly_fee  rub_per_gb  rub_per_message  rub_per_minute tariff  \n",
       "0              550         200                3               3  smart  \n",
       "1             1950         150                1               1  ultra  "
      ]
     },
     "execution_count": 5,
     "metadata": {},
     "output_type": "execute_result"
    }
   ],
   "source": [
    "tariffs = tariffs.rename(columns={'tariff_name':'tariff'})\n",
    "tariffs"
   ]
  },
  {
   "cell_type": "markdown",
   "metadata": {},
   "source": [
    "«Мегалайн» всегда округляет секунды до минут.Каждый звонок округляется отдельно: даже если он длился всего 1 секунду, будет засчитан как 1 минута.\n",
    "Округлим значения столбца в большую сторону и преобразуем данные в целочисленный тип значений"
   ]
  },
  {
   "cell_type": "code",
   "execution_count": 6,
   "metadata": {
    "scrolled": true
   },
   "outputs": [
    {
     "name": "stdout",
     "output_type": "stream",
     "text": [
      "Значения столбца до преобразования: \n",
      " 0     0.00\n",
      "1     0.00\n",
      "2     2.85\n",
      "3    13.80\n",
      "4     5.18\n",
      "Name: duration, dtype: float64\n",
      "Значения столбца после преобразования: \n",
      " 0     0\n",
      "1     0\n",
      "2     3\n",
      "3    14\n",
      "4     6\n",
      "Name: duration, dtype: int64\n"
     ]
    }
   ],
   "source": [
    "print('Значения столбца до преобразования: \\n',calls['duration'].head())\n",
    "calls['duration'] = np.ceil(calls['duration'])\n",
    "calls['duration'] = calls['duration'].astype('int')\n",
    "print('Значения столбца после преобразования: \\n', calls['duration'].head())"
   ]
  },
  {
   "cell_type": "markdown",
   "metadata": {},
   "source": [
    "В таблице 'calls' в столбце duration присутствуют нулевые значения: так обозначены пропущенные звонки. \n",
    "\n",
    "Проверим нулевые значения в таблице 'internet':"
   ]
  },
  {
   "cell_type": "code",
   "execution_count": 7,
   "metadata": {
    "scrolled": true
   },
   "outputs": [
    {
     "name": "stdout",
     "output_type": "stream",
     "text": [
      "19598\n"
     ]
    },
    {
     "data": {
      "text/html": [
       "<div>\n",
       "<style scoped>\n",
       "    .dataframe tbody tr th:only-of-type {\n",
       "        vertical-align: middle;\n",
       "    }\n",
       "\n",
       "    .dataframe tbody tr th {\n",
       "        vertical-align: top;\n",
       "    }\n",
       "\n",
       "    .dataframe thead th {\n",
       "        text-align: right;\n",
       "    }\n",
       "</style>\n",
       "<table border=\"1\" class=\"dataframe\">\n",
       "  <thead>\n",
       "    <tr style=\"text-align: right;\">\n",
       "      <th></th>\n",
       "      <th>id</th>\n",
       "      <th>mb_used</th>\n",
       "      <th>session_date</th>\n",
       "      <th>user_id</th>\n",
       "    </tr>\n",
       "  </thead>\n",
       "  <tbody>\n",
       "    <tr>\n",
       "      <td>11</td>\n",
       "      <td>1000_11</td>\n",
       "      <td>0.0</td>\n",
       "      <td>2018-08-28</td>\n",
       "      <td>1000</td>\n",
       "    </tr>\n",
       "    <tr>\n",
       "      <td>38</td>\n",
       "      <td>1000_38</td>\n",
       "      <td>0.0</td>\n",
       "      <td>2018-11-27</td>\n",
       "      <td>1000</td>\n",
       "    </tr>\n",
       "    <tr>\n",
       "      <td>46</td>\n",
       "      <td>1000_46</td>\n",
       "      <td>0.0</td>\n",
       "      <td>2018-06-30</td>\n",
       "      <td>1000</td>\n",
       "    </tr>\n",
       "    <tr>\n",
       "      <td>67</td>\n",
       "      <td>1000_67</td>\n",
       "      <td>0.0</td>\n",
       "      <td>2018-06-16</td>\n",
       "      <td>1000</td>\n",
       "    </tr>\n",
       "    <tr>\n",
       "      <td>72</td>\n",
       "      <td>1000_72</td>\n",
       "      <td>0.0</td>\n",
       "      <td>2018-06-15</td>\n",
       "      <td>1000</td>\n",
       "    </tr>\n",
       "  </tbody>\n",
       "</table>\n",
       "</div>"
      ],
      "text/plain": [
       "         id  mb_used session_date  user_id\n",
       "11  1000_11      0.0   2018-08-28     1000\n",
       "38  1000_38      0.0   2018-11-27     1000\n",
       "46  1000_46      0.0   2018-06-30     1000\n",
       "67  1000_67      0.0   2018-06-16     1000\n",
       "72  1000_72      0.0   2018-06-15     1000"
      ]
     },
     "execution_count": 7,
     "metadata": {},
     "output_type": "execute_result"
    }
   ],
   "source": [
    "print(internet[internet['mb_used'] == 0]['mb_used'].count())\n",
    "internet[internet['mb_used'] == 0].head()"
   ]
  },
  {
   "cell_type": "markdown",
   "metadata": {},
   "source": [
    "В значениях интернет-трафика, потраченного за сессию, числится 19598 нулевых. Причина их появления скорее всего особенность билинговой системы. Поскольку эти значения не несут никакой полезной информации, уберем их:"
   ]
  },
  {
   "cell_type": "code",
   "execution_count": 8,
   "metadata": {},
   "outputs": [
    {
     "name": "stdout",
     "output_type": "stream",
     "text": [
      "Информация по таблице до удаления нулевых значений \n",
      "\n",
      "<class 'pandas.core.frame.DataFrame'>\n",
      "Int64Index: 149396 entries, 0 to 149395\n",
      "Data columns (total 4 columns):\n",
      "id              149396 non-null object\n",
      "mb_used         149396 non-null float64\n",
      "session_date    149396 non-null datetime64[ns]\n",
      "user_id         149396 non-null int64\n",
      "dtypes: datetime64[ns](1), float64(1), int64(1), object(1)\n",
      "memory usage: 5.7+ MB\n",
      " \n",
      " Информация по таблице до удаления нулевых значений \n",
      "\n",
      "<class 'pandas.core.frame.DataFrame'>\n",
      "RangeIndex: 129798 entries, 0 to 129797\n",
      "Data columns (total 4 columns):\n",
      "id              129798 non-null object\n",
      "mb_used         129798 non-null float64\n",
      "session_date    129798 non-null datetime64[ns]\n",
      "user_id         129798 non-null int64\n",
      "dtypes: datetime64[ns](1), float64(1), int64(1), object(1)\n",
      "memory usage: 4.0+ MB\n"
     ]
    }
   ],
   "source": [
    "print(\"Информация по таблице до удаления нулевых значений \\n\") \n",
    "internet.info()\n",
    "internet = internet.query(\"mb_used != 0\").reset_index(drop=True)\n",
    "print(\" \\n Информация по таблице до удаления нулевых значений \\n\")\n",
    "internet.info()"
   ]
  },
  {
   "cell_type": "markdown",
   "metadata": {},
   "source": [
    "- user_id       500 non-null int64 — уникальный идентификатор пользователя\n",
    "- first_name    500 non-null object — имя пользователя\n",
    "- last_name     500 non-null object — фамилия пользователя\n",
    "- age           500 non-null int64 — возраст пользователя (годы)\n",
    "- reg_date      500 non-null object — дата подключения тарифа (день, месяц, год)\n",
    "- churn_date    38 non-null object — дата прекращения пользования тарифом (если значение пропущено, то тариф ещё действовал на момент выгрузки данных)\n",
    "- city — город проживания пользователя\n",
    "- tariff        500 non-null object — название тарифного плана"
   ]
  },
  {
   "cell_type": "code",
   "execution_count": 9,
   "metadata": {},
   "outputs": [
    {
     "name": "stdout",
     "output_type": "stream",
     "text": [
      "<class 'pandas.core.frame.DataFrame'>\n",
      "RangeIndex: 500 entries, 0 to 499\n",
      "Data columns (total 8 columns):\n",
      "user_id       500 non-null int64\n",
      "age           500 non-null int64\n",
      "churn_date    38 non-null object\n",
      "city          500 non-null object\n",
      "first_name    500 non-null object\n",
      "last_name     500 non-null object\n",
      "reg_date      500 non-null datetime64[ns]\n",
      "tariff        500 non-null object\n",
      "dtypes: datetime64[ns](1), int64(2), object(5)\n",
      "memory usage: 31.4+ KB\n"
     ]
    }
   ],
   "source": [
    "users.info()"
   ]
  },
  {
   "cell_type": "markdown",
   "metadata": {},
   "source": [
    "Нам предстоит посчитать для каждого пользователя:\n",
    "- количество сделанных звонков и израсходованных минут разговора по месяцам;\n",
    "- количество отправленных сообщений по месяцам;\n",
    "- объем израсходованного интернет-трафика по месяцам;\n",
    "- помесячную выручку с каждого пользователя (вычесть бесплатный лимит из суммарного количества звонков, сообщений и интернет-трафика; остаток умножить на значение из тарифного плана; прибавить абонентскую плату, соответствующую тарифному плану).\n",
    "\n",
    "А для это в таблицах не хватает данных - месяца, в котором совершаются операции.\n",
    "В таблицах \"calls\", \"internet\" и \"messages\" добавим столбец \"month\" и сгруппируем каждую таблицу по пользователям и месяцам, в которых были совершены действия.\n"
   ]
  },
  {
   "cell_type": "code",
   "execution_count": 10,
   "metadata": {
    "scrolled": false
   },
   "outputs": [
    {
     "data": {
      "text/html": [
       "<div>\n",
       "<style scoped>\n",
       "    .dataframe tbody tr th:only-of-type {\n",
       "        vertical-align: middle;\n",
       "    }\n",
       "\n",
       "    .dataframe tbody tr th {\n",
       "        vertical-align: top;\n",
       "    }\n",
       "\n",
       "    .dataframe thead th {\n",
       "        text-align: right;\n",
       "    }\n",
       "</style>\n",
       "<table border=\"1\" class=\"dataframe\">\n",
       "  <thead>\n",
       "    <tr style=\"text-align: right;\">\n",
       "      <th></th>\n",
       "      <th>id</th>\n",
       "      <th>call_date</th>\n",
       "      <th>duration</th>\n",
       "      <th>user_id</th>\n",
       "      <th>month</th>\n",
       "    </tr>\n",
       "  </thead>\n",
       "  <tbody>\n",
       "    <tr>\n",
       "      <td>0</td>\n",
       "      <td>1000_0</td>\n",
       "      <td>2018-07-25</td>\n",
       "      <td>0</td>\n",
       "      <td>1000</td>\n",
       "      <td>7</td>\n",
       "    </tr>\n",
       "    <tr>\n",
       "      <td>1</td>\n",
       "      <td>1000_1</td>\n",
       "      <td>2018-08-17</td>\n",
       "      <td>0</td>\n",
       "      <td>1000</td>\n",
       "      <td>8</td>\n",
       "    </tr>\n",
       "    <tr>\n",
       "      <td>2</td>\n",
       "      <td>1000_2</td>\n",
       "      <td>2018-06-11</td>\n",
       "      <td>3</td>\n",
       "      <td>1000</td>\n",
       "      <td>6</td>\n",
       "    </tr>\n",
       "    <tr>\n",
       "      <td>3</td>\n",
       "      <td>1000_3</td>\n",
       "      <td>2018-09-21</td>\n",
       "      <td>14</td>\n",
       "      <td>1000</td>\n",
       "      <td>9</td>\n",
       "    </tr>\n",
       "    <tr>\n",
       "      <td>4</td>\n",
       "      <td>1000_4</td>\n",
       "      <td>2018-12-15</td>\n",
       "      <td>6</td>\n",
       "      <td>1000</td>\n",
       "      <td>12</td>\n",
       "    </tr>\n",
       "  </tbody>\n",
       "</table>\n",
       "</div>"
      ],
      "text/plain": [
       "       id  call_date  duration  user_id  month\n",
       "0  1000_0 2018-07-25         0     1000      7\n",
       "1  1000_1 2018-08-17         0     1000      8\n",
       "2  1000_2 2018-06-11         3     1000      6\n",
       "3  1000_3 2018-09-21        14     1000      9\n",
       "4  1000_4 2018-12-15         6     1000     12"
      ]
     },
     "metadata": {},
     "output_type": "display_data"
    },
    {
     "data": {
      "text/html": [
       "<div>\n",
       "<style scoped>\n",
       "    .dataframe tbody tr th:only-of-type {\n",
       "        vertical-align: middle;\n",
       "    }\n",
       "\n",
       "    .dataframe tbody tr th {\n",
       "        vertical-align: top;\n",
       "    }\n",
       "\n",
       "    .dataframe thead th {\n",
       "        text-align: right;\n",
       "    }\n",
       "</style>\n",
       "<table border=\"1\" class=\"dataframe\">\n",
       "  <thead>\n",
       "    <tr style=\"text-align: right;\">\n",
       "      <th></th>\n",
       "      <th>id</th>\n",
       "      <th>mb_used</th>\n",
       "      <th>session_date</th>\n",
       "      <th>user_id</th>\n",
       "      <th>month</th>\n",
       "    </tr>\n",
       "  </thead>\n",
       "  <tbody>\n",
       "    <tr>\n",
       "      <td>0</td>\n",
       "      <td>1000_0</td>\n",
       "      <td>112.95</td>\n",
       "      <td>2018-11-25</td>\n",
       "      <td>1000</td>\n",
       "      <td>11</td>\n",
       "    </tr>\n",
       "    <tr>\n",
       "      <td>1</td>\n",
       "      <td>1000_1</td>\n",
       "      <td>1052.81</td>\n",
       "      <td>2018-09-07</td>\n",
       "      <td>1000</td>\n",
       "      <td>9</td>\n",
       "    </tr>\n",
       "    <tr>\n",
       "      <td>2</td>\n",
       "      <td>1000_2</td>\n",
       "      <td>1197.26</td>\n",
       "      <td>2018-06-25</td>\n",
       "      <td>1000</td>\n",
       "      <td>6</td>\n",
       "    </tr>\n",
       "    <tr>\n",
       "      <td>3</td>\n",
       "      <td>1000_3</td>\n",
       "      <td>550.27</td>\n",
       "      <td>2018-08-22</td>\n",
       "      <td>1000</td>\n",
       "      <td>8</td>\n",
       "    </tr>\n",
       "    <tr>\n",
       "      <td>4</td>\n",
       "      <td>1000_4</td>\n",
       "      <td>302.56</td>\n",
       "      <td>2018-09-24</td>\n",
       "      <td>1000</td>\n",
       "      <td>9</td>\n",
       "    </tr>\n",
       "  </tbody>\n",
       "</table>\n",
       "</div>"
      ],
      "text/plain": [
       "       id  mb_used session_date  user_id  month\n",
       "0  1000_0   112.95   2018-11-25     1000     11\n",
       "1  1000_1  1052.81   2018-09-07     1000      9\n",
       "2  1000_2  1197.26   2018-06-25     1000      6\n",
       "3  1000_3   550.27   2018-08-22     1000      8\n",
       "4  1000_4   302.56   2018-09-24     1000      9"
      ]
     },
     "metadata": {},
     "output_type": "display_data"
    },
    {
     "data": {
      "text/html": [
       "<div>\n",
       "<style scoped>\n",
       "    .dataframe tbody tr th:only-of-type {\n",
       "        vertical-align: middle;\n",
       "    }\n",
       "\n",
       "    .dataframe tbody tr th {\n",
       "        vertical-align: top;\n",
       "    }\n",
       "\n",
       "    .dataframe thead th {\n",
       "        text-align: right;\n",
       "    }\n",
       "</style>\n",
       "<table border=\"1\" class=\"dataframe\">\n",
       "  <thead>\n",
       "    <tr style=\"text-align: right;\">\n",
       "      <th></th>\n",
       "      <th>id</th>\n",
       "      <th>message_date</th>\n",
       "      <th>user_id</th>\n",
       "      <th>month</th>\n",
       "    </tr>\n",
       "  </thead>\n",
       "  <tbody>\n",
       "    <tr>\n",
       "      <td>0</td>\n",
       "      <td>1000_0</td>\n",
       "      <td>2018-06-27</td>\n",
       "      <td>1000</td>\n",
       "      <td>6</td>\n",
       "    </tr>\n",
       "    <tr>\n",
       "      <td>1</td>\n",
       "      <td>1000_1</td>\n",
       "      <td>2018-10-08</td>\n",
       "      <td>1000</td>\n",
       "      <td>10</td>\n",
       "    </tr>\n",
       "    <tr>\n",
       "      <td>2</td>\n",
       "      <td>1000_2</td>\n",
       "      <td>2018-08-04</td>\n",
       "      <td>1000</td>\n",
       "      <td>8</td>\n",
       "    </tr>\n",
       "    <tr>\n",
       "      <td>3</td>\n",
       "      <td>1000_3</td>\n",
       "      <td>2018-06-16</td>\n",
       "      <td>1000</td>\n",
       "      <td>6</td>\n",
       "    </tr>\n",
       "    <tr>\n",
       "      <td>4</td>\n",
       "      <td>1000_4</td>\n",
       "      <td>2018-12-05</td>\n",
       "      <td>1000</td>\n",
       "      <td>12</td>\n",
       "    </tr>\n",
       "  </tbody>\n",
       "</table>\n",
       "</div>"
      ],
      "text/plain": [
       "       id message_date  user_id  month\n",
       "0  1000_0   2018-06-27     1000      6\n",
       "1  1000_1   2018-10-08     1000     10\n",
       "2  1000_2   2018-08-04     1000      8\n",
       "3  1000_3   2018-06-16     1000      6\n",
       "4  1000_4   2018-12-05     1000     12"
      ]
     },
     "metadata": {},
     "output_type": "display_data"
    }
   ],
   "source": [
    "calls['month'] = pd.DatetimeIndex(calls['call_date']).month\n",
    "internet['month'] = pd.DatetimeIndex(internet['session_date']).month\n",
    "messages['month'] = pd.DatetimeIndex(messages['message_date']).month\n",
    "display(calls.head(),internet.head(),messages.head())"
   ]
  },
  {
   "cell_type": "code",
   "execution_count": 11,
   "metadata": {
    "scrolled": false
   },
   "outputs": [
    {
     "data": {
      "text/plain": [
       "'Сгруппированная таблица calls'"
      ]
     },
     "metadata": {},
     "output_type": "display_data"
    },
    {
     "data": {
      "text/html": [
       "<div>\n",
       "<style scoped>\n",
       "    .dataframe tbody tr th:only-of-type {\n",
       "        vertical-align: middle;\n",
       "    }\n",
       "\n",
       "    .dataframe tbody tr th {\n",
       "        vertical-align: top;\n",
       "    }\n",
       "\n",
       "    .dataframe thead th {\n",
       "        text-align: right;\n",
       "    }\n",
       "</style>\n",
       "<table border=\"1\" class=\"dataframe\">\n",
       "  <thead>\n",
       "    <tr style=\"text-align: right;\">\n",
       "      <th></th>\n",
       "      <th>user_id</th>\n",
       "      <th>month</th>\n",
       "      <th>duration</th>\n",
       "    </tr>\n",
       "  </thead>\n",
       "  <tbody>\n",
       "    <tr>\n",
       "      <td>0</td>\n",
       "      <td>1000</td>\n",
       "      <td>5</td>\n",
       "      <td>159</td>\n",
       "    </tr>\n",
       "    <tr>\n",
       "      <td>1</td>\n",
       "      <td>1000</td>\n",
       "      <td>6</td>\n",
       "      <td>172</td>\n",
       "    </tr>\n",
       "    <tr>\n",
       "      <td>2</td>\n",
       "      <td>1000</td>\n",
       "      <td>7</td>\n",
       "      <td>340</td>\n",
       "    </tr>\n",
       "    <tr>\n",
       "      <td>3</td>\n",
       "      <td>1000</td>\n",
       "      <td>8</td>\n",
       "      <td>408</td>\n",
       "    </tr>\n",
       "    <tr>\n",
       "      <td>4</td>\n",
       "      <td>1000</td>\n",
       "      <td>9</td>\n",
       "      <td>466</td>\n",
       "    </tr>\n",
       "    <tr>\n",
       "      <td>...</td>\n",
       "      <td>...</td>\n",
       "      <td>...</td>\n",
       "      <td>...</td>\n",
       "    </tr>\n",
       "    <tr>\n",
       "      <td>3169</td>\n",
       "      <td>1498</td>\n",
       "      <td>10</td>\n",
       "      <td>247</td>\n",
       "    </tr>\n",
       "    <tr>\n",
       "      <td>3170</td>\n",
       "      <td>1499</td>\n",
       "      <td>9</td>\n",
       "      <td>70</td>\n",
       "    </tr>\n",
       "    <tr>\n",
       "      <td>3171</td>\n",
       "      <td>1499</td>\n",
       "      <td>10</td>\n",
       "      <td>449</td>\n",
       "    </tr>\n",
       "    <tr>\n",
       "      <td>3172</td>\n",
       "      <td>1499</td>\n",
       "      <td>11</td>\n",
       "      <td>612</td>\n",
       "    </tr>\n",
       "    <tr>\n",
       "      <td>3173</td>\n",
       "      <td>1499</td>\n",
       "      <td>12</td>\n",
       "      <td>492</td>\n",
       "    </tr>\n",
       "  </tbody>\n",
       "</table>\n",
       "<p>3174 rows × 3 columns</p>\n",
       "</div>"
      ],
      "text/plain": [
       "      user_id  month  duration\n",
       "0        1000      5       159\n",
       "1        1000      6       172\n",
       "2        1000      7       340\n",
       "3        1000      8       408\n",
       "4        1000      9       466\n",
       "...       ...    ...       ...\n",
       "3169     1498     10       247\n",
       "3170     1499      9        70\n",
       "3171     1499     10       449\n",
       "3172     1499     11       612\n",
       "3173     1499     12       492\n",
       "\n",
       "[3174 rows x 3 columns]"
      ]
     },
     "metadata": {},
     "output_type": "display_data"
    },
    {
     "data": {
      "text/plain": [
       "'Сгруппированная таблица internet'"
      ]
     },
     "metadata": {},
     "output_type": "display_data"
    },
    {
     "data": {
      "text/html": [
       "<div>\n",
       "<style scoped>\n",
       "    .dataframe tbody tr th:only-of-type {\n",
       "        vertical-align: middle;\n",
       "    }\n",
       "\n",
       "    .dataframe tbody tr th {\n",
       "        vertical-align: top;\n",
       "    }\n",
       "\n",
       "    .dataframe thead th {\n",
       "        text-align: right;\n",
       "    }\n",
       "</style>\n",
       "<table border=\"1\" class=\"dataframe\">\n",
       "  <thead>\n",
       "    <tr style=\"text-align: right;\">\n",
       "      <th></th>\n",
       "      <th>user_id</th>\n",
       "      <th>month</th>\n",
       "      <th>mb_used</th>\n",
       "    </tr>\n",
       "  </thead>\n",
       "  <tbody>\n",
       "    <tr>\n",
       "      <td>0</td>\n",
       "      <td>1000</td>\n",
       "      <td>5</td>\n",
       "      <td>2253.49</td>\n",
       "    </tr>\n",
       "    <tr>\n",
       "      <td>1</td>\n",
       "      <td>1000</td>\n",
       "      <td>6</td>\n",
       "      <td>23233.77</td>\n",
       "    </tr>\n",
       "    <tr>\n",
       "      <td>2</td>\n",
       "      <td>1000</td>\n",
       "      <td>7</td>\n",
       "      <td>14003.64</td>\n",
       "    </tr>\n",
       "    <tr>\n",
       "      <td>3</td>\n",
       "      <td>1000</td>\n",
       "      <td>8</td>\n",
       "      <td>14055.93</td>\n",
       "    </tr>\n",
       "    <tr>\n",
       "      <td>4</td>\n",
       "      <td>1000</td>\n",
       "      <td>9</td>\n",
       "      <td>14568.91</td>\n",
       "    </tr>\n",
       "    <tr>\n",
       "      <td>...</td>\n",
       "      <td>...</td>\n",
       "      <td>...</td>\n",
       "      <td>...</td>\n",
       "    </tr>\n",
       "    <tr>\n",
       "      <td>3196</td>\n",
       "      <td>1498</td>\n",
       "      <td>10</td>\n",
       "      <td>20579.36</td>\n",
       "    </tr>\n",
       "    <tr>\n",
       "      <td>3197</td>\n",
       "      <td>1499</td>\n",
       "      <td>9</td>\n",
       "      <td>1845.75</td>\n",
       "    </tr>\n",
       "    <tr>\n",
       "      <td>3198</td>\n",
       "      <td>1499</td>\n",
       "      <td>10</td>\n",
       "      <td>17788.51</td>\n",
       "    </tr>\n",
       "    <tr>\n",
       "      <td>3199</td>\n",
       "      <td>1499</td>\n",
       "      <td>11</td>\n",
       "      <td>17963.31</td>\n",
       "    </tr>\n",
       "    <tr>\n",
       "      <td>3200</td>\n",
       "      <td>1499</td>\n",
       "      <td>12</td>\n",
       "      <td>13055.58</td>\n",
       "    </tr>\n",
       "  </tbody>\n",
       "</table>\n",
       "<p>3201 rows × 3 columns</p>\n",
       "</div>"
      ],
      "text/plain": [
       "      user_id  month   mb_used\n",
       "0        1000      5   2253.49\n",
       "1        1000      6  23233.77\n",
       "2        1000      7  14003.64\n",
       "3        1000      8  14055.93\n",
       "4        1000      9  14568.91\n",
       "...       ...    ...       ...\n",
       "3196     1498     10  20579.36\n",
       "3197     1499      9   1845.75\n",
       "3198     1499     10  17788.51\n",
       "3199     1499     11  17963.31\n",
       "3200     1499     12  13055.58\n",
       "\n",
       "[3201 rows x 3 columns]"
      ]
     },
     "metadata": {},
     "output_type": "display_data"
    },
    {
     "data": {
      "text/plain": [
       "'Сгруппированная таблица messages'"
      ]
     },
     "metadata": {},
     "output_type": "display_data"
    },
    {
     "data": {
      "text/html": [
       "<div>\n",
       "<style scoped>\n",
       "    .dataframe tbody tr th:only-of-type {\n",
       "        vertical-align: middle;\n",
       "    }\n",
       "\n",
       "    .dataframe tbody tr th {\n",
       "        vertical-align: top;\n",
       "    }\n",
       "\n",
       "    .dataframe thead th {\n",
       "        text-align: right;\n",
       "    }\n",
       "</style>\n",
       "<table border=\"1\" class=\"dataframe\">\n",
       "  <thead>\n",
       "    <tr style=\"text-align: right;\">\n",
       "      <th></th>\n",
       "      <th>user_id</th>\n",
       "      <th>month</th>\n",
       "      <th>id</th>\n",
       "    </tr>\n",
       "  </thead>\n",
       "  <tbody>\n",
       "    <tr>\n",
       "      <td>0</td>\n",
       "      <td>1000</td>\n",
       "      <td>5</td>\n",
       "      <td>22</td>\n",
       "    </tr>\n",
       "    <tr>\n",
       "      <td>1</td>\n",
       "      <td>1000</td>\n",
       "      <td>6</td>\n",
       "      <td>60</td>\n",
       "    </tr>\n",
       "    <tr>\n",
       "      <td>2</td>\n",
       "      <td>1000</td>\n",
       "      <td>7</td>\n",
       "      <td>75</td>\n",
       "    </tr>\n",
       "    <tr>\n",
       "      <td>3</td>\n",
       "      <td>1000</td>\n",
       "      <td>8</td>\n",
       "      <td>81</td>\n",
       "    </tr>\n",
       "    <tr>\n",
       "      <td>4</td>\n",
       "      <td>1000</td>\n",
       "      <td>9</td>\n",
       "      <td>57</td>\n",
       "    </tr>\n",
       "    <tr>\n",
       "      <td>...</td>\n",
       "      <td>...</td>\n",
       "      <td>...</td>\n",
       "      <td>...</td>\n",
       "    </tr>\n",
       "    <tr>\n",
       "      <td>2712</td>\n",
       "      <td>1498</td>\n",
       "      <td>10</td>\n",
       "      <td>42</td>\n",
       "    </tr>\n",
       "    <tr>\n",
       "      <td>2713</td>\n",
       "      <td>1499</td>\n",
       "      <td>9</td>\n",
       "      <td>11</td>\n",
       "    </tr>\n",
       "    <tr>\n",
       "      <td>2714</td>\n",
       "      <td>1499</td>\n",
       "      <td>10</td>\n",
       "      <td>48</td>\n",
       "    </tr>\n",
       "    <tr>\n",
       "      <td>2715</td>\n",
       "      <td>1499</td>\n",
       "      <td>11</td>\n",
       "      <td>59</td>\n",
       "    </tr>\n",
       "    <tr>\n",
       "      <td>2716</td>\n",
       "      <td>1499</td>\n",
       "      <td>12</td>\n",
       "      <td>66</td>\n",
       "    </tr>\n",
       "  </tbody>\n",
       "</table>\n",
       "<p>2717 rows × 3 columns</p>\n",
       "</div>"
      ],
      "text/plain": [
       "      user_id  month  id\n",
       "0        1000      5  22\n",
       "1        1000      6  60\n",
       "2        1000      7  75\n",
       "3        1000      8  81\n",
       "4        1000      9  57\n",
       "...       ...    ...  ..\n",
       "2712     1498     10  42\n",
       "2713     1499      9  11\n",
       "2714     1499     10  48\n",
       "2715     1499     11  59\n",
       "2716     1499     12  66\n",
       "\n",
       "[2717 rows x 3 columns]"
      ]
     },
     "metadata": {},
     "output_type": "display_data"
    }
   ],
   "source": [
    "calls_grouped = calls.groupby(['user_id','month']).agg({'duration':'sum'}).reset_index()\n",
    "display('Сгруппированная таблица calls',calls_grouped)\n",
    "internet_grouped = internet.groupby(['user_id','month']).agg({'mb_used':'sum'}).reset_index()\n",
    "display('Сгруппированная таблица internet',internet_grouped)\n",
    "messages_grouped = messages.groupby(['user_id','month']).agg({'id':'count'}).reset_index()\n",
    "display('Сгруппированная таблица messages', messages_grouped)"
   ]
  },
  {
   "cell_type": "markdown",
   "metadata": {},
   "source": [
    "В полученных таблицах необходимо произвести преобразования:\n",
    "1. Переименуем столбцы в соответствии со смыслом их значений\n",
    "2. В таблице \"internet\" преобразуем МБ в ГБ округлим значения в большую сторону(учитывая, что 1024 Мб = 1Гб) и преобразуем в целочисленные значения\n",
    "3. В таблице \"tariffs\"  значения столбца \"mb_per_month_included\" из МБ переведем в ГБ"
   ]
  },
  {
   "cell_type": "code",
   "execution_count": 12,
   "metadata": {},
   "outputs": [
    {
     "data": {
      "text/plain": [
       "'Таблица до преобразования:'"
      ]
     },
     "metadata": {},
     "output_type": "display_data"
    },
    {
     "data": {
      "text/html": [
       "<div>\n",
       "<style scoped>\n",
       "    .dataframe tbody tr th:only-of-type {\n",
       "        vertical-align: middle;\n",
       "    }\n",
       "\n",
       "    .dataframe tbody tr th {\n",
       "        vertical-align: top;\n",
       "    }\n",
       "\n",
       "    .dataframe thead th {\n",
       "        text-align: right;\n",
       "    }\n",
       "</style>\n",
       "<table border=\"1\" class=\"dataframe\">\n",
       "  <thead>\n",
       "    <tr style=\"text-align: right;\">\n",
       "      <th></th>\n",
       "      <th>user_id</th>\n",
       "      <th>month</th>\n",
       "      <th>gb_used_total</th>\n",
       "    </tr>\n",
       "  </thead>\n",
       "  <tbody>\n",
       "    <tr>\n",
       "      <td>0</td>\n",
       "      <td>1000</td>\n",
       "      <td>5</td>\n",
       "      <td>2253.49</td>\n",
       "    </tr>\n",
       "    <tr>\n",
       "      <td>1</td>\n",
       "      <td>1000</td>\n",
       "      <td>6</td>\n",
       "      <td>23233.77</td>\n",
       "    </tr>\n",
       "    <tr>\n",
       "      <td>2</td>\n",
       "      <td>1000</td>\n",
       "      <td>7</td>\n",
       "      <td>14003.64</td>\n",
       "    </tr>\n",
       "    <tr>\n",
       "      <td>3</td>\n",
       "      <td>1000</td>\n",
       "      <td>8</td>\n",
       "      <td>14055.93</td>\n",
       "    </tr>\n",
       "    <tr>\n",
       "      <td>4</td>\n",
       "      <td>1000</td>\n",
       "      <td>9</td>\n",
       "      <td>14568.91</td>\n",
       "    </tr>\n",
       "  </tbody>\n",
       "</table>\n",
       "</div>"
      ],
      "text/plain": [
       "   user_id  month  gb_used_total\n",
       "0     1000      5        2253.49\n",
       "1     1000      6       23233.77\n",
       "2     1000      7       14003.64\n",
       "3     1000      8       14055.93\n",
       "4     1000      9       14568.91"
      ]
     },
     "metadata": {},
     "output_type": "display_data"
    },
    {
     "data": {
      "text/plain": [
       "'Таблица после преобразования:'"
      ]
     },
     "metadata": {},
     "output_type": "display_data"
    },
    {
     "data": {
      "text/html": [
       "<div>\n",
       "<style scoped>\n",
       "    .dataframe tbody tr th:only-of-type {\n",
       "        vertical-align: middle;\n",
       "    }\n",
       "\n",
       "    .dataframe tbody tr th {\n",
       "        vertical-align: top;\n",
       "    }\n",
       "\n",
       "    .dataframe thead th {\n",
       "        text-align: right;\n",
       "    }\n",
       "</style>\n",
       "<table border=\"1\" class=\"dataframe\">\n",
       "  <thead>\n",
       "    <tr style=\"text-align: right;\">\n",
       "      <th></th>\n",
       "      <th>user_id</th>\n",
       "      <th>month</th>\n",
       "      <th>gb_used_total</th>\n",
       "    </tr>\n",
       "  </thead>\n",
       "  <tbody>\n",
       "    <tr>\n",
       "      <td>0</td>\n",
       "      <td>1000</td>\n",
       "      <td>5</td>\n",
       "      <td>3.0</td>\n",
       "    </tr>\n",
       "    <tr>\n",
       "      <td>1</td>\n",
       "      <td>1000</td>\n",
       "      <td>6</td>\n",
       "      <td>23.0</td>\n",
       "    </tr>\n",
       "    <tr>\n",
       "      <td>2</td>\n",
       "      <td>1000</td>\n",
       "      <td>7</td>\n",
       "      <td>14.0</td>\n",
       "    </tr>\n",
       "    <tr>\n",
       "      <td>3</td>\n",
       "      <td>1000</td>\n",
       "      <td>8</td>\n",
       "      <td>14.0</td>\n",
       "    </tr>\n",
       "    <tr>\n",
       "      <td>4</td>\n",
       "      <td>1000</td>\n",
       "      <td>9</td>\n",
       "      <td>15.0</td>\n",
       "    </tr>\n",
       "  </tbody>\n",
       "</table>\n",
       "</div>"
      ],
      "text/plain": [
       "   user_id  month  gb_used_total\n",
       "0     1000      5            3.0\n",
       "1     1000      6           23.0\n",
       "2     1000      7           14.0\n",
       "3     1000      8           14.0\n",
       "4     1000      9           15.0"
      ]
     },
     "metadata": {},
     "output_type": "display_data"
    },
    {
     "data": {
      "text/html": [
       "<div>\n",
       "<style scoped>\n",
       "    .dataframe tbody tr th:only-of-type {\n",
       "        vertical-align: middle;\n",
       "    }\n",
       "\n",
       "    .dataframe tbody tr th {\n",
       "        vertical-align: top;\n",
       "    }\n",
       "\n",
       "    .dataframe thead th {\n",
       "        text-align: right;\n",
       "    }\n",
       "</style>\n",
       "<table border=\"1\" class=\"dataframe\">\n",
       "  <thead>\n",
       "    <tr style=\"text-align: right;\">\n",
       "      <th></th>\n",
       "      <th>user_id</th>\n",
       "      <th>month</th>\n",
       "      <th>messages_total</th>\n",
       "    </tr>\n",
       "  </thead>\n",
       "  <tbody>\n",
       "    <tr>\n",
       "      <td>0</td>\n",
       "      <td>1000</td>\n",
       "      <td>5</td>\n",
       "      <td>22</td>\n",
       "    </tr>\n",
       "    <tr>\n",
       "      <td>1</td>\n",
       "      <td>1000</td>\n",
       "      <td>6</td>\n",
       "      <td>60</td>\n",
       "    </tr>\n",
       "    <tr>\n",
       "      <td>2</td>\n",
       "      <td>1000</td>\n",
       "      <td>7</td>\n",
       "      <td>75</td>\n",
       "    </tr>\n",
       "    <tr>\n",
       "      <td>3</td>\n",
       "      <td>1000</td>\n",
       "      <td>8</td>\n",
       "      <td>81</td>\n",
       "    </tr>\n",
       "    <tr>\n",
       "      <td>4</td>\n",
       "      <td>1000</td>\n",
       "      <td>9</td>\n",
       "      <td>57</td>\n",
       "    </tr>\n",
       "    <tr>\n",
       "      <td>...</td>\n",
       "      <td>...</td>\n",
       "      <td>...</td>\n",
       "      <td>...</td>\n",
       "    </tr>\n",
       "    <tr>\n",
       "      <td>2712</td>\n",
       "      <td>1498</td>\n",
       "      <td>10</td>\n",
       "      <td>42</td>\n",
       "    </tr>\n",
       "    <tr>\n",
       "      <td>2713</td>\n",
       "      <td>1499</td>\n",
       "      <td>9</td>\n",
       "      <td>11</td>\n",
       "    </tr>\n",
       "    <tr>\n",
       "      <td>2714</td>\n",
       "      <td>1499</td>\n",
       "      <td>10</td>\n",
       "      <td>48</td>\n",
       "    </tr>\n",
       "    <tr>\n",
       "      <td>2715</td>\n",
       "      <td>1499</td>\n",
       "      <td>11</td>\n",
       "      <td>59</td>\n",
       "    </tr>\n",
       "    <tr>\n",
       "      <td>2716</td>\n",
       "      <td>1499</td>\n",
       "      <td>12</td>\n",
       "      <td>66</td>\n",
       "    </tr>\n",
       "  </tbody>\n",
       "</table>\n",
       "<p>2717 rows × 3 columns</p>\n",
       "</div>"
      ],
      "text/plain": [
       "      user_id  month  messages_total\n",
       "0        1000      5              22\n",
       "1        1000      6              60\n",
       "2        1000      7              75\n",
       "3        1000      8              81\n",
       "4        1000      9              57\n",
       "...       ...    ...             ...\n",
       "2712     1498     10              42\n",
       "2713     1499      9              11\n",
       "2714     1499     10              48\n",
       "2715     1499     11              59\n",
       "2716     1499     12              66\n",
       "\n",
       "[2717 rows x 3 columns]"
      ]
     },
     "execution_count": 12,
     "metadata": {},
     "output_type": "execute_result"
    }
   ],
   "source": [
    "calls_grouped = calls_grouped.rename(columns={'duration':'duration_total'})\n",
    "internet_grouped = internet_grouped.rename(columns={'mb_used':'gb_used_total'})\n",
    "messages_grouped = messages_grouped.rename(columns={'id':'messages_total'})\n",
    "display('Таблица до преобразования:', internet_grouped.head())\n",
    "internet_grouped['gb_used_total'] = np.ceil(internet_grouped['gb_used_total']/1024)\n",
    "display('Таблица после преобразования:', internet_grouped.head())\n",
    "tariffs['mb_per_month_included'] = tariffs['mb_per_month_included']/1024\n",
    "tariffs = tariffs.rename(columns={'mb_per_month_included':'gb_per_month_included'})\n",
    "tariffs['gb_per_month_included'] = tariffs['gb_per_month_included'].astype('int')\n",
    "messages_grouped"
   ]
  },
  {
   "cell_type": "markdown",
   "metadata": {},
   "source": [
    "Произведем последовательное объединение таблиц:"
   ]
  },
  {
   "cell_type": "code",
   "execution_count": 13,
   "metadata": {},
   "outputs": [
    {
     "data": {
      "text/html": [
       "<div>\n",
       "<style scoped>\n",
       "    .dataframe tbody tr th:only-of-type {\n",
       "        vertical-align: middle;\n",
       "    }\n",
       "\n",
       "    .dataframe tbody tr th {\n",
       "        vertical-align: top;\n",
       "    }\n",
       "\n",
       "    .dataframe thead th {\n",
       "        text-align: right;\n",
       "    }\n",
       "</style>\n",
       "<table border=\"1\" class=\"dataframe\">\n",
       "  <thead>\n",
       "    <tr style=\"text-align: right;\">\n",
       "      <th></th>\n",
       "      <th>user_id</th>\n",
       "      <th>month</th>\n",
       "      <th>duration_total</th>\n",
       "      <th>gb_used_total</th>\n",
       "      <th>messages_total</th>\n",
       "    </tr>\n",
       "  </thead>\n",
       "  <tbody>\n",
       "    <tr>\n",
       "      <td>0</td>\n",
       "      <td>1000</td>\n",
       "      <td>5</td>\n",
       "      <td>159.0</td>\n",
       "      <td>3.0</td>\n",
       "      <td>22.0</td>\n",
       "    </tr>\n",
       "    <tr>\n",
       "      <td>1</td>\n",
       "      <td>1000</td>\n",
       "      <td>6</td>\n",
       "      <td>172.0</td>\n",
       "      <td>23.0</td>\n",
       "      <td>60.0</td>\n",
       "    </tr>\n",
       "    <tr>\n",
       "      <td>2</td>\n",
       "      <td>1000</td>\n",
       "      <td>7</td>\n",
       "      <td>340.0</td>\n",
       "      <td>14.0</td>\n",
       "      <td>75.0</td>\n",
       "    </tr>\n",
       "    <tr>\n",
       "      <td>3</td>\n",
       "      <td>1000</td>\n",
       "      <td>8</td>\n",
       "      <td>408.0</td>\n",
       "      <td>14.0</td>\n",
       "      <td>81.0</td>\n",
       "    </tr>\n",
       "    <tr>\n",
       "      <td>4</td>\n",
       "      <td>1000</td>\n",
       "      <td>9</td>\n",
       "      <td>466.0</td>\n",
       "      <td>15.0</td>\n",
       "      <td>57.0</td>\n",
       "    </tr>\n",
       "    <tr>\n",
       "      <td>...</td>\n",
       "      <td>...</td>\n",
       "      <td>...</td>\n",
       "      <td>...</td>\n",
       "      <td>...</td>\n",
       "      <td>...</td>\n",
       "    </tr>\n",
       "    <tr>\n",
       "      <td>3209</td>\n",
       "      <td>1489</td>\n",
       "      <td>8</td>\n",
       "      <td>NaN</td>\n",
       "      <td>11.0</td>\n",
       "      <td>17.0</td>\n",
       "    </tr>\n",
       "    <tr>\n",
       "      <td>3210</td>\n",
       "      <td>1489</td>\n",
       "      <td>9</td>\n",
       "      <td>NaN</td>\n",
       "      <td>17.0</td>\n",
       "      <td>32.0</td>\n",
       "    </tr>\n",
       "    <tr>\n",
       "      <td>3211</td>\n",
       "      <td>1489</td>\n",
       "      <td>10</td>\n",
       "      <td>NaN</td>\n",
       "      <td>20.0</td>\n",
       "      <td>21.0</td>\n",
       "    </tr>\n",
       "    <tr>\n",
       "      <td>3212</td>\n",
       "      <td>1489</td>\n",
       "      <td>11</td>\n",
       "      <td>NaN</td>\n",
       "      <td>18.0</td>\n",
       "      <td>20.0</td>\n",
       "    </tr>\n",
       "    <tr>\n",
       "      <td>3213</td>\n",
       "      <td>1489</td>\n",
       "      <td>12</td>\n",
       "      <td>NaN</td>\n",
       "      <td>17.0</td>\n",
       "      <td>35.0</td>\n",
       "    </tr>\n",
       "  </tbody>\n",
       "</table>\n",
       "<p>3214 rows × 5 columns</p>\n",
       "</div>"
      ],
      "text/plain": [
       "      user_id  month  duration_total  gb_used_total  messages_total\n",
       "0        1000      5           159.0            3.0            22.0\n",
       "1        1000      6           172.0           23.0            60.0\n",
       "2        1000      7           340.0           14.0            75.0\n",
       "3        1000      8           408.0           14.0            81.0\n",
       "4        1000      9           466.0           15.0            57.0\n",
       "...       ...    ...             ...            ...             ...\n",
       "3209     1489      8             NaN           11.0            17.0\n",
       "3210     1489      9             NaN           17.0            32.0\n",
       "3211     1489     10             NaN           20.0            21.0\n",
       "3212     1489     11             NaN           18.0            20.0\n",
       "3213     1489     12             NaN           17.0            35.0\n",
       "\n",
       "[3214 rows x 5 columns]"
      ]
     },
     "execution_count": 13,
     "metadata": {},
     "output_type": "execute_result"
    }
   ],
   "source": [
    "traffic = calls_grouped.merge(internet_grouped, on=['user_id','month'], how='outer')\n",
    "traffic = traffic.merge(messages_grouped, on=['user_id','month'], how='outer')\n",
    "traffic"
   ]
  },
  {
   "cell_type": "markdown",
   "metadata": {},
   "source": [
    "Внесем изменения в полученную таблицу:\n",
    "\n",
    "Изменим тип данных на целочисленные **с учетом наличия в данных значений NaN**"
   ]
  },
  {
   "cell_type": "code",
   "execution_count": 14,
   "metadata": {},
   "outputs": [
    {
     "name": "stdout",
     "output_type": "stream",
     "text": [
      "<class 'pandas.core.frame.DataFrame'>\n",
      "Int64Index: 3214 entries, 0 to 3213\n",
      "Data columns (total 5 columns):\n",
      "user_id           3214 non-null int64\n",
      "month             3214 non-null int64\n",
      "duration_total    3174 non-null float64\n",
      "gb_used_total     3201 non-null float64\n",
      "messages_total    2717 non-null float64\n",
      "dtypes: float64(3), int64(2)\n",
      "memory usage: 150.7 KB\n",
      "<class 'pandas.core.frame.DataFrame'>\n",
      "Int64Index: 3214 entries, 0 to 3213\n",
      "Data columns (total 5 columns):\n",
      "user_id           3214 non-null int64\n",
      "month             3214 non-null int64\n",
      "duration_total    3174 non-null Int64\n",
      "gb_used_total     3201 non-null Int64\n",
      "messages_total    2717 non-null Int64\n",
      "dtypes: Int64(3), int64(2)\n",
      "memory usage: 160.1 KB\n"
     ]
    }
   ],
   "source": [
    "traffic.info()\n",
    "#traffic['gb_used_total'] = traffic['gb_used_total'].fillna(0)\n",
    "#traffic['messages_total'] = traffic['messages_total'].fillna(0)\n",
    "traffic['duration_total'] = traffic['duration_total'].astype('Int64')\n",
    "traffic['messages_total'] = traffic['messages_total'].astype('Int64')\n",
    "traffic['gb_used_total'] = traffic['gb_used_total'].astype('Int64')\n",
    "traffic.info()"
   ]
  },
  {
   "cell_type": "code",
   "execution_count": 15,
   "metadata": {},
   "outputs": [
    {
     "data": {
      "text/html": [
       "<div>\n",
       "<style scoped>\n",
       "    .dataframe tbody tr th:only-of-type {\n",
       "        vertical-align: middle;\n",
       "    }\n",
       "\n",
       "    .dataframe tbody tr th {\n",
       "        vertical-align: top;\n",
       "    }\n",
       "\n",
       "    .dataframe thead th {\n",
       "        text-align: right;\n",
       "    }\n",
       "</style>\n",
       "<table border=\"1\" class=\"dataframe\">\n",
       "  <thead>\n",
       "    <tr style=\"text-align: right;\">\n",
       "      <th></th>\n",
       "      <th>user_id</th>\n",
       "      <th>month</th>\n",
       "      <th>duration_total</th>\n",
       "      <th>gb_used_total</th>\n",
       "      <th>messages_total</th>\n",
       "      <th>age</th>\n",
       "      <th>churn_date</th>\n",
       "      <th>city</th>\n",
       "      <th>first_name</th>\n",
       "      <th>last_name</th>\n",
       "      <th>reg_date</th>\n",
       "      <th>tariff</th>\n",
       "    </tr>\n",
       "  </thead>\n",
       "  <tbody>\n",
       "    <tr>\n",
       "      <td>0</td>\n",
       "      <td>1000</td>\n",
       "      <td>5</td>\n",
       "      <td>159</td>\n",
       "      <td>3</td>\n",
       "      <td>22</td>\n",
       "      <td>52</td>\n",
       "      <td>NaN</td>\n",
       "      <td>Краснодар</td>\n",
       "      <td>Рафаил</td>\n",
       "      <td>Верещагин</td>\n",
       "      <td>2018-05-25</td>\n",
       "      <td>ultra</td>\n",
       "    </tr>\n",
       "    <tr>\n",
       "      <td>1</td>\n",
       "      <td>1000</td>\n",
       "      <td>6</td>\n",
       "      <td>172</td>\n",
       "      <td>23</td>\n",
       "      <td>60</td>\n",
       "      <td>52</td>\n",
       "      <td>NaN</td>\n",
       "      <td>Краснодар</td>\n",
       "      <td>Рафаил</td>\n",
       "      <td>Верещагин</td>\n",
       "      <td>2018-05-25</td>\n",
       "      <td>ultra</td>\n",
       "    </tr>\n",
       "    <tr>\n",
       "      <td>2</td>\n",
       "      <td>1000</td>\n",
       "      <td>7</td>\n",
       "      <td>340</td>\n",
       "      <td>14</td>\n",
       "      <td>75</td>\n",
       "      <td>52</td>\n",
       "      <td>NaN</td>\n",
       "      <td>Краснодар</td>\n",
       "      <td>Рафаил</td>\n",
       "      <td>Верещагин</td>\n",
       "      <td>2018-05-25</td>\n",
       "      <td>ultra</td>\n",
       "    </tr>\n",
       "    <tr>\n",
       "      <td>3</td>\n",
       "      <td>1000</td>\n",
       "      <td>8</td>\n",
       "      <td>408</td>\n",
       "      <td>14</td>\n",
       "      <td>81</td>\n",
       "      <td>52</td>\n",
       "      <td>NaN</td>\n",
       "      <td>Краснодар</td>\n",
       "      <td>Рафаил</td>\n",
       "      <td>Верещагин</td>\n",
       "      <td>2018-05-25</td>\n",
       "      <td>ultra</td>\n",
       "    </tr>\n",
       "    <tr>\n",
       "      <td>4</td>\n",
       "      <td>1000</td>\n",
       "      <td>9</td>\n",
       "      <td>466</td>\n",
       "      <td>15</td>\n",
       "      <td>57</td>\n",
       "      <td>52</td>\n",
       "      <td>NaN</td>\n",
       "      <td>Краснодар</td>\n",
       "      <td>Рафаил</td>\n",
       "      <td>Верещагин</td>\n",
       "      <td>2018-05-25</td>\n",
       "      <td>ultra</td>\n",
       "    </tr>\n",
       "    <tr>\n",
       "      <td>...</td>\n",
       "      <td>...</td>\n",
       "      <td>...</td>\n",
       "      <td>...</td>\n",
       "      <td>...</td>\n",
       "      <td>...</td>\n",
       "      <td>...</td>\n",
       "      <td>...</td>\n",
       "      <td>...</td>\n",
       "      <td>...</td>\n",
       "      <td>...</td>\n",
       "      <td>...</td>\n",
       "      <td>...</td>\n",
       "    </tr>\n",
       "    <tr>\n",
       "      <td>3209</td>\n",
       "      <td>1489</td>\n",
       "      <td>8</td>\n",
       "      <td>NaN</td>\n",
       "      <td>11</td>\n",
       "      <td>17</td>\n",
       "      <td>35</td>\n",
       "      <td>NaN</td>\n",
       "      <td>Санкт-Петербург</td>\n",
       "      <td>Павел</td>\n",
       "      <td>Гончаров</td>\n",
       "      <td>2018-08-15</td>\n",
       "      <td>smart</td>\n",
       "    </tr>\n",
       "    <tr>\n",
       "      <td>3210</td>\n",
       "      <td>1489</td>\n",
       "      <td>9</td>\n",
       "      <td>NaN</td>\n",
       "      <td>17</td>\n",
       "      <td>32</td>\n",
       "      <td>35</td>\n",
       "      <td>NaN</td>\n",
       "      <td>Санкт-Петербург</td>\n",
       "      <td>Павел</td>\n",
       "      <td>Гончаров</td>\n",
       "      <td>2018-08-15</td>\n",
       "      <td>smart</td>\n",
       "    </tr>\n",
       "    <tr>\n",
       "      <td>3211</td>\n",
       "      <td>1489</td>\n",
       "      <td>10</td>\n",
       "      <td>NaN</td>\n",
       "      <td>20</td>\n",
       "      <td>21</td>\n",
       "      <td>35</td>\n",
       "      <td>NaN</td>\n",
       "      <td>Санкт-Петербург</td>\n",
       "      <td>Павел</td>\n",
       "      <td>Гончаров</td>\n",
       "      <td>2018-08-15</td>\n",
       "      <td>smart</td>\n",
       "    </tr>\n",
       "    <tr>\n",
       "      <td>3212</td>\n",
       "      <td>1489</td>\n",
       "      <td>11</td>\n",
       "      <td>NaN</td>\n",
       "      <td>18</td>\n",
       "      <td>20</td>\n",
       "      <td>35</td>\n",
       "      <td>NaN</td>\n",
       "      <td>Санкт-Петербург</td>\n",
       "      <td>Павел</td>\n",
       "      <td>Гончаров</td>\n",
       "      <td>2018-08-15</td>\n",
       "      <td>smart</td>\n",
       "    </tr>\n",
       "    <tr>\n",
       "      <td>3213</td>\n",
       "      <td>1489</td>\n",
       "      <td>12</td>\n",
       "      <td>NaN</td>\n",
       "      <td>17</td>\n",
       "      <td>35</td>\n",
       "      <td>35</td>\n",
       "      <td>NaN</td>\n",
       "      <td>Санкт-Петербург</td>\n",
       "      <td>Павел</td>\n",
       "      <td>Гончаров</td>\n",
       "      <td>2018-08-15</td>\n",
       "      <td>smart</td>\n",
       "    </tr>\n",
       "  </tbody>\n",
       "</table>\n",
       "<p>3214 rows × 12 columns</p>\n",
       "</div>"
      ],
      "text/plain": [
       "      user_id  month  duration_total  gb_used_total  messages_total  age  \\\n",
       "0        1000      5             159              3              22   52   \n",
       "1        1000      6             172             23              60   52   \n",
       "2        1000      7             340             14              75   52   \n",
       "3        1000      8             408             14              81   52   \n",
       "4        1000      9             466             15              57   52   \n",
       "...       ...    ...             ...            ...             ...  ...   \n",
       "3209     1489      8             NaN             11              17   35   \n",
       "3210     1489      9             NaN             17              32   35   \n",
       "3211     1489     10             NaN             20              21   35   \n",
       "3212     1489     11             NaN             18              20   35   \n",
       "3213     1489     12             NaN             17              35   35   \n",
       "\n",
       "     churn_date             city first_name  last_name   reg_date tariff  \n",
       "0           NaN        Краснодар     Рафаил  Верещагин 2018-05-25  ultra  \n",
       "1           NaN        Краснодар     Рафаил  Верещагин 2018-05-25  ultra  \n",
       "2           NaN        Краснодар     Рафаил  Верещагин 2018-05-25  ultra  \n",
       "3           NaN        Краснодар     Рафаил  Верещагин 2018-05-25  ultra  \n",
       "4           NaN        Краснодар     Рафаил  Верещагин 2018-05-25  ultra  \n",
       "...         ...              ...        ...        ...        ...    ...  \n",
       "3209        NaN  Санкт-Петербург      Павел   Гончаров 2018-08-15  smart  \n",
       "3210        NaN  Санкт-Петербург      Павел   Гончаров 2018-08-15  smart  \n",
       "3211        NaN  Санкт-Петербург      Павел   Гончаров 2018-08-15  smart  \n",
       "3212        NaN  Санкт-Петербург      Павел   Гончаров 2018-08-15  smart  \n",
       "3213        NaN  Санкт-Петербург      Павел   Гончаров 2018-08-15  smart  \n",
       "\n",
       "[3214 rows x 12 columns]"
      ]
     },
     "execution_count": 15,
     "metadata": {},
     "output_type": "execute_result"
    }
   ],
   "source": [
    "traffic = traffic.merge(users, on='user_id', how='left')\n",
    "traffic"
   ]
  },
  {
   "cell_type": "code",
   "execution_count": 16,
   "metadata": {},
   "outputs": [
    {
     "name": "stdout",
     "output_type": "stream",
     "text": [
      "<class 'pandas.core.frame.DataFrame'>\n",
      "Int64Index: 3214 entries, 0 to 3213\n",
      "Data columns (total 19 columns):\n",
      "user_id                  3214 non-null int64\n",
      "month                    3214 non-null int64\n",
      "duration_total           3174 non-null Int64\n",
      "gb_used_total            3201 non-null Int64\n",
      "messages_total           2717 non-null Int64\n",
      "age                      3214 non-null int64\n",
      "churn_date               187 non-null object\n",
      "city                     3214 non-null object\n",
      "first_name               3214 non-null object\n",
      "last_name                3214 non-null object\n",
      "reg_date                 3214 non-null datetime64[ns]\n",
      "tariff                   3214 non-null object\n",
      "messages_included        3214 non-null int64\n",
      "gb_per_month_included    3214 non-null int64\n",
      "minutes_included         3214 non-null int64\n",
      "rub_monthly_fee          3214 non-null int64\n",
      "rub_per_gb               3214 non-null int64\n",
      "rub_per_message          3214 non-null int64\n",
      "rub_per_minute           3214 non-null int64\n",
      "dtypes: Int64(3), datetime64[ns](1), int64(10), object(5)\n",
      "memory usage: 511.6+ KB\n"
     ]
    }
   ],
   "source": [
    "traffic = traffic.merge(tariffs, on='tariff', how='left')\n",
    "traffic.info()"
   ]
  },
  {
   "cell_type": "markdown",
   "metadata": {},
   "source": [
    "Нам предстоит посчитать для каждого пользователя:\n",
    "\n",
    "+ количество сделанных звонков и израсходованных минут разговора по месяцам;\n",
    "+ количество отправленных сообщений по месяцам;\n",
    "+ объем израсходованного интернет-трафика по месяцам;\n",
    "помесячную выручку с каждого пользователя (вычесть бесплатный лимит из суммарного количества звонков, сообщений и интернет-трафика; остаток умножить на значение из тарифного плана; прибавить абонентскую плату, соответствующую тарифному плану)."
   ]
  },
  {
   "cell_type": "markdown",
   "metadata": {},
   "source": [
    "Определим для каждого пользователя количество сделанных звонков по месяцам(учтем тот момент, что в таблице присутствуют нулевые значения, которыми обозначены пропущенные звонки, исключим их при формировании данных):"
   ]
  },
  {
   "cell_type": "code",
   "execution_count": 17,
   "metadata": {
    "scrolled": false
   },
   "outputs": [
    {
     "name": "stdout",
     "output_type": "stream",
     "text": [
      "<class 'pandas.core.frame.DataFrame'>\n",
      "RangeIndex: 492 entries, 0 to 491\n",
      "Data columns (total 13 columns):\n",
      "user_id    492 non-null int64\n",
      "1          492 non-null float64\n",
      "2          492 non-null float64\n",
      "3          492 non-null float64\n",
      "4          492 non-null float64\n",
      "5          492 non-null float64\n",
      "6          492 non-null float64\n",
      "7          492 non-null float64\n",
      "8          492 non-null float64\n",
      "9          492 non-null float64\n",
      "10         492 non-null float64\n",
      "11         492 non-null float64\n",
      "12         492 non-null float64\n",
      "dtypes: float64(12), int64(1)\n",
      "memory usage: 50.1 KB\n",
      "<class 'pandas.core.frame.DataFrame'>\n",
      "RangeIndex: 492 entries, 0 to 491\n",
      "Data columns (total 13 columns):\n",
      "user_id    492 non-null int64\n",
      "1          492 non-null int64\n",
      "2          492 non-null int64\n",
      "3          492 non-null int64\n",
      "4          492 non-null int64\n",
      "5          492 non-null int64\n",
      "6          492 non-null int64\n",
      "7          492 non-null int64\n",
      "8          492 non-null int64\n",
      "9          492 non-null int64\n",
      "10         492 non-null int64\n",
      "11         492 non-null int64\n",
      "12         492 non-null int64\n",
      "dtypes: int64(13)\n",
      "memory usage: 50.1 KB\n"
     ]
    },
    {
     "data": {
      "text/html": [
       "<div>\n",
       "<style scoped>\n",
       "    .dataframe tbody tr th:only-of-type {\n",
       "        vertical-align: middle;\n",
       "    }\n",
       "\n",
       "    .dataframe tbody tr th {\n",
       "        vertical-align: top;\n",
       "    }\n",
       "\n",
       "    .dataframe thead th {\n",
       "        text-align: right;\n",
       "    }\n",
       "</style>\n",
       "<table border=\"1\" class=\"dataframe\">\n",
       "  <thead>\n",
       "    <tr style=\"text-align: right;\">\n",
       "      <th>month</th>\n",
       "      <th>user_id</th>\n",
       "      <th>1</th>\n",
       "      <th>2</th>\n",
       "      <th>3</th>\n",
       "      <th>4</th>\n",
       "      <th>5</th>\n",
       "      <th>6</th>\n",
       "      <th>7</th>\n",
       "      <th>8</th>\n",
       "      <th>9</th>\n",
       "      <th>10</th>\n",
       "      <th>11</th>\n",
       "      <th>12</th>\n",
       "    </tr>\n",
       "  </thead>\n",
       "  <tbody>\n",
       "    <tr>\n",
       "      <td>0</td>\n",
       "      <td>1000</td>\n",
       "      <td>0</td>\n",
       "      <td>0</td>\n",
       "      <td>0</td>\n",
       "      <td>0</td>\n",
       "      <td>17</td>\n",
       "      <td>28</td>\n",
       "      <td>41</td>\n",
       "      <td>42</td>\n",
       "      <td>46</td>\n",
       "      <td>44</td>\n",
       "      <td>37</td>\n",
       "      <td>38</td>\n",
       "    </tr>\n",
       "    <tr>\n",
       "      <td>1</td>\n",
       "      <td>1001</td>\n",
       "      <td>0</td>\n",
       "      <td>0</td>\n",
       "      <td>0</td>\n",
       "      <td>0</td>\n",
       "      <td>0</td>\n",
       "      <td>0</td>\n",
       "      <td>0</td>\n",
       "      <td>0</td>\n",
       "      <td>0</td>\n",
       "      <td>0</td>\n",
       "      <td>45</td>\n",
       "      <td>47</td>\n",
       "    </tr>\n",
       "    <tr>\n",
       "      <td>2</td>\n",
       "      <td>1002</td>\n",
       "      <td>0</td>\n",
       "      <td>0</td>\n",
       "      <td>0</td>\n",
       "      <td>0</td>\n",
       "      <td>0</td>\n",
       "      <td>14</td>\n",
       "      <td>21</td>\n",
       "      <td>37</td>\n",
       "      <td>25</td>\n",
       "      <td>24</td>\n",
       "      <td>25</td>\n",
       "      <td>27</td>\n",
       "    </tr>\n",
       "    <tr>\n",
       "      <td>3</td>\n",
       "      <td>1003</td>\n",
       "      <td>0</td>\n",
       "      <td>0</td>\n",
       "      <td>0</td>\n",
       "      <td>0</td>\n",
       "      <td>0</td>\n",
       "      <td>0</td>\n",
       "      <td>0</td>\n",
       "      <td>43</td>\n",
       "      <td>105</td>\n",
       "      <td>97</td>\n",
       "      <td>95</td>\n",
       "      <td>88</td>\n",
       "    </tr>\n",
       "    <tr>\n",
       "      <td>4</td>\n",
       "      <td>1004</td>\n",
       "      <td>0</td>\n",
       "      <td>0</td>\n",
       "      <td>0</td>\n",
       "      <td>0</td>\n",
       "      <td>7</td>\n",
       "      <td>25</td>\n",
       "      <td>20</td>\n",
       "      <td>18</td>\n",
       "      <td>18</td>\n",
       "      <td>21</td>\n",
       "      <td>15</td>\n",
       "      <td>15</td>\n",
       "    </tr>\n",
       "  </tbody>\n",
       "</table>\n",
       "</div>"
      ],
      "text/plain": [
       "month  user_id  1  2  3  4   5   6   7   8    9  10  11  12\n",
       "0         1000  0  0  0  0  17  28  41  42   46  44  37  38\n",
       "1         1001  0  0  0  0   0   0   0   0    0   0  45  47\n",
       "2         1002  0  0  0  0   0  14  21  37   25  24  25  27\n",
       "3         1003  0  0  0  0   0   0   0  43  105  97  95  88\n",
       "4         1004  0  0  0  0   7  25  20  18   18  21  15  15"
      ]
     },
     "metadata": {},
     "output_type": "display_data"
    },
    {
     "data": {
      "text/plain": [
       "<matplotlib.axes._subplots.AxesSubplot at 0x7f8c018d77d0>"
      ]
     },
     "execution_count": 17,
     "metadata": {},
     "output_type": "execute_result"
    },
    {
     "data": {
      "image/png": "[encoded data removed]",
      "text/plain": [
       "<Figure size 576x288 with 1 Axes>"
      ]
     },
     "metadata": {
      "needs_background": "light"
     },
     "output_type": "display_data"
    }
   ],
   "source": [
    "users_calls_sum_per_month = calls.query('duration != 0').pivot_table(index='user_id',columns='month', values='duration', aggfunc='count').reset_index()\n",
    "users_calls_sum_per_month = users_calls_sum_per_month.fillna(0) # заменим получившиеся пропущенные значения на 0\n",
    "users_calls_sum_per_month.info()\n",
    "for item in range(12): # преобразуем полученные значения в целочисленные\n",
    "    users_calls_sum_per_month[item+1] = users_calls_sum_per_month[item+1].astype('int')\n",
    "users_calls_sum_per_month.info()\n",
    "display(users_calls_sum_per_month.head())\n",
    "calls.query('duration != 0').pivot_table(index='user_id',columns='month', values='duration', aggfunc='count').plot(kind='hist', figsize=(8,4), alpha=0.7)"
   ]
  },
  {
   "cell_type": "markdown",
   "metadata": {},
   "source": [
    "Большинство пользователей совершает в месяц от 25 до 75 звонков.\n",
    "\n",
    "Определим для каждого пользователя количество израсходованных минут разговора по месяцам:"
   ]
  },
  {
   "cell_type": "code",
   "execution_count": 18,
   "metadata": {},
   "outputs": [
    {
     "name": "stdout",
     "output_type": "stream",
     "text": [
      "<class 'pandas.core.frame.DataFrame'>\n",
      "Int64Index: 498 entries, 1000 to 1499\n",
      "Data columns (total 12 columns):\n",
      "1     498 non-null int64\n",
      "2     498 non-null int64\n",
      "3     498 non-null int64\n",
      "4     498 non-null int64\n",
      "5     498 non-null int64\n",
      "6     498 non-null int64\n",
      "7     498 non-null int64\n",
      "8     498 non-null int64\n",
      "9     498 non-null int64\n",
      "10    498 non-null int64\n",
      "11    498 non-null int64\n",
      "12    498 non-null int64\n",
      "dtypes: int64(12)\n",
      "memory usage: 50.6 KB\n"
     ]
    },
    {
     "data": {
      "text/html": [
       "<div>\n",
       "<style scoped>\n",
       "    .dataframe tbody tr th:only-of-type {\n",
       "        vertical-align: middle;\n",
       "    }\n",
       "\n",
       "    .dataframe tbody tr th {\n",
       "        vertical-align: top;\n",
       "    }\n",
       "\n",
       "    .dataframe thead th {\n",
       "        text-align: right;\n",
       "    }\n",
       "</style>\n",
       "<table border=\"1\" class=\"dataframe\">\n",
       "  <thead>\n",
       "    <tr style=\"text-align: right;\">\n",
       "      <th>month</th>\n",
       "      <th>1</th>\n",
       "      <th>2</th>\n",
       "      <th>3</th>\n",
       "      <th>4</th>\n",
       "      <th>5</th>\n",
       "      <th>6</th>\n",
       "      <th>7</th>\n",
       "      <th>8</th>\n",
       "      <th>9</th>\n",
       "      <th>10</th>\n",
       "      <th>11</th>\n",
       "      <th>12</th>\n",
       "    </tr>\n",
       "    <tr>\n",
       "      <th>user_id</th>\n",
       "      <th></th>\n",
       "      <th></th>\n",
       "      <th></th>\n",
       "      <th></th>\n",
       "      <th></th>\n",
       "      <th></th>\n",
       "      <th></th>\n",
       "      <th></th>\n",
       "      <th></th>\n",
       "      <th></th>\n",
       "      <th></th>\n",
       "      <th></th>\n",
       "    </tr>\n",
       "  </thead>\n",
       "  <tbody>\n",
       "    <tr>\n",
       "      <td>1000</td>\n",
       "      <td>0</td>\n",
       "      <td>0</td>\n",
       "      <td>0</td>\n",
       "      <td>0</td>\n",
       "      <td>159</td>\n",
       "      <td>172</td>\n",
       "      <td>340</td>\n",
       "      <td>408</td>\n",
       "      <td>466</td>\n",
       "      <td>350</td>\n",
       "      <td>338</td>\n",
       "      <td>333</td>\n",
       "    </tr>\n",
       "    <tr>\n",
       "      <td>1001</td>\n",
       "      <td>0</td>\n",
       "      <td>0</td>\n",
       "      <td>0</td>\n",
       "      <td>0</td>\n",
       "      <td>0</td>\n",
       "      <td>0</td>\n",
       "      <td>0</td>\n",
       "      <td>0</td>\n",
       "      <td>0</td>\n",
       "      <td>0</td>\n",
       "      <td>430</td>\n",
       "      <td>414</td>\n",
       "    </tr>\n",
       "    <tr>\n",
       "      <td>1002</td>\n",
       "      <td>0</td>\n",
       "      <td>0</td>\n",
       "      <td>0</td>\n",
       "      <td>0</td>\n",
       "      <td>0</td>\n",
       "      <td>117</td>\n",
       "      <td>214</td>\n",
       "      <td>289</td>\n",
       "      <td>206</td>\n",
       "      <td>212</td>\n",
       "      <td>243</td>\n",
       "      <td>236</td>\n",
       "    </tr>\n",
       "    <tr>\n",
       "      <td>1003</td>\n",
       "      <td>0</td>\n",
       "      <td>0</td>\n",
       "      <td>0</td>\n",
       "      <td>0</td>\n",
       "      <td>0</td>\n",
       "      <td>0</td>\n",
       "      <td>0</td>\n",
       "      <td>380</td>\n",
       "      <td>961</td>\n",
       "      <td>855</td>\n",
       "      <td>824</td>\n",
       "      <td>802</td>\n",
       "    </tr>\n",
       "    <tr>\n",
       "      <td>1004</td>\n",
       "      <td>0</td>\n",
       "      <td>0</td>\n",
       "      <td>0</td>\n",
       "      <td>0</td>\n",
       "      <td>35</td>\n",
       "      <td>171</td>\n",
       "      <td>135</td>\n",
       "      <td>137</td>\n",
       "      <td>117</td>\n",
       "      <td>145</td>\n",
       "      <td>117</td>\n",
       "      <td>130</td>\n",
       "    </tr>\n",
       "  </tbody>\n",
       "</table>\n",
       "</div>"
      ],
      "text/plain": [
       "month    1   2   3   4    5    6    7    8    9    10   11   12\n",
       "user_id                                                        \n",
       "1000      0   0   0   0  159  172  340  408  466  350  338  333\n",
       "1001      0   0   0   0    0    0    0    0    0    0  430  414\n",
       "1002      0   0   0   0    0  117  214  289  206  212  243  236\n",
       "1003      0   0   0   0    0    0    0  380  961  855  824  802\n",
       "1004      0   0   0   0   35  171  135  137  117  145  117  130"
      ]
     },
     "metadata": {},
     "output_type": "display_data"
    },
    {
     "data": {
      "text/plain": [
       "<matplotlib.axes._subplots.AxesSubplot at 0x7f8c01687310>"
      ]
     },
     "execution_count": 18,
     "metadata": {},
     "output_type": "execute_result"
    },
    {
     "data": {
      "image/png": "[encoded data removed]",
      "text/plain": [
       "<Figure size 576x288 with 1 Axes>"
      ]
     },
     "metadata": {
      "needs_background": "light"
     },
     "output_type": "display_data"
    }
   ],
   "source": [
    "users_calls_trafic_per_month = traffic.pivot_table(index='user_id',columns='month', values='duration_total', aggfunc='sum')\n",
    "users_calls_trafic_per_month = users_calls_trafic_per_month.fillna(0) #пропущенные значения заменим на 0\n",
    "for item in range(12): # преобразуем полученные значения в целочисленные\n",
    "    users_calls_trafic_per_month[item+1] = users_calls_trafic_per_month[item+1].astype('int')\n",
    "users_calls_trafic_per_month.info()\n",
    "display(users_calls_trafic_per_month.head())\n",
    "traffic.pivot_table(index='user_id',columns='month', values='duration_total', aggfunc='sum').plot(kind='hist', figsize=(8,4), alpha=0.7)"
   ]
  },
  {
   "cell_type": "markdown",
   "metadata": {},
   "source": [
    "Большинство пользователей выговаривает от 150 до 650 минут в месяц.\n",
    "\n",
    "Количество отправленных сообщений по месяцам для каждого пользователя:"
   ]
  },
  {
   "cell_type": "code",
   "execution_count": 19,
   "metadata": {
    "scrolled": false
   },
   "outputs": [
    {
     "name": "stdout",
     "output_type": "stream",
     "text": [
      "<class 'pandas.core.frame.DataFrame'>\n",
      "Int64Index: 498 entries, 1000 to 1499\n",
      "Data columns (total 12 columns):\n",
      "1     498 non-null int64\n",
      "2     498 non-null int64\n",
      "3     498 non-null int64\n",
      "4     498 non-null int64\n",
      "5     498 non-null int64\n",
      "6     498 non-null int64\n",
      "7     498 non-null int64\n",
      "8     498 non-null int64\n",
      "9     498 non-null int64\n",
      "10    498 non-null int64\n",
      "11    498 non-null int64\n",
      "12    498 non-null int64\n",
      "dtypes: int64(12)\n",
      "memory usage: 50.6 KB\n"
     ]
    },
    {
     "data": {
      "text/html": [
       "<div>\n",
       "<style scoped>\n",
       "    .dataframe tbody tr th:only-of-type {\n",
       "        vertical-align: middle;\n",
       "    }\n",
       "\n",
       "    .dataframe tbody tr th {\n",
       "        vertical-align: top;\n",
       "    }\n",
       "\n",
       "    .dataframe thead th {\n",
       "        text-align: right;\n",
       "    }\n",
       "</style>\n",
       "<table border=\"1\" class=\"dataframe\">\n",
       "  <thead>\n",
       "    <tr style=\"text-align: right;\">\n",
       "      <th>month</th>\n",
       "      <th>1</th>\n",
       "      <th>2</th>\n",
       "      <th>3</th>\n",
       "      <th>4</th>\n",
       "      <th>5</th>\n",
       "      <th>6</th>\n",
       "      <th>7</th>\n",
       "      <th>8</th>\n",
       "      <th>9</th>\n",
       "      <th>10</th>\n",
       "      <th>11</th>\n",
       "      <th>12</th>\n",
       "    </tr>\n",
       "    <tr>\n",
       "      <th>user_id</th>\n",
       "      <th></th>\n",
       "      <th></th>\n",
       "      <th></th>\n",
       "      <th></th>\n",
       "      <th></th>\n",
       "      <th></th>\n",
       "      <th></th>\n",
       "      <th></th>\n",
       "      <th></th>\n",
       "      <th></th>\n",
       "      <th></th>\n",
       "      <th></th>\n",
       "    </tr>\n",
       "  </thead>\n",
       "  <tbody>\n",
       "    <tr>\n",
       "      <td>1000</td>\n",
       "      <td>0</td>\n",
       "      <td>0</td>\n",
       "      <td>0</td>\n",
       "      <td>0</td>\n",
       "      <td>22</td>\n",
       "      <td>60</td>\n",
       "      <td>75</td>\n",
       "      <td>81</td>\n",
       "      <td>57</td>\n",
       "      <td>73</td>\n",
       "      <td>58</td>\n",
       "      <td>70</td>\n",
       "    </tr>\n",
       "    <tr>\n",
       "      <td>1001</td>\n",
       "      <td>0</td>\n",
       "      <td>0</td>\n",
       "      <td>0</td>\n",
       "      <td>0</td>\n",
       "      <td>0</td>\n",
       "      <td>0</td>\n",
       "      <td>0</td>\n",
       "      <td>0</td>\n",
       "      <td>0</td>\n",
       "      <td>0</td>\n",
       "      <td>0</td>\n",
       "      <td>0</td>\n",
       "    </tr>\n",
       "    <tr>\n",
       "      <td>1002</td>\n",
       "      <td>0</td>\n",
       "      <td>0</td>\n",
       "      <td>0</td>\n",
       "      <td>0</td>\n",
       "      <td>0</td>\n",
       "      <td>4</td>\n",
       "      <td>11</td>\n",
       "      <td>13</td>\n",
       "      <td>4</td>\n",
       "      <td>10</td>\n",
       "      <td>16</td>\n",
       "      <td>12</td>\n",
       "    </tr>\n",
       "    <tr>\n",
       "      <td>1003</td>\n",
       "      <td>0</td>\n",
       "      <td>0</td>\n",
       "      <td>0</td>\n",
       "      <td>0</td>\n",
       "      <td>0</td>\n",
       "      <td>0</td>\n",
       "      <td>0</td>\n",
       "      <td>37</td>\n",
       "      <td>91</td>\n",
       "      <td>83</td>\n",
       "      <td>94</td>\n",
       "      <td>75</td>\n",
       "    </tr>\n",
       "    <tr>\n",
       "      <td>1004</td>\n",
       "      <td>0</td>\n",
       "      <td>0</td>\n",
       "      <td>0</td>\n",
       "      <td>0</td>\n",
       "      <td>95</td>\n",
       "      <td>134</td>\n",
       "      <td>181</td>\n",
       "      <td>151</td>\n",
       "      <td>146</td>\n",
       "      <td>165</td>\n",
       "      <td>158</td>\n",
       "      <td>162</td>\n",
       "    </tr>\n",
       "  </tbody>\n",
       "</table>\n",
       "</div>"
      ],
      "text/plain": [
       "month    1   2   3   4   5    6    7    8    9    10   11   12\n",
       "user_id                                                       \n",
       "1000      0   0   0   0  22   60   75   81   57   73   58   70\n",
       "1001      0   0   0   0   0    0    0    0    0    0    0    0\n",
       "1002      0   0   0   0   0    4   11   13    4   10   16   12\n",
       "1003      0   0   0   0   0    0    0   37   91   83   94   75\n",
       "1004      0   0   0   0  95  134  181  151  146  165  158  162"
      ]
     },
     "metadata": {},
     "output_type": "display_data"
    },
    {
     "data": {
      "text/plain": [
       "<matplotlib.axes._subplots.AxesSubplot at 0x7f8bffd1ac50>"
      ]
     },
     "execution_count": 19,
     "metadata": {},
     "output_type": "execute_result"
    },
    {
     "data": {
      "image/png": "[encoded data removed]",
      "text/plain": [
       "<Figure size 576x288 with 1 Axes>"
      ]
     },
     "metadata": {
      "needs_background": "light"
     },
     "output_type": "display_data"
    }
   ],
   "source": [
    "users_sms_per_month = traffic.pivot_table(index='user_id',columns='month', values='messages_total', aggfunc='sum')\n",
    "users_sms_per_month = users_sms_per_month.fillna(0)\n",
    "for item in range(12): # преобразуем полученные значения в целочисленные\n",
    "    users_sms_per_month[item+1] = users_sms_per_month[item+1].astype('int')\n",
    "users_sms_per_month.info()\n",
    "display(users_sms_per_month.head())\n",
    "traffic.pivot_table(index='user_id',columns='month', values='messages_total', aggfunc='sum').plot(kind='hist', figsize=(8,4), alpha=0.7)"
   ]
  },
  {
   "cell_type": "markdown",
   "metadata": {},
   "source": [
    "Большинство пользователей отправляет до 70 сообщений в месяц.\n",
    "\n",
    "Объем израсходованного интернет-трафика по месяцам для каждого пользователя:"
   ]
  },
  {
   "cell_type": "code",
   "execution_count": 20,
   "metadata": {
    "scrolled": false
   },
   "outputs": [
    {
     "name": "stdout",
     "output_type": "stream",
     "text": [
      "<class 'pandas.core.frame.DataFrame'>\n",
      "Int64Index: 498 entries, 1000 to 1499\n",
      "Data columns (total 12 columns):\n",
      "1     498 non-null int64\n",
      "2     498 non-null int64\n",
      "3     498 non-null int64\n",
      "4     498 non-null int64\n",
      "5     498 non-null int64\n",
      "6     498 non-null int64\n",
      "7     498 non-null int64\n",
      "8     498 non-null int64\n",
      "9     498 non-null int64\n",
      "10    498 non-null int64\n",
      "11    498 non-null int64\n",
      "12    498 non-null int64\n",
      "dtypes: int64(12)\n",
      "memory usage: 50.6 KB\n"
     ]
    },
    {
     "data": {
      "text/html": [
       "<div>\n",
       "<style scoped>\n",
       "    .dataframe tbody tr th:only-of-type {\n",
       "        vertical-align: middle;\n",
       "    }\n",
       "\n",
       "    .dataframe tbody tr th {\n",
       "        vertical-align: top;\n",
       "    }\n",
       "\n",
       "    .dataframe thead th {\n",
       "        text-align: right;\n",
       "    }\n",
       "</style>\n",
       "<table border=\"1\" class=\"dataframe\">\n",
       "  <thead>\n",
       "    <tr style=\"text-align: right;\">\n",
       "      <th>month</th>\n",
       "      <th>1</th>\n",
       "      <th>2</th>\n",
       "      <th>3</th>\n",
       "      <th>4</th>\n",
       "      <th>5</th>\n",
       "      <th>6</th>\n",
       "      <th>7</th>\n",
       "      <th>8</th>\n",
       "      <th>9</th>\n",
       "      <th>10</th>\n",
       "      <th>11</th>\n",
       "      <th>12</th>\n",
       "    </tr>\n",
       "    <tr>\n",
       "      <th>user_id</th>\n",
       "      <th></th>\n",
       "      <th></th>\n",
       "      <th></th>\n",
       "      <th></th>\n",
       "      <th></th>\n",
       "      <th></th>\n",
       "      <th></th>\n",
       "      <th></th>\n",
       "      <th></th>\n",
       "      <th></th>\n",
       "      <th></th>\n",
       "      <th></th>\n",
       "    </tr>\n",
       "  </thead>\n",
       "  <tbody>\n",
       "    <tr>\n",
       "      <td>1000</td>\n",
       "      <td>0</td>\n",
       "      <td>0</td>\n",
       "      <td>0</td>\n",
       "      <td>0</td>\n",
       "      <td>3</td>\n",
       "      <td>23</td>\n",
       "      <td>14</td>\n",
       "      <td>14</td>\n",
       "      <td>15</td>\n",
       "      <td>15</td>\n",
       "      <td>15</td>\n",
       "      <td>10</td>\n",
       "    </tr>\n",
       "    <tr>\n",
       "      <td>1001</td>\n",
       "      <td>0</td>\n",
       "      <td>0</td>\n",
       "      <td>0</td>\n",
       "      <td>0</td>\n",
       "      <td>0</td>\n",
       "      <td>0</td>\n",
       "      <td>0</td>\n",
       "      <td>0</td>\n",
       "      <td>0</td>\n",
       "      <td>0</td>\n",
       "      <td>18</td>\n",
       "      <td>14</td>\n",
       "    </tr>\n",
       "    <tr>\n",
       "      <td>1002</td>\n",
       "      <td>0</td>\n",
       "      <td>0</td>\n",
       "      <td>0</td>\n",
       "      <td>0</td>\n",
       "      <td>0</td>\n",
       "      <td>11</td>\n",
       "      <td>18</td>\n",
       "      <td>20</td>\n",
       "      <td>17</td>\n",
       "      <td>14</td>\n",
       "      <td>19</td>\n",
       "      <td>18</td>\n",
       "    </tr>\n",
       "    <tr>\n",
       "      <td>1003</td>\n",
       "      <td>0</td>\n",
       "      <td>0</td>\n",
       "      <td>0</td>\n",
       "      <td>0</td>\n",
       "      <td>0</td>\n",
       "      <td>0</td>\n",
       "      <td>0</td>\n",
       "      <td>9</td>\n",
       "      <td>13</td>\n",
       "      <td>15</td>\n",
       "      <td>12</td>\n",
       "      <td>10</td>\n",
       "    </tr>\n",
       "    <tr>\n",
       "      <td>1004</td>\n",
       "      <td>0</td>\n",
       "      <td>0</td>\n",
       "      <td>0</td>\n",
       "      <td>0</td>\n",
       "      <td>14</td>\n",
       "      <td>18</td>\n",
       "      <td>22</td>\n",
       "      <td>28</td>\n",
       "      <td>15</td>\n",
       "      <td>19</td>\n",
       "      <td>16</td>\n",
       "      <td>18</td>\n",
       "    </tr>\n",
       "  </tbody>\n",
       "</table>\n",
       "</div>"
      ],
      "text/plain": [
       "month    1   2   3   4   5   6   7   8   9   10  11  12\n",
       "user_id                                                \n",
       "1000      0   0   0   0   3  23  14  14  15  15  15  10\n",
       "1001      0   0   0   0   0   0   0   0   0   0  18  14\n",
       "1002      0   0   0   0   0  11  18  20  17  14  19  18\n",
       "1003      0   0   0   0   0   0   0   9  13  15  12  10\n",
       "1004      0   0   0   0  14  18  22  28  15  19  16  18"
      ]
     },
     "metadata": {},
     "output_type": "display_data"
    },
    {
     "data": {
      "text/plain": [
       "<matplotlib.axes._subplots.AxesSubplot at 0x7f8bff0af250>"
      ]
     },
     "execution_count": 20,
     "metadata": {},
     "output_type": "execute_result"
    },
    {
     "data": {
      "image/png": "[encoded data removed]",
      "text/plain": [
       "<Figure size 576x288 with 1 Axes>"
      ]
     },
     "metadata": {
      "needs_background": "light"
     },
     "output_type": "display_data"
    }
   ],
   "source": [
    "users_internet_trafic_per_month = traffic.pivot_table(index='user_id',columns='month', values='gb_used_total', aggfunc='sum')\n",
    "users_internet_trafic_per_month = users_internet_trafic_per_month.fillna(0)\n",
    "for item in range(12): # преобразуем полученные значения в целочисленны\n",
    "    users_internet_trafic_per_month[item+1] = users_internet_trafic_per_month[item+1].astype('int')\n",
    "users_internet_trafic_per_month.info()\n",
    "display(users_internet_trafic_per_month.head())\n",
    "traffic.pivot_table(index='user_id',columns='month', values='gb_used_total', aggfunc='sum').plot(kind='hist', figsize=(8,4), alpha=0.7)"
   ]
  },
  {
   "cell_type": "markdown",
   "metadata": {},
   "source": [
    "Большинство пользователей скачивает от 10 до 25 Гб интернет-трафика в месяц."
   ]
  },
  {
   "cell_type": "code",
   "execution_count": 21,
   "metadata": {},
   "outputs": [
    {
     "data": {
      "text/html": [
       "<div>\n",
       "<style scoped>\n",
       "    .dataframe tbody tr th:only-of-type {\n",
       "        vertical-align: middle;\n",
       "    }\n",
       "\n",
       "    .dataframe tbody tr th {\n",
       "        vertical-align: top;\n",
       "    }\n",
       "\n",
       "    .dataframe thead th {\n",
       "        text-align: right;\n",
       "    }\n",
       "</style>\n",
       "<table border=\"1\" class=\"dataframe\">\n",
       "  <thead>\n",
       "    <tr style=\"text-align: right;\">\n",
       "      <th></th>\n",
       "      <th>user_id</th>\n",
       "      <th>month</th>\n",
       "      <th>duration_total</th>\n",
       "      <th>gb_used_total</th>\n",
       "      <th>messages_total</th>\n",
       "      <th>age</th>\n",
       "      <th>churn_date</th>\n",
       "      <th>city</th>\n",
       "      <th>first_name</th>\n",
       "      <th>last_name</th>\n",
       "      <th>reg_date</th>\n",
       "      <th>tariff</th>\n",
       "      <th>messages_included</th>\n",
       "      <th>gb_per_month_included</th>\n",
       "      <th>minutes_included</th>\n",
       "      <th>rub_monthly_fee</th>\n",
       "      <th>rub_per_gb</th>\n",
       "      <th>rub_per_message</th>\n",
       "      <th>rub_per_minute</th>\n",
       "    </tr>\n",
       "  </thead>\n",
       "  <tbody>\n",
       "    <tr>\n",
       "      <td>0</td>\n",
       "      <td>1000</td>\n",
       "      <td>5</td>\n",
       "      <td>159</td>\n",
       "      <td>3</td>\n",
       "      <td>22</td>\n",
       "      <td>52</td>\n",
       "      <td>NaN</td>\n",
       "      <td>Краснодар</td>\n",
       "      <td>Рафаил</td>\n",
       "      <td>Верещагин</td>\n",
       "      <td>2018-05-25</td>\n",
       "      <td>ultra</td>\n",
       "      <td>1000</td>\n",
       "      <td>30</td>\n",
       "      <td>3000</td>\n",
       "      <td>1950</td>\n",
       "      <td>150</td>\n",
       "      <td>1</td>\n",
       "      <td>1</td>\n",
       "    </tr>\n",
       "    <tr>\n",
       "      <td>1</td>\n",
       "      <td>1000</td>\n",
       "      <td>6</td>\n",
       "      <td>172</td>\n",
       "      <td>23</td>\n",
       "      <td>60</td>\n",
       "      <td>52</td>\n",
       "      <td>NaN</td>\n",
       "      <td>Краснодар</td>\n",
       "      <td>Рафаил</td>\n",
       "      <td>Верещагин</td>\n",
       "      <td>2018-05-25</td>\n",
       "      <td>ultra</td>\n",
       "      <td>1000</td>\n",
       "      <td>30</td>\n",
       "      <td>3000</td>\n",
       "      <td>1950</td>\n",
       "      <td>150</td>\n",
       "      <td>1</td>\n",
       "      <td>1</td>\n",
       "    </tr>\n",
       "    <tr>\n",
       "      <td>2</td>\n",
       "      <td>1000</td>\n",
       "      <td>7</td>\n",
       "      <td>340</td>\n",
       "      <td>14</td>\n",
       "      <td>75</td>\n",
       "      <td>52</td>\n",
       "      <td>NaN</td>\n",
       "      <td>Краснодар</td>\n",
       "      <td>Рафаил</td>\n",
       "      <td>Верещагин</td>\n",
       "      <td>2018-05-25</td>\n",
       "      <td>ultra</td>\n",
       "      <td>1000</td>\n",
       "      <td>30</td>\n",
       "      <td>3000</td>\n",
       "      <td>1950</td>\n",
       "      <td>150</td>\n",
       "      <td>1</td>\n",
       "      <td>1</td>\n",
       "    </tr>\n",
       "    <tr>\n",
       "      <td>3</td>\n",
       "      <td>1000</td>\n",
       "      <td>8</td>\n",
       "      <td>408</td>\n",
       "      <td>14</td>\n",
       "      <td>81</td>\n",
       "      <td>52</td>\n",
       "      <td>NaN</td>\n",
       "      <td>Краснодар</td>\n",
       "      <td>Рафаил</td>\n",
       "      <td>Верещагин</td>\n",
       "      <td>2018-05-25</td>\n",
       "      <td>ultra</td>\n",
       "      <td>1000</td>\n",
       "      <td>30</td>\n",
       "      <td>3000</td>\n",
       "      <td>1950</td>\n",
       "      <td>150</td>\n",
       "      <td>1</td>\n",
       "      <td>1</td>\n",
       "    </tr>\n",
       "    <tr>\n",
       "      <td>4</td>\n",
       "      <td>1000</td>\n",
       "      <td>9</td>\n",
       "      <td>466</td>\n",
       "      <td>15</td>\n",
       "      <td>57</td>\n",
       "      <td>52</td>\n",
       "      <td>NaN</td>\n",
       "      <td>Краснодар</td>\n",
       "      <td>Рафаил</td>\n",
       "      <td>Верещагин</td>\n",
       "      <td>2018-05-25</td>\n",
       "      <td>ultra</td>\n",
       "      <td>1000</td>\n",
       "      <td>30</td>\n",
       "      <td>3000</td>\n",
       "      <td>1950</td>\n",
       "      <td>150</td>\n",
       "      <td>1</td>\n",
       "      <td>1</td>\n",
       "    </tr>\n",
       "  </tbody>\n",
       "</table>\n",
       "</div>"
      ],
      "text/plain": [
       "   user_id  month  duration_total  gb_used_total  messages_total  age  \\\n",
       "0     1000      5             159              3              22   52   \n",
       "1     1000      6             172             23              60   52   \n",
       "2     1000      7             340             14              75   52   \n",
       "3     1000      8             408             14              81   52   \n",
       "4     1000      9             466             15              57   52   \n",
       "\n",
       "  churn_date       city first_name  last_name   reg_date tariff  \\\n",
       "0        NaN  Краснодар     Рафаил  Верещагин 2018-05-25  ultra   \n",
       "1        NaN  Краснодар     Рафаил  Верещагин 2018-05-25  ultra   \n",
       "2        NaN  Краснодар     Рафаил  Верещагин 2018-05-25  ultra   \n",
       "3        NaN  Краснодар     Рафаил  Верещагин 2018-05-25  ultra   \n",
       "4        NaN  Краснодар     Рафаил  Верещагин 2018-05-25  ultra   \n",
       "\n",
       "   messages_included  gb_per_month_included  minutes_included  \\\n",
       "0               1000                     30              3000   \n",
       "1               1000                     30              3000   \n",
       "2               1000                     30              3000   \n",
       "3               1000                     30              3000   \n",
       "4               1000                     30              3000   \n",
       "\n",
       "   rub_monthly_fee  rub_per_gb  rub_per_message  rub_per_minute  \n",
       "0             1950         150                1               1  \n",
       "1             1950         150                1               1  \n",
       "2             1950         150                1               1  \n",
       "3             1950         150                1               1  \n",
       "4             1950         150                1               1  "
      ]
     },
     "execution_count": 21,
     "metadata": {},
     "output_type": "execute_result"
    }
   ],
   "source": [
    "traffic.head()"
   ]
  },
  {
   "cell_type": "markdown",
   "metadata": {},
   "source": [
    "Вычислим помесячную выручку от каждого пользователя. Для подсчета создадим функцию revenue_calculation\n"
   ]
  },
  {
   "cell_type": "code",
   "execution_count": 22,
   "metadata": {},
   "outputs": [
    {
     "data": {
      "text/html": [
       "<div>\n",
       "<style scoped>\n",
       "    .dataframe tbody tr th:only-of-type {\n",
       "        vertical-align: middle;\n",
       "    }\n",
       "\n",
       "    .dataframe tbody tr th {\n",
       "        vertical-align: top;\n",
       "    }\n",
       "\n",
       "    .dataframe thead th {\n",
       "        text-align: right;\n",
       "    }\n",
       "</style>\n",
       "<table border=\"1\" class=\"dataframe\">\n",
       "  <thead>\n",
       "    <tr style=\"text-align: right;\">\n",
       "      <th></th>\n",
       "      <th>user_id</th>\n",
       "      <th>month</th>\n",
       "      <th>duration_total</th>\n",
       "      <th>gb_used_total</th>\n",
       "      <th>messages_total</th>\n",
       "      <th>age</th>\n",
       "      <th>churn_date</th>\n",
       "      <th>city</th>\n",
       "      <th>first_name</th>\n",
       "      <th>last_name</th>\n",
       "      <th>reg_date</th>\n",
       "      <th>tariff</th>\n",
       "      <th>messages_included</th>\n",
       "      <th>gb_per_month_included</th>\n",
       "      <th>minutes_included</th>\n",
       "      <th>rub_monthly_fee</th>\n",
       "      <th>rub_per_gb</th>\n",
       "      <th>rub_per_message</th>\n",
       "      <th>rub_per_minute</th>\n",
       "      <th>revenue_tariff</th>\n",
       "    </tr>\n",
       "  </thead>\n",
       "  <tbody>\n",
       "    <tr>\n",
       "      <td>3106</td>\n",
       "      <td>1486</td>\n",
       "      <td>12</td>\n",
       "      <td>1007</td>\n",
       "      <td>38</td>\n",
       "      <td>83</td>\n",
       "      <td>35</td>\n",
       "      <td>NaN</td>\n",
       "      <td>Нижний Новгород</td>\n",
       "      <td>Матвей</td>\n",
       "      <td>Моргунов</td>\n",
       "      <td>2018-10-31</td>\n",
       "      <td>smart</td>\n",
       "      <td>50</td>\n",
       "      <td>15</td>\n",
       "      <td>500</td>\n",
       "      <td>550</td>\n",
       "      <td>200</td>\n",
       "      <td>3</td>\n",
       "      <td>3</td>\n",
       "      <td>6770</td>\n",
       "    </tr>\n",
       "    <tr>\n",
       "      <td>260</td>\n",
       "      <td>1042</td>\n",
       "      <td>12</td>\n",
       "      <td>728</td>\n",
       "      <td>37</td>\n",
       "      <td>75</td>\n",
       "      <td>42</td>\n",
       "      <td>NaN</td>\n",
       "      <td>Хабаровск</td>\n",
       "      <td>Константин</td>\n",
       "      <td>Добрынин</td>\n",
       "      <td>2018-11-25</td>\n",
       "      <td>smart</td>\n",
       "      <td>50</td>\n",
       "      <td>15</td>\n",
       "      <td>500</td>\n",
       "      <td>550</td>\n",
       "      <td>200</td>\n",
       "      <td>3</td>\n",
       "      <td>3</td>\n",
       "      <td>5709</td>\n",
       "    </tr>\n",
       "    <tr>\n",
       "      <td>3105</td>\n",
       "      <td>1486</td>\n",
       "      <td>11</td>\n",
       "      <td>764</td>\n",
       "      <td>36</td>\n",
       "      <td>96</td>\n",
       "      <td>35</td>\n",
       "      <td>NaN</td>\n",
       "      <td>Нижний Новгород</td>\n",
       "      <td>Матвей</td>\n",
       "      <td>Моргунов</td>\n",
       "      <td>2018-10-31</td>\n",
       "      <td>smart</td>\n",
       "      <td>50</td>\n",
       "      <td>15</td>\n",
       "      <td>500</td>\n",
       "      <td>550</td>\n",
       "      <td>200</td>\n",
       "      <td>3</td>\n",
       "      <td>3</td>\n",
       "      <td>5680</td>\n",
       "    </tr>\n",
       "    <tr>\n",
       "      <td>1622</td>\n",
       "      <td>1261</td>\n",
       "      <td>12</td>\n",
       "      <td>1074</td>\n",
       "      <td>32</td>\n",
       "      <td>22</td>\n",
       "      <td>46</td>\n",
       "      <td>NaN</td>\n",
       "      <td>Казань</td>\n",
       "      <td>Мадина</td>\n",
       "      <td>Пантелеева</td>\n",
       "      <td>2018-10-30</td>\n",
       "      <td>smart</td>\n",
       "      <td>50</td>\n",
       "      <td>15</td>\n",
       "      <td>500</td>\n",
       "      <td>550</td>\n",
       "      <td>200</td>\n",
       "      <td>3</td>\n",
       "      <td>3</td>\n",
       "      <td>5672</td>\n",
       "    </tr>\n",
       "    <tr>\n",
       "      <td>1793</td>\n",
       "      <td>1286</td>\n",
       "      <td>12</td>\n",
       "      <td>739</td>\n",
       "      <td>35</td>\n",
       "      <td>68</td>\n",
       "      <td>19</td>\n",
       "      <td>NaN</td>\n",
       "      <td>Москва</td>\n",
       "      <td>Рашид</td>\n",
       "      <td>Троицкий</td>\n",
       "      <td>2018-11-27</td>\n",
       "      <td>smart</td>\n",
       "      <td>50</td>\n",
       "      <td>15</td>\n",
       "      <td>500</td>\n",
       "      <td>550</td>\n",
       "      <td>200</td>\n",
       "      <td>3</td>\n",
       "      <td>3</td>\n",
       "      <td>5321</td>\n",
       "    </tr>\n",
       "  </tbody>\n",
       "</table>\n",
       "</div>"
      ],
      "text/plain": [
       "      user_id  month  duration_total  gb_used_total  messages_total  age  \\\n",
       "3106     1486     12            1007             38              83   35   \n",
       "260      1042     12             728             37              75   42   \n",
       "3105     1486     11             764             36              96   35   \n",
       "1622     1261     12            1074             32              22   46   \n",
       "1793     1286     12             739             35              68   19   \n",
       "\n",
       "     churn_date             city  first_name   last_name   reg_date tariff  \\\n",
       "3106        NaN  Нижний Новгород      Матвей    Моргунов 2018-10-31  smart   \n",
       "260         NaN        Хабаровск  Константин    Добрынин 2018-11-25  smart   \n",
       "3105        NaN  Нижний Новгород      Матвей    Моргунов 2018-10-31  smart   \n",
       "1622        NaN           Казань      Мадина  Пантелеева 2018-10-30  smart   \n",
       "1793        NaN           Москва       Рашид    Троицкий 2018-11-27  smart   \n",
       "\n",
       "      messages_included  gb_per_month_included  minutes_included  \\\n",
       "3106                 50                     15               500   \n",
       "260                  50                     15               500   \n",
       "3105                 50                     15               500   \n",
       "1622                 50                     15               500   \n",
       "1793                 50                     15               500   \n",
       "\n",
       "      rub_monthly_fee  rub_per_gb  rub_per_message  rub_per_minute  \\\n",
       "3106              550         200                3               3   \n",
       "260               550         200                3               3   \n",
       "3105              550         200                3               3   \n",
       "1622              550         200                3               3   \n",
       "1793              550         200                3               3   \n",
       "\n",
       "      revenue_tariff  \n",
       "3106            6770  \n",
       "260             5709  \n",
       "3105            5680  \n",
       "1622            5672  \n",
       "1793            5321  "
      ]
     },
     "execution_count": 22,
     "metadata": {},
     "output_type": "execute_result"
    }
   ],
   "source": [
    "def revenue_calculation(row):\n",
    "    revenue_min = 0 # переменная для подсчета стоимости минут, потраченных сверх пакета\n",
    "    revenue_gb = 0 # переменная для подсчета стоимости интернет трафика,потраченного сверх пакета \n",
    "    revenue_sms = 0 # переменная для подсчета стоимости сообщений, потраченных сверх пакета\n",
    "    if row['duration_total'] > row['minutes_included']: # условие, преверяющее, потрачены ли минуты из пакета\n",
    "        revenue_min =  (row['duration_total'] - row['minutes_included']) * row['rub_per_minute']\n",
    "    if row['gb_used_total'] > row['gb_per_month_included']: # условие, преверяющее, потрачен ли интернет трафик из пакета\n",
    "        revenue_gb =  (row['gb_used_total'] - row['gb_per_month_included']) * row['rub_per_gb']\n",
    "    if row['messages_total'] > row['messages_included']: # условие, преверяющее, потрачены ли минуты из пакета\n",
    "        revenue_sms =  (row['messages_total'] - row['messages_included']) * row['rub_per_message']\n",
    "    revenue_tariff = row['rub_monthly_fee'] + revenue_min + revenue_gb + revenue_sms # сумируем абонентскую плату и стоимость трафика сверх пакета\n",
    "    return revenue_tariff\n",
    "traffic['revenue_tariff'] = traffic.apply(revenue_calculation, axis = 1)\n",
    "traffic.sort_values(by='revenue_tariff', ascending = False).head() # выведем строки с 5ю самыми большими затратами на связь"
   ]
  },
  {
   "cell_type": "markdown",
   "metadata": {},
   "source": [
    "Выручка по месяцам для каждого пользователя:"
   ]
  },
  {
   "cell_type": "code",
   "execution_count": 23,
   "metadata": {},
   "outputs": [
    {
     "data": {
      "text/plain": [
       "<matplotlib.axes._subplots.AxesSubplot at 0x7f8bfeedbe10>"
      ]
     },
     "execution_count": 23,
     "metadata": {},
     "output_type": "execute_result"
    },
    {
     "data": {
      "image/png": "[encoded data removed]",
      "text/plain": [
       "<Figure size 576x288 with 1 Axes>"
      ]
     },
     "metadata": {
      "needs_background": "light"
     },
     "output_type": "display_data"
    }
   ],
   "source": [
    "traffic.pivot_table(index='user_id',columns='month', values='revenue_tariff', aggfunc='mean').plot(kind='hist', figsize=(8,4), alpha=0.7)"
   ]
  },
  {
   "cell_type": "markdown",
   "metadata": {},
   "source": [
    "Большинсвто пользователей тратят на связь от 500  до 2500 руб. На графике видны 2 пиковых значния, вероятно, что левый пик(от 500 до 1250 руб.) значения тарифа Смарт, правый (от 1750 до 2500 руб0) - Ультра."
   ]
  },
  {
   "cell_type": "markdown",
   "metadata": {},
   "source": [
    "## Анализ и описание данных ##\n",
    "\n",
    "Опишите поведение клиентов оператора, исходя из выборки. Сколько минут разговора, сколько сообщений и какой объём интернет-трафика требуется пользователям каждого тарифа в месяц? Посчитайте среднее количество, дисперсию и стандартное отклонение. Постройте гистограммы. Опишите распределения."
   ]
  },
  {
   "cell_type": "markdown",
   "metadata": {},
   "source": [
    "Для анализа трафика (минут, сообщений и интернет) по каждому тарифу создадим таблицы для каждого тарифа:"
   ]
  },
  {
   "cell_type": "code",
   "execution_count": 24,
   "metadata": {},
   "outputs": [
    {
     "name": "stdout",
     "output_type": "stream",
     "text": [
      "Информация по параметрам тарифа \"Smart\":\n"
     ]
    },
    {
     "data": {
      "text/html": [
       "<div>\n",
       "<style scoped>\n",
       "    .dataframe tbody tr th:only-of-type {\n",
       "        vertical-align: middle;\n",
       "    }\n",
       "\n",
       "    .dataframe tbody tr th {\n",
       "        vertical-align: top;\n",
       "    }\n",
       "\n",
       "    .dataframe thead th {\n",
       "        text-align: right;\n",
       "    }\n",
       "</style>\n",
       "<table border=\"1\" class=\"dataframe\">\n",
       "  <thead>\n",
       "    <tr style=\"text-align: right;\">\n",
       "      <th></th>\n",
       "      <th>duration_total</th>\n",
       "      <th>gb_used_total</th>\n",
       "      <th>messages_total</th>\n",
       "    </tr>\n",
       "  </thead>\n",
       "  <tbody>\n",
       "    <tr>\n",
       "      <td>count</td>\n",
       "      <td>2223.000000</td>\n",
       "      <td>2227.000000</td>\n",
       "      <td>1922.000000</td>\n",
       "    </tr>\n",
       "    <tr>\n",
       "      <td>mean</td>\n",
       "      <td>419.062978</td>\n",
       "      <td>16.343511</td>\n",
       "      <td>38.716441</td>\n",
       "    </tr>\n",
       "    <tr>\n",
       "      <td>std</td>\n",
       "      <td>189.325618</td>\n",
       "      <td>5.728752</td>\n",
       "      <td>26.787949</td>\n",
       "    </tr>\n",
       "    <tr>\n",
       "      <td>min</td>\n",
       "      <td>0.000000</td>\n",
       "      <td>1.000000</td>\n",
       "      <td>1.000000</td>\n",
       "    </tr>\n",
       "    <tr>\n",
       "      <td>25%</td>\n",
       "      <td>285.000000</td>\n",
       "      <td>13.000000</td>\n",
       "      <td>17.000000</td>\n",
       "    </tr>\n",
       "    <tr>\n",
       "      <td>50%</td>\n",
       "      <td>423.000000</td>\n",
       "      <td>17.000000</td>\n",
       "      <td>34.000000</td>\n",
       "    </tr>\n",
       "    <tr>\n",
       "      <td>75%</td>\n",
       "      <td>545.500000</td>\n",
       "      <td>20.000000</td>\n",
       "      <td>55.000000</td>\n",
       "    </tr>\n",
       "    <tr>\n",
       "      <td>max</td>\n",
       "      <td>1435.000000</td>\n",
       "      <td>38.000000</td>\n",
       "      <td>143.000000</td>\n",
       "    </tr>\n",
       "  </tbody>\n",
       "</table>\n",
       "</div>"
      ],
      "text/plain": [
       "       duration_total  gb_used_total  messages_total\n",
       "count     2223.000000    2227.000000     1922.000000\n",
       "mean       419.062978      16.343511       38.716441\n",
       "std        189.325618       5.728752       26.787949\n",
       "min          0.000000       1.000000        1.000000\n",
       "25%        285.000000      13.000000       17.000000\n",
       "50%        423.000000      17.000000       34.000000\n",
       "75%        545.500000      20.000000       55.000000\n",
       "max       1435.000000      38.000000      143.000000"
      ]
     },
     "metadata": {},
     "output_type": "display_data"
    },
    {
     "name": "stdout",
     "output_type": "stream",
     "text": [
      "Информация по параметрам тарифа \"Ultra\":\n"
     ]
    },
    {
     "data": {
      "text/html": [
       "<div>\n",
       "<style scoped>\n",
       "    .dataframe tbody tr th:only-of-type {\n",
       "        vertical-align: middle;\n",
       "    }\n",
       "\n",
       "    .dataframe tbody tr th {\n",
       "        vertical-align: top;\n",
       "    }\n",
       "\n",
       "    .dataframe thead th {\n",
       "        text-align: right;\n",
       "    }\n",
       "</style>\n",
       "<table border=\"1\" class=\"dataframe\">\n",
       "  <thead>\n",
       "    <tr style=\"text-align: right;\">\n",
       "      <th></th>\n",
       "      <th>duration_total</th>\n",
       "      <th>gb_used_total</th>\n",
       "      <th>messages_total</th>\n",
       "    </tr>\n",
       "  </thead>\n",
       "  <tbody>\n",
       "    <tr>\n",
       "      <td>count</td>\n",
       "      <td>951.000000</td>\n",
       "      <td>974.000000</td>\n",
       "      <td>795.000000</td>\n",
       "    </tr>\n",
       "    <tr>\n",
       "      <td>mean</td>\n",
       "      <td>545.451104</td>\n",
       "      <td>19.714579</td>\n",
       "      <td>61.161006</td>\n",
       "    </tr>\n",
       "    <tr>\n",
       "      <td>std</td>\n",
       "      <td>306.925754</td>\n",
       "      <td>9.687335</td>\n",
       "      <td>45.931026</td>\n",
       "    </tr>\n",
       "    <tr>\n",
       "      <td>min</td>\n",
       "      <td>0.000000</td>\n",
       "      <td>1.000000</td>\n",
       "      <td>1.000000</td>\n",
       "    </tr>\n",
       "    <tr>\n",
       "      <td>25%</td>\n",
       "      <td>310.000000</td>\n",
       "      <td>12.000000</td>\n",
       "      <td>24.000000</td>\n",
       "    </tr>\n",
       "    <tr>\n",
       "      <td>50%</td>\n",
       "      <td>528.000000</td>\n",
       "      <td>19.000000</td>\n",
       "      <td>51.000000</td>\n",
       "    </tr>\n",
       "    <tr>\n",
       "      <td>75%</td>\n",
       "      <td>756.500000</td>\n",
       "      <td>27.000000</td>\n",
       "      <td>87.500000</td>\n",
       "    </tr>\n",
       "    <tr>\n",
       "      <td>max</td>\n",
       "      <td>1673.000000</td>\n",
       "      <td>49.000000</td>\n",
       "      <td>224.000000</td>\n",
       "    </tr>\n",
       "  </tbody>\n",
       "</table>\n",
       "</div>"
      ],
      "text/plain": [
       "       duration_total  gb_used_total  messages_total\n",
       "count      951.000000     974.000000      795.000000\n",
       "mean       545.451104      19.714579       61.161006\n",
       "std        306.925754       9.687335       45.931026\n",
       "min          0.000000       1.000000        1.000000\n",
       "25%        310.000000      12.000000       24.000000\n",
       "50%        528.000000      19.000000       51.000000\n",
       "75%        756.500000      27.000000       87.500000\n",
       "max       1673.000000      49.000000      224.000000"
      ]
     },
     "execution_count": 24,
     "metadata": {},
     "output_type": "execute_result"
    }
   ],
   "source": [
    "traffic_smart = traffic.query('tariff == \"smart\"')\n",
    "traffic_ultra = traffic.query('tariff == \"ultra\"')\n",
    "print('Информация по параметрам тарифа \"Smart\":')\n",
    "display(traffic_smart[['duration_total','gb_used_total','messages_total']].describe())\n",
    "print('Информация по параметрам тарифа \"Ultra\":')\n",
    "traffic_ultra[['duration_total','gb_used_total','messages_total']].describe()"
   ]
  },
  {
   "cell_type": "markdown",
   "metadata": {},
   "source": [
    "Проанализируем сколько минут разговора требуется пользователям каждого тарифа в месяц:"
   ]
  },
  {
   "cell_type": "code",
   "execution_count": 25,
   "metadata": {
    "scrolled": false
   },
   "outputs": [
    {
     "data": {
      "image/png": "[encoded data removed]",
      "text/plain": [
       "<Figure size 432x288 with 1 Axes>"
      ]
     },
     "metadata": {
      "needs_background": "light"
     },
     "output_type": "display_data"
    },
    {
     "data": {
      "image/png": "[encoded data removed]",
      "text/plain": [
       "<Figure size 432x288 with 1 Axes>"
      ]
     },
     "metadata": {
      "needs_background": "light"
     },
     "output_type": "display_data"
    },
    {
     "data": {
      "image/png": "[encoded data removed]",
      "text/plain": [
       "<Figure size 432x288 with 1 Axes>"
      ]
     },
     "metadata": {
      "needs_background": "light"
     },
     "output_type": "display_data"
    }
   ],
   "source": [
    "list_to_analize = ['duration_total','gb_used_total','messages_total']\n",
    "for item in list_to_analize:\n",
    "    fig, ax = plt.subplots()\n",
    "    traffic_smart[item].hist(bins=50, label = 'smart')\n",
    "    traffic_ultra[item].hist(bins=50, alpha=0.7, label = 'ultra')\n",
    "    ax.set_xlabel(item)\n",
    "    ax.set_title(item)\n",
    "    ax.legend()"
   ]
  },
  {
   "cell_type": "markdown",
   "metadata": {},
   "source": [
    "На графиках видны явные выбросы, необходимо избавиться от них. Для определения выбросов построим ящик с усами для каждого тарифа по параметрам минуты, интернет, сообщения. \n",
    "\n",
    "**1. Для тарифа Smart**"
   ]
  },
  {
   "cell_type": "code",
   "execution_count": 26,
   "metadata": {
    "scrolled": false
   },
   "outputs": [
    {
     "name": "stdout",
     "output_type": "stream",
     "text": [
      "count    2223.000000\n",
      "mean      419.062978\n",
      "std       189.325618\n",
      "min         0.000000\n",
      "25%       285.000000\n",
      "50%       423.000000\n",
      "75%       545.500000\n",
      "max      1435.000000\n",
      "Name: duration_total, dtype: float64\n"
     ]
    },
    {
     "data": {
      "image/png": "[encoded data removed]",
      "text/plain": [
       "<Figure size 432x288 with 1 Axes>"
      ]
     },
     "metadata": {
      "needs_background": "light"
     },
     "output_type": "display_data"
    },
    {
     "name": "stdout",
     "output_type": "stream",
     "text": [
      "В таблице duration_total необходимо отсечь все значения более 936.25 \n",
      "\n",
      "count    2211.000000\n",
      "mean       16.317503\n",
      "std         5.713488\n",
      "min         1.000000\n",
      "25%        13.000000\n",
      "50%        17.000000\n",
      "75%        20.000000\n",
      "max        37.000000\n",
      "Name: gb_used_total, dtype: float64\n"
     ]
    },
    {
     "data": {
      "image/png": "[encoded data removed]",
      "text/plain": [
       "<Figure size 432x288 with 1 Axes>"
      ]
     },
     "metadata": {
      "needs_background": "light"
     },
     "output_type": "display_data"
    },
    {
     "name": "stdout",
     "output_type": "stream",
     "text": [
      "В таблице gb_used_total необходимо отсечь все значения менее 2.5  и более 30.5 \n",
      "\n",
      "8       18\n",
      "9       14\n",
      "10      11\n",
      "11      18\n",
      "12      20\n",
      "        ..\n",
      "3168    22\n",
      "3169    21\n",
      "3171    18\n",
      "3172    18\n",
      "3173    13\n",
      "Name: gb_used_total, Length: 2162, dtype: Int64\n",
      "count    1865.000000\n",
      "mean       39.169973\n",
      "std        26.646662\n",
      "min         1.000000\n",
      "25%        18.000000\n",
      "50%        34.000000\n",
      "75%        56.000000\n",
      "max       143.000000\n",
      "Name: messages_total, dtype: float64\n"
     ]
    },
    {
     "data": {
      "image/png": "[encoded data removed]",
      "text/plain": [
       "<Figure size 432x288 with 1 Axes>"
      ]
     },
     "metadata": {
      "needs_background": "light"
     },
     "output_type": "display_data"
    },
    {
     "name": "stdout",
     "output_type": "stream",
     "text": [
      "В таблице messages_total необходимо отсечь все значения более 113.0 \n",
      "\n",
      "Очищенные значения тарифа Smart в таблице \"traffic_smart\":\n"
     ]
    },
    {
     "data": {
      "text/html": [
       "<div>\n",
       "<style scoped>\n",
       "    .dataframe tbody tr th:only-of-type {\n",
       "        vertical-align: middle;\n",
       "    }\n",
       "\n",
       "    .dataframe tbody tr th {\n",
       "        vertical-align: top;\n",
       "    }\n",
       "\n",
       "    .dataframe thead th {\n",
       "        text-align: right;\n",
       "    }\n",
       "</style>\n",
       "<table border=\"1\" class=\"dataframe\">\n",
       "  <thead>\n",
       "    <tr style=\"text-align: right;\">\n",
       "      <th></th>\n",
       "      <th>user_id</th>\n",
       "      <th>month</th>\n",
       "      <th>duration_total</th>\n",
       "      <th>gb_used_total</th>\n",
       "      <th>messages_total</th>\n",
       "      <th>age</th>\n",
       "      <th>churn_date</th>\n",
       "      <th>city</th>\n",
       "      <th>first_name</th>\n",
       "      <th>last_name</th>\n",
       "      <th>reg_date</th>\n",
       "      <th>tariff</th>\n",
       "      <th>messages_included</th>\n",
       "      <th>gb_per_month_included</th>\n",
       "      <th>minutes_included</th>\n",
       "      <th>rub_monthly_fee</th>\n",
       "      <th>rub_per_gb</th>\n",
       "      <th>rub_per_message</th>\n",
       "      <th>rub_per_minute</th>\n",
       "      <th>revenue_tariff</th>\n",
       "    </tr>\n",
       "  </thead>\n",
       "  <tbody>\n",
       "    <tr>\n",
       "      <td>10</td>\n",
       "      <td>1002</td>\n",
       "      <td>6</td>\n",
       "      <td>117</td>\n",
       "      <td>11</td>\n",
       "      <td>4</td>\n",
       "      <td>59</td>\n",
       "      <td>NaN</td>\n",
       "      <td>Стерлитамак</td>\n",
       "      <td>Евгений</td>\n",
       "      <td>Абрамович</td>\n",
       "      <td>2018-06-17</td>\n",
       "      <td>smart</td>\n",
       "      <td>50</td>\n",
       "      <td>15</td>\n",
       "      <td>500</td>\n",
       "      <td>550</td>\n",
       "      <td>200</td>\n",
       "      <td>3</td>\n",
       "      <td>3</td>\n",
       "      <td>550</td>\n",
       "    </tr>\n",
       "    <tr>\n",
       "      <td>11</td>\n",
       "      <td>1002</td>\n",
       "      <td>7</td>\n",
       "      <td>214</td>\n",
       "      <td>18</td>\n",
       "      <td>11</td>\n",
       "      <td>59</td>\n",
       "      <td>NaN</td>\n",
       "      <td>Стерлитамак</td>\n",
       "      <td>Евгений</td>\n",
       "      <td>Абрамович</td>\n",
       "      <td>2018-06-17</td>\n",
       "      <td>smart</td>\n",
       "      <td>50</td>\n",
       "      <td>15</td>\n",
       "      <td>500</td>\n",
       "      <td>550</td>\n",
       "      <td>200</td>\n",
       "      <td>3</td>\n",
       "      <td>3</td>\n",
       "      <td>1150</td>\n",
       "    </tr>\n",
       "    <tr>\n",
       "      <td>12</td>\n",
       "      <td>1002</td>\n",
       "      <td>8</td>\n",
       "      <td>289</td>\n",
       "      <td>20</td>\n",
       "      <td>13</td>\n",
       "      <td>59</td>\n",
       "      <td>NaN</td>\n",
       "      <td>Стерлитамак</td>\n",
       "      <td>Евгений</td>\n",
       "      <td>Абрамович</td>\n",
       "      <td>2018-06-17</td>\n",
       "      <td>smart</td>\n",
       "      <td>50</td>\n",
       "      <td>15</td>\n",
       "      <td>500</td>\n",
       "      <td>550</td>\n",
       "      <td>200</td>\n",
       "      <td>3</td>\n",
       "      <td>3</td>\n",
       "      <td>1550</td>\n",
       "    </tr>\n",
       "    <tr>\n",
       "      <td>13</td>\n",
       "      <td>1002</td>\n",
       "      <td>9</td>\n",
       "      <td>206</td>\n",
       "      <td>17</td>\n",
       "      <td>4</td>\n",
       "      <td>59</td>\n",
       "      <td>NaN</td>\n",
       "      <td>Стерлитамак</td>\n",
       "      <td>Евгений</td>\n",
       "      <td>Абрамович</td>\n",
       "      <td>2018-06-17</td>\n",
       "      <td>smart</td>\n",
       "      <td>50</td>\n",
       "      <td>15</td>\n",
       "      <td>500</td>\n",
       "      <td>550</td>\n",
       "      <td>200</td>\n",
       "      <td>3</td>\n",
       "      <td>3</td>\n",
       "      <td>950</td>\n",
       "    </tr>\n",
       "    <tr>\n",
       "      <td>14</td>\n",
       "      <td>1002</td>\n",
       "      <td>10</td>\n",
       "      <td>212</td>\n",
       "      <td>14</td>\n",
       "      <td>10</td>\n",
       "      <td>59</td>\n",
       "      <td>NaN</td>\n",
       "      <td>Стерлитамак</td>\n",
       "      <td>Евгений</td>\n",
       "      <td>Абрамович</td>\n",
       "      <td>2018-06-17</td>\n",
       "      <td>smart</td>\n",
       "      <td>50</td>\n",
       "      <td>15</td>\n",
       "      <td>500</td>\n",
       "      <td>550</td>\n",
       "      <td>200</td>\n",
       "      <td>3</td>\n",
       "      <td>3</td>\n",
       "      <td>550</td>\n",
       "    </tr>\n",
       "    <tr>\n",
       "      <td>...</td>\n",
       "      <td>...</td>\n",
       "      <td>...</td>\n",
       "      <td>...</td>\n",
       "      <td>...</td>\n",
       "      <td>...</td>\n",
       "      <td>...</td>\n",
       "      <td>...</td>\n",
       "      <td>...</td>\n",
       "      <td>...</td>\n",
       "      <td>...</td>\n",
       "      <td>...</td>\n",
       "      <td>...</td>\n",
       "      <td>...</td>\n",
       "      <td>...</td>\n",
       "      <td>...</td>\n",
       "      <td>...</td>\n",
       "      <td>...</td>\n",
       "      <td>...</td>\n",
       "      <td>...</td>\n",
       "      <td>...</td>\n",
       "    </tr>\n",
       "    <tr>\n",
       "      <td>3168</td>\n",
       "      <td>1498</td>\n",
       "      <td>9</td>\n",
       "      <td>471</td>\n",
       "      <td>22</td>\n",
       "      <td>44</td>\n",
       "      <td>68</td>\n",
       "      <td>2018-10-25</td>\n",
       "      <td>Владикавказ</td>\n",
       "      <td>Всеволод</td>\n",
       "      <td>Акимчин</td>\n",
       "      <td>2018-07-19</td>\n",
       "      <td>smart</td>\n",
       "      <td>50</td>\n",
       "      <td>15</td>\n",
       "      <td>500</td>\n",
       "      <td>550</td>\n",
       "      <td>200</td>\n",
       "      <td>3</td>\n",
       "      <td>3</td>\n",
       "      <td>1950</td>\n",
       "    </tr>\n",
       "    <tr>\n",
       "      <td>3169</td>\n",
       "      <td>1498</td>\n",
       "      <td>10</td>\n",
       "      <td>247</td>\n",
       "      <td>21</td>\n",
       "      <td>42</td>\n",
       "      <td>68</td>\n",
       "      <td>2018-10-25</td>\n",
       "      <td>Владикавказ</td>\n",
       "      <td>Всеволод</td>\n",
       "      <td>Акимчин</td>\n",
       "      <td>2018-07-19</td>\n",
       "      <td>smart</td>\n",
       "      <td>50</td>\n",
       "      <td>15</td>\n",
       "      <td>500</td>\n",
       "      <td>550</td>\n",
       "      <td>200</td>\n",
       "      <td>3</td>\n",
       "      <td>3</td>\n",
       "      <td>1750</td>\n",
       "    </tr>\n",
       "    <tr>\n",
       "      <td>3171</td>\n",
       "      <td>1499</td>\n",
       "      <td>10</td>\n",
       "      <td>449</td>\n",
       "      <td>18</td>\n",
       "      <td>48</td>\n",
       "      <td>35</td>\n",
       "      <td>NaN</td>\n",
       "      <td>Пермь</td>\n",
       "      <td>Гектор</td>\n",
       "      <td>Корнилов</td>\n",
       "      <td>2018-09-27</td>\n",
       "      <td>smart</td>\n",
       "      <td>50</td>\n",
       "      <td>15</td>\n",
       "      <td>500</td>\n",
       "      <td>550</td>\n",
       "      <td>200</td>\n",
       "      <td>3</td>\n",
       "      <td>3</td>\n",
       "      <td>1150</td>\n",
       "    </tr>\n",
       "    <tr>\n",
       "      <td>3172</td>\n",
       "      <td>1499</td>\n",
       "      <td>11</td>\n",
       "      <td>612</td>\n",
       "      <td>18</td>\n",
       "      <td>59</td>\n",
       "      <td>35</td>\n",
       "      <td>NaN</td>\n",
       "      <td>Пермь</td>\n",
       "      <td>Гектор</td>\n",
       "      <td>Корнилов</td>\n",
       "      <td>2018-09-27</td>\n",
       "      <td>smart</td>\n",
       "      <td>50</td>\n",
       "      <td>15</td>\n",
       "      <td>500</td>\n",
       "      <td>550</td>\n",
       "      <td>200</td>\n",
       "      <td>3</td>\n",
       "      <td>3</td>\n",
       "      <td>1513</td>\n",
       "    </tr>\n",
       "    <tr>\n",
       "      <td>3173</td>\n",
       "      <td>1499</td>\n",
       "      <td>12</td>\n",
       "      <td>492</td>\n",
       "      <td>13</td>\n",
       "      <td>66</td>\n",
       "      <td>35</td>\n",
       "      <td>NaN</td>\n",
       "      <td>Пермь</td>\n",
       "      <td>Гектор</td>\n",
       "      <td>Корнилов</td>\n",
       "      <td>2018-09-27</td>\n",
       "      <td>smart</td>\n",
       "      <td>50</td>\n",
       "      <td>15</td>\n",
       "      <td>500</td>\n",
       "      <td>550</td>\n",
       "      <td>200</td>\n",
       "      <td>3</td>\n",
       "      <td>3</td>\n",
       "      <td>598</td>\n",
       "    </tr>\n",
       "  </tbody>\n",
       "</table>\n",
       "<p>1851 rows × 20 columns</p>\n",
       "</div>"
      ],
      "text/plain": [
       "      user_id  month  duration_total  gb_used_total  messages_total  age  \\\n",
       "10       1002      6             117             11               4   59   \n",
       "11       1002      7             214             18              11   59   \n",
       "12       1002      8             289             20              13   59   \n",
       "13       1002      9             206             17               4   59   \n",
       "14       1002     10             212             14              10   59   \n",
       "...       ...    ...             ...            ...             ...  ...   \n",
       "3168     1498      9             471             22              44   68   \n",
       "3169     1498     10             247             21              42   68   \n",
       "3171     1499     10             449             18              48   35   \n",
       "3172     1499     11             612             18              59   35   \n",
       "3173     1499     12             492             13              66   35   \n",
       "\n",
       "      churn_date         city first_name  last_name   reg_date tariff  \\\n",
       "10           NaN  Стерлитамак    Евгений  Абрамович 2018-06-17  smart   \n",
       "11           NaN  Стерлитамак    Евгений  Абрамович 2018-06-17  smart   \n",
       "12           NaN  Стерлитамак    Евгений  Абрамович 2018-06-17  smart   \n",
       "13           NaN  Стерлитамак    Евгений  Абрамович 2018-06-17  smart   \n",
       "14           NaN  Стерлитамак    Евгений  Абрамович 2018-06-17  smart   \n",
       "...          ...          ...        ...        ...        ...    ...   \n",
       "3168  2018-10-25  Владикавказ   Всеволод    Акимчин 2018-07-19  smart   \n",
       "3169  2018-10-25  Владикавказ   Всеволод    Акимчин 2018-07-19  smart   \n",
       "3171         NaN        Пермь     Гектор   Корнилов 2018-09-27  smart   \n",
       "3172         NaN        Пермь     Гектор   Корнилов 2018-09-27  smart   \n",
       "3173         NaN        Пермь     Гектор   Корнилов 2018-09-27  smart   \n",
       "\n",
       "      messages_included  gb_per_month_included  minutes_included  \\\n",
       "10                   50                     15               500   \n",
       "11                   50                     15               500   \n",
       "12                   50                     15               500   \n",
       "13                   50                     15               500   \n",
       "14                   50                     15               500   \n",
       "...                 ...                    ...               ...   \n",
       "3168                 50                     15               500   \n",
       "3169                 50                     15               500   \n",
       "3171                 50                     15               500   \n",
       "3172                 50                     15               500   \n",
       "3173                 50                     15               500   \n",
       "\n",
       "      rub_monthly_fee  rub_per_gb  rub_per_message  rub_per_minute  \\\n",
       "10                550         200                3               3   \n",
       "11                550         200                3               3   \n",
       "12                550         200                3               3   \n",
       "13                550         200                3               3   \n",
       "14                550         200                3               3   \n",
       "...               ...         ...              ...             ...   \n",
       "3168              550         200                3               3   \n",
       "3169              550         200                3               3   \n",
       "3171              550         200                3               3   \n",
       "3172              550         200                3               3   \n",
       "3173              550         200                3               3   \n",
       "\n",
       "      revenue_tariff  \n",
       "10               550  \n",
       "11              1150  \n",
       "12              1550  \n",
       "13               950  \n",
       "14               550  \n",
       "...              ...  \n",
       "3168            1950  \n",
       "3169            1750  \n",
       "3171            1150  \n",
       "3172            1513  \n",
       "3173             598  \n",
       "\n",
       "[1851 rows x 20 columns]"
      ]
     },
     "execution_count": 26,
     "metadata": {},
     "output_type": "execute_result"
    }
   ],
   "source": [
    "for item in list_to_analize:\n",
    "    traffic_smart_stats = traffic_smart[item].describe()\n",
    "    print(traffic_smart_stats)\n",
    "    maxx = max(traffic[item])\n",
    "    fig, ax = plt.subplots()\n",
    "    plt.ylim(-10, maxx)\n",
    "    traffic_smart.boxplot(item)\n",
    "    ax.set_title(item)\n",
    "    plt.show()\n",
    "    IQR = traffic_smart_stats['75%'] - traffic_smart_stats['25%']\n",
    "    right_edge = traffic_smart_stats['75%']+ 1.5*IQR\n",
    "    left_edge = traffic_smart_stats['25%']- 1.5*IQR\n",
    "    if left_edge > 0:\n",
    "        print('В таблице',item,'необходимо отсечь все значения менее',left_edge,' и более',right_edge ,'\\n')\n",
    "        traffic_smart = traffic_smart[(traffic_smart[item] < right_edge)&(traffic_smart[item]>left_edge)]\n",
    "        print(traffic_smart[item])\n",
    "    else:\n",
    "        print('В таблице',item,'необходимо отсечь все значения более',right_edge ,'\\n')\n",
    "        traffic_smart = traffic_smart[traffic_smart[item] < right_edge]\n",
    "print('Очищенные значения тарифа Smart в таблице \"traffic_smart\":')\n",
    "traffic_smart"
   ]
  },
  {
   "cell_type": "markdown",
   "metadata": {},
   "source": [
    "**2. Для тарифа Ultra:**"
   ]
  },
  {
   "cell_type": "code",
   "execution_count": 27,
   "metadata": {
    "scrolled": false
   },
   "outputs": [
    {
     "name": "stdout",
     "output_type": "stream",
     "text": [
      "count     951.000000\n",
      "mean      545.451104\n",
      "std       306.925754\n",
      "min         0.000000\n",
      "25%       310.000000\n",
      "50%       528.000000\n",
      "75%       756.500000\n",
      "max      1673.000000\n",
      "Name: duration_total, dtype: float64\n"
     ]
    },
    {
     "data": {
      "image/png": "[encoded data removed]",
      "text/plain": [
       "<Figure size 432x288 with 1 Axes>"
      ]
     },
     "metadata": {
      "needs_background": "light"
     },
     "output_type": "display_data"
    },
    {
     "name": "stdout",
     "output_type": "stream",
     "text": [
      "В таблице duration_total необходимо отсечь все значения более 1426.25 \n",
      "\n",
      "count    938.000000\n",
      "mean      19.744136\n",
      "std        9.709142\n",
      "min        1.000000\n",
      "25%       12.000000\n",
      "50%       19.000000\n",
      "75%       27.000000\n",
      "max       49.000000\n",
      "Name: gb_used_total, dtype: float64\n"
     ]
    },
    {
     "data": {
      "image/png": "[encoded data removed]",
      "text/plain": [
       "<Figure size 432x288 with 1 Axes>"
      ]
     },
     "metadata": {
      "needs_background": "light"
     },
     "output_type": "display_data"
    },
    {
     "name": "stdout",
     "output_type": "stream",
     "text": [
      "В таблице gb_used_total необходимо отсечь все значения более 49.5 \n",
      "\n",
      "count    749.000000\n",
      "mean      61.805073\n",
      "std       44.821624\n",
      "min        1.000000\n",
      "25%       25.000000\n",
      "50%       53.000000\n",
      "75%       89.000000\n",
      "max      224.000000\n",
      "Name: messages_total, dtype: float64\n"
     ]
    },
    {
     "data": {
      "image/png": "[encoded data removed]",
      "text/plain": [
       "<Figure size 432x288 with 1 Axes>"
      ]
     },
     "metadata": {
      "needs_background": "light"
     },
     "output_type": "display_data"
    },
    {
     "name": "stdout",
     "output_type": "stream",
     "text": [
      "В таблице messages_total необходимо отсечь все значения более 185.0 \n",
      "\n",
      "Очищенные значения тарифа Ultra:\n"
     ]
    },
    {
     "data": {
      "text/html": [
       "<div>\n",
       "<style scoped>\n",
       "    .dataframe tbody tr th:only-of-type {\n",
       "        vertical-align: middle;\n",
       "    }\n",
       "\n",
       "    .dataframe tbody tr th {\n",
       "        vertical-align: top;\n",
       "    }\n",
       "\n",
       "    .dataframe thead th {\n",
       "        text-align: right;\n",
       "    }\n",
       "</style>\n",
       "<table border=\"1\" class=\"dataframe\">\n",
       "  <thead>\n",
       "    <tr style=\"text-align: right;\">\n",
       "      <th></th>\n",
       "      <th>user_id</th>\n",
       "      <th>month</th>\n",
       "      <th>duration_total</th>\n",
       "      <th>gb_used_total</th>\n",
       "      <th>messages_total</th>\n",
       "      <th>age</th>\n",
       "      <th>churn_date</th>\n",
       "      <th>city</th>\n",
       "      <th>first_name</th>\n",
       "      <th>last_name</th>\n",
       "      <th>reg_date</th>\n",
       "      <th>tariff</th>\n",
       "      <th>messages_included</th>\n",
       "      <th>gb_per_month_included</th>\n",
       "      <th>minutes_included</th>\n",
       "      <th>rub_monthly_fee</th>\n",
       "      <th>rub_per_gb</th>\n",
       "      <th>rub_per_message</th>\n",
       "      <th>rub_per_minute</th>\n",
       "      <th>revenue_tariff</th>\n",
       "    </tr>\n",
       "  </thead>\n",
       "  <tbody>\n",
       "    <tr>\n",
       "      <td>0</td>\n",
       "      <td>1000</td>\n",
       "      <td>5</td>\n",
       "      <td>159</td>\n",
       "      <td>3</td>\n",
       "      <td>22</td>\n",
       "      <td>52</td>\n",
       "      <td>NaN</td>\n",
       "      <td>Краснодар</td>\n",
       "      <td>Рафаил</td>\n",
       "      <td>Верещагин</td>\n",
       "      <td>2018-05-25</td>\n",
       "      <td>ultra</td>\n",
       "      <td>1000</td>\n",
       "      <td>30</td>\n",
       "      <td>3000</td>\n",
       "      <td>1950</td>\n",
       "      <td>150</td>\n",
       "      <td>1</td>\n",
       "      <td>1</td>\n",
       "      <td>1950</td>\n",
       "    </tr>\n",
       "    <tr>\n",
       "      <td>1</td>\n",
       "      <td>1000</td>\n",
       "      <td>6</td>\n",
       "      <td>172</td>\n",
       "      <td>23</td>\n",
       "      <td>60</td>\n",
       "      <td>52</td>\n",
       "      <td>NaN</td>\n",
       "      <td>Краснодар</td>\n",
       "      <td>Рафаил</td>\n",
       "      <td>Верещагин</td>\n",
       "      <td>2018-05-25</td>\n",
       "      <td>ultra</td>\n",
       "      <td>1000</td>\n",
       "      <td>30</td>\n",
       "      <td>3000</td>\n",
       "      <td>1950</td>\n",
       "      <td>150</td>\n",
       "      <td>1</td>\n",
       "      <td>1</td>\n",
       "      <td>1950</td>\n",
       "    </tr>\n",
       "    <tr>\n",
       "      <td>2</td>\n",
       "      <td>1000</td>\n",
       "      <td>7</td>\n",
       "      <td>340</td>\n",
       "      <td>14</td>\n",
       "      <td>75</td>\n",
       "      <td>52</td>\n",
       "      <td>NaN</td>\n",
       "      <td>Краснодар</td>\n",
       "      <td>Рафаил</td>\n",
       "      <td>Верещагин</td>\n",
       "      <td>2018-05-25</td>\n",
       "      <td>ultra</td>\n",
       "      <td>1000</td>\n",
       "      <td>30</td>\n",
       "      <td>3000</td>\n",
       "      <td>1950</td>\n",
       "      <td>150</td>\n",
       "      <td>1</td>\n",
       "      <td>1</td>\n",
       "      <td>1950</td>\n",
       "    </tr>\n",
       "    <tr>\n",
       "      <td>3</td>\n",
       "      <td>1000</td>\n",
       "      <td>8</td>\n",
       "      <td>408</td>\n",
       "      <td>14</td>\n",
       "      <td>81</td>\n",
       "      <td>52</td>\n",
       "      <td>NaN</td>\n",
       "      <td>Краснодар</td>\n",
       "      <td>Рафаил</td>\n",
       "      <td>Верещагин</td>\n",
       "      <td>2018-05-25</td>\n",
       "      <td>ultra</td>\n",
       "      <td>1000</td>\n",
       "      <td>30</td>\n",
       "      <td>3000</td>\n",
       "      <td>1950</td>\n",
       "      <td>150</td>\n",
       "      <td>1</td>\n",
       "      <td>1</td>\n",
       "      <td>1950</td>\n",
       "    </tr>\n",
       "    <tr>\n",
       "      <td>4</td>\n",
       "      <td>1000</td>\n",
       "      <td>9</td>\n",
       "      <td>466</td>\n",
       "      <td>15</td>\n",
       "      <td>57</td>\n",
       "      <td>52</td>\n",
       "      <td>NaN</td>\n",
       "      <td>Краснодар</td>\n",
       "      <td>Рафаил</td>\n",
       "      <td>Верещагин</td>\n",
       "      <td>2018-05-25</td>\n",
       "      <td>ultra</td>\n",
       "      <td>1000</td>\n",
       "      <td>30</td>\n",
       "      <td>3000</td>\n",
       "      <td>1950</td>\n",
       "      <td>150</td>\n",
       "      <td>1</td>\n",
       "      <td>1</td>\n",
       "      <td>1950</td>\n",
       "    </tr>\n",
       "    <tr>\n",
       "      <td>...</td>\n",
       "      <td>...</td>\n",
       "      <td>...</td>\n",
       "      <td>...</td>\n",
       "      <td>...</td>\n",
       "      <td>...</td>\n",
       "      <td>...</td>\n",
       "      <td>...</td>\n",
       "      <td>...</td>\n",
       "      <td>...</td>\n",
       "      <td>...</td>\n",
       "      <td>...</td>\n",
       "      <td>...</td>\n",
       "      <td>...</td>\n",
       "      <td>...</td>\n",
       "      <td>...</td>\n",
       "      <td>...</td>\n",
       "      <td>...</td>\n",
       "      <td>...</td>\n",
       "      <td>...</td>\n",
       "      <td>...</td>\n",
       "    </tr>\n",
       "    <tr>\n",
       "      <td>3146</td>\n",
       "      <td>1495</td>\n",
       "      <td>8</td>\n",
       "      <td>92</td>\n",
       "      <td>3</td>\n",
       "      <td>13</td>\n",
       "      <td>65</td>\n",
       "      <td>NaN</td>\n",
       "      <td>Иркутск</td>\n",
       "      <td>Авксентий</td>\n",
       "      <td>Фокин</td>\n",
       "      <td>2018-08-28</td>\n",
       "      <td>ultra</td>\n",
       "      <td>1000</td>\n",
       "      <td>30</td>\n",
       "      <td>3000</td>\n",
       "      <td>1950</td>\n",
       "      <td>150</td>\n",
       "      <td>1</td>\n",
       "      <td>1</td>\n",
       "      <td>1950</td>\n",
       "    </tr>\n",
       "    <tr>\n",
       "      <td>3147</td>\n",
       "      <td>1495</td>\n",
       "      <td>9</td>\n",
       "      <td>813</td>\n",
       "      <td>33</td>\n",
       "      <td>82</td>\n",
       "      <td>65</td>\n",
       "      <td>NaN</td>\n",
       "      <td>Иркутск</td>\n",
       "      <td>Авксентий</td>\n",
       "      <td>Фокин</td>\n",
       "      <td>2018-08-28</td>\n",
       "      <td>ultra</td>\n",
       "      <td>1000</td>\n",
       "      <td>30</td>\n",
       "      <td>3000</td>\n",
       "      <td>1950</td>\n",
       "      <td>150</td>\n",
       "      <td>1</td>\n",
       "      <td>1</td>\n",
       "      <td>2400</td>\n",
       "    </tr>\n",
       "    <tr>\n",
       "      <td>3148</td>\n",
       "      <td>1495</td>\n",
       "      <td>10</td>\n",
       "      <td>1030</td>\n",
       "      <td>29</td>\n",
       "      <td>82</td>\n",
       "      <td>65</td>\n",
       "      <td>NaN</td>\n",
       "      <td>Иркутск</td>\n",
       "      <td>Авксентий</td>\n",
       "      <td>Фокин</td>\n",
       "      <td>2018-08-28</td>\n",
       "      <td>ultra</td>\n",
       "      <td>1000</td>\n",
       "      <td>30</td>\n",
       "      <td>3000</td>\n",
       "      <td>1950</td>\n",
       "      <td>150</td>\n",
       "      <td>1</td>\n",
       "      <td>1</td>\n",
       "      <td>1950</td>\n",
       "    </tr>\n",
       "    <tr>\n",
       "      <td>3149</td>\n",
       "      <td>1495</td>\n",
       "      <td>11</td>\n",
       "      <td>954</td>\n",
       "      <td>39</td>\n",
       "      <td>79</td>\n",
       "      <td>65</td>\n",
       "      <td>NaN</td>\n",
       "      <td>Иркутск</td>\n",
       "      <td>Авксентий</td>\n",
       "      <td>Фокин</td>\n",
       "      <td>2018-08-28</td>\n",
       "      <td>ultra</td>\n",
       "      <td>1000</td>\n",
       "      <td>30</td>\n",
       "      <td>3000</td>\n",
       "      <td>1950</td>\n",
       "      <td>150</td>\n",
       "      <td>1</td>\n",
       "      <td>1</td>\n",
       "      <td>3300</td>\n",
       "    </tr>\n",
       "    <tr>\n",
       "      <td>3150</td>\n",
       "      <td>1495</td>\n",
       "      <td>12</td>\n",
       "      <td>1031</td>\n",
       "      <td>23</td>\n",
       "      <td>84</td>\n",
       "      <td>65</td>\n",
       "      <td>NaN</td>\n",
       "      <td>Иркутск</td>\n",
       "      <td>Авксентий</td>\n",
       "      <td>Фокин</td>\n",
       "      <td>2018-08-28</td>\n",
       "      <td>ultra</td>\n",
       "      <td>1000</td>\n",
       "      <td>30</td>\n",
       "      <td>3000</td>\n",
       "      <td>1950</td>\n",
       "      <td>150</td>\n",
       "      <td>1</td>\n",
       "      <td>1</td>\n",
       "      <td>1950</td>\n",
       "    </tr>\n",
       "  </tbody>\n",
       "</table>\n",
       "<p>744 rows × 20 columns</p>\n",
       "</div>"
      ],
      "text/plain": [
       "      user_id  month  duration_total  gb_used_total  messages_total  age  \\\n",
       "0        1000      5             159              3              22   52   \n",
       "1        1000      6             172             23              60   52   \n",
       "2        1000      7             340             14              75   52   \n",
       "3        1000      8             408             14              81   52   \n",
       "4        1000      9             466             15              57   52   \n",
       "...       ...    ...             ...            ...             ...  ...   \n",
       "3146     1495      8              92              3              13   65   \n",
       "3147     1495      9             813             33              82   65   \n",
       "3148     1495     10            1030             29              82   65   \n",
       "3149     1495     11             954             39              79   65   \n",
       "3150     1495     12            1031             23              84   65   \n",
       "\n",
       "     churn_date       city first_name  last_name   reg_date tariff  \\\n",
       "0           NaN  Краснодар     Рафаил  Верещагин 2018-05-25  ultra   \n",
       "1           NaN  Краснодар     Рафаил  Верещагин 2018-05-25  ultra   \n",
       "2           NaN  Краснодар     Рафаил  Верещагин 2018-05-25  ultra   \n",
       "3           NaN  Краснодар     Рафаил  Верещагин 2018-05-25  ultra   \n",
       "4           NaN  Краснодар     Рафаил  Верещагин 2018-05-25  ultra   \n",
       "...         ...        ...        ...        ...        ...    ...   \n",
       "3146        NaN    Иркутск  Авксентий      Фокин 2018-08-28  ultra   \n",
       "3147        NaN    Иркутск  Авксентий      Фокин 2018-08-28  ultra   \n",
       "3148        NaN    Иркутск  Авксентий      Фокин 2018-08-28  ultra   \n",
       "3149        NaN    Иркутск  Авксентий      Фокин 2018-08-28  ultra   \n",
       "3150        NaN    Иркутск  Авксентий      Фокин 2018-08-28  ultra   \n",
       "\n",
       "      messages_included  gb_per_month_included  minutes_included  \\\n",
       "0                  1000                     30              3000   \n",
       "1                  1000                     30              3000   \n",
       "2                  1000                     30              3000   \n",
       "3                  1000                     30              3000   \n",
       "4                  1000                     30              3000   \n",
       "...                 ...                    ...               ...   \n",
       "3146               1000                     30              3000   \n",
       "3147               1000                     30              3000   \n",
       "3148               1000                     30              3000   \n",
       "3149               1000                     30              3000   \n",
       "3150               1000                     30              3000   \n",
       "\n",
       "      rub_monthly_fee  rub_per_gb  rub_per_message  rub_per_minute  \\\n",
       "0                1950         150                1               1   \n",
       "1                1950         150                1               1   \n",
       "2                1950         150                1               1   \n",
       "3                1950         150                1               1   \n",
       "4                1950         150                1               1   \n",
       "...               ...         ...              ...             ...   \n",
       "3146             1950         150                1               1   \n",
       "3147             1950         150                1               1   \n",
       "3148             1950         150                1               1   \n",
       "3149             1950         150                1               1   \n",
       "3150             1950         150                1               1   \n",
       "\n",
       "      revenue_tariff  \n",
       "0               1950  \n",
       "1               1950  \n",
       "2               1950  \n",
       "3               1950  \n",
       "4               1950  \n",
       "...              ...  \n",
       "3146            1950  \n",
       "3147            2400  \n",
       "3148            1950  \n",
       "3149            3300  \n",
       "3150            1950  \n",
       "\n",
       "[744 rows x 20 columns]"
      ]
     },
     "execution_count": 27,
     "metadata": {},
     "output_type": "execute_result"
    }
   ],
   "source": [
    "for item in list_to_analize:\n",
    "    traffic_ultra_stats = traffic_ultra[item].describe()\n",
    "    print(traffic_ultra_stats)\n",
    "    maxx = max(traffic[item])\n",
    "    fig, ax = plt.subplots()\n",
    "    plt.ylim(-10, maxx)\n",
    "    traffic_ultra.boxplot(item)\n",
    "    ax.set_title(item)\n",
    "    plt.show()\n",
    "    IQR = traffic_ultra_stats['75%'] - traffic_ultra_stats['25%']\n",
    "    right_edge = traffic_ultra_stats['75%']+ 1.5*IQR\n",
    "    left_edge = traffic_ultra_stats['25%']- 1.5*IQR\n",
    "    if left_edge > 0:\n",
    "        print('В таблице',item,'необходимо отсечь все значения менее',left_edge,' и более',right_edge ,'\\n')\n",
    "        traffic_ultra = traffic_ultra[(traffic_ultra[item] < right_edge)&(traffic_ultra[item]>left_edge)]\n",
    "        print(traffic_ultra[item])\n",
    "    else:\n",
    "        print('В таблице',item,'необходимо отсечь все значения более',right_edge ,'\\n')\n",
    "        traffic_ultra = traffic_ultra[traffic_ultra[item] < right_edge]\n",
    "print('Очищенные значения тарифа Ultra:')\n",
    "traffic_ultra"
   ]
  },
  {
   "cell_type": "markdown",
   "metadata": {},
   "source": [
    "Выручка в тарифе Смарт сильнее зависит от скачанного объема интернета чем в тарифе Ультра.\n",
    "\n",
    "Найдем среднние значения потребления трафика(минут, интернета и сообщений) по каждому тарифу"
   ]
  },
  {
   "cell_type": "code",
   "execution_count": 29,
   "metadata": {
    "scrolled": true
   },
   "outputs": [
    {
     "data": {
      "text/plain": [
       "<matplotlib.axes._subplots.AxesSubplot at 0x7f8bfec52990>"
      ]
     },
     "execution_count": 29,
     "metadata": {},
     "output_type": "execute_result"
    },
    {
     "data": {
      "image/png": "[encoded data removed]",
      "text/plain": [
       "<Figure size 576x288 with 1 Axes>"
      ]
     },
     "metadata": {
      "needs_background": "light"
     },
     "output_type": "display_data"
    }
   ],
   "source": [
    "ax=(traffic_smart.pivot_table(index='user_id', columns='tariff',values='duration_total',aggfunc='mean')\n",
    ".plot(kind='hist', figsize=(8, 4), grid=True))\n",
    "ax.set_title('Среднее количество минут, выговариваемых пользователями в тарифах')\n",
    "(traffic_ultra.pivot_table(index='user_id', columns='tariff', values='duration_total',aggfunc='mean')\n",
    ".plot(kind='hist', figsize=(8, 4), grid=True, ax=ax, alpha=0.7))\n",
    "#'gb_used_total','messages_total'"
   ]
  },
  {
   "cell_type": "markdown",
   "metadata": {},
   "source": [
    "Значения количества минут, потраченных пользователями, распределены нормально. Пользователи тарифа \"Ультра\" выговаривают гораздо больше минут нежели польователи тарифа \"Смарт\", однако часть абонентов тарифа \"Смарт\" тратят минуты сверх пакета, т.е. пакета в 500 минут, предусмотренного тарифом, им недостаточно."
   ]
  },
  {
   "cell_type": "code",
   "execution_count": 30,
   "metadata": {
    "scrolled": true
   },
   "outputs": [
    {
     "data": {
      "text/plain": [
       "<matplotlib.axes._subplots.AxesSubplot at 0x7f8bfeba5fd0>"
      ]
     },
     "execution_count": 30,
     "metadata": {},
     "output_type": "execute_result"
    },
    {
     "data": {
      "image/png": "[encoded data removed]",
      "text/plain": [
       "<Figure size 576x288 with 1 Axes>"
      ]
     },
     "metadata": {
      "needs_background": "light"
     },
     "output_type": "display_data"
    }
   ],
   "source": [
    "ax=(traffic_smart.pivot_table(index='user_id', columns= 'tariff', values='gb_used_total',aggfunc='mean')\n",
    ".plot(kind='hist', bins=15, figsize=(8, 4), grid=True, alpha=1))\n",
    "ax.set_title('Среднее количество Гб, скачеваымых пользователями в тарифах')\n",
    "(traffic_ultra.pivot_table(index='user_id', columns= 'tariff', values='gb_used_total',aggfunc='mean')\n",
    ".plot(kind='hist',bins=15, figsize=(8, 4), grid=True, ax=ax, alpha=0.5))\n"
   ]
  },
  {
   "cell_type": "markdown",
   "metadata": {},
   "source": [
    "Значения количества интернет трафика, потраченного пользователями, распределены нормально. Пользователи тарифа Ультра тратят  больше интернета нежели польователи тарифа \"Смарт\", однако большая часть абонентов тарифа \"Смарт\" тратят Гб сверх пакета, т.е. пакета в 15 минут, предусмотренного тарифом, им недостаточно."
   ]
  },
  {
   "cell_type": "code",
   "execution_count": 31,
   "metadata": {},
   "outputs": [
    {
     "data": {
      "text/plain": [
       "<matplotlib.axes._subplots.AxesSubplot at 0x7f8bf6024810>"
      ]
     },
     "execution_count": 31,
     "metadata": {},
     "output_type": "execute_result"
    },
    {
     "data": {
      "image/png": "[encoded data removed]",
      "text/plain": [
       "<Figure size 576x288 with 1 Axes>"
      ]
     },
     "metadata": {
      "needs_background": "light"
     },
     "output_type": "display_data"
    }
   ],
   "source": [
    "ax=(traffic_smart.pivot_table(index='user_id', columns= 'tariff', values='messages_total',aggfunc='mean')\n",
    ".plot(kind='hist', figsize=(8, 4), grid=True))\n",
    "ax.set_title('Среднее количество сообщений, отправляемых пользователями в тарифах')\n",
    "(traffic_ultra.pivot_table(index='user_id', columns= 'tariff', values='messages_total',aggfunc='mean')\n",
    ".plot(kind='hist', figsize=(8, 4), grid=True, ax=ax, alpha=0.7))\n"
   ]
  },
  {
   "cell_type": "markdown",
   "metadata": {},
   "source": [
    "Распределения значений сообщений, потраченных пользователями, имеют скошенность в положительную сторону, пользователи тарифа \"Ультра\" тратят гораздо больше сообщений нежели польователи тарифа \"Смарт\", однако часть абонентов тарифа \"Смарт\" тратят сообщения сверх пакета, т.е. пакета в 50 сообщений, предусмотренного тарифом, им недостаточно."
   ]
  },
  {
   "cell_type": "code",
   "execution_count": 32,
   "metadata": {},
   "outputs": [
    {
     "data": {
      "text/plain": [
       "<matplotlib.axes._subplots.AxesSubplot at 0x7f8bfeb1b910>"
      ]
     },
     "execution_count": 32,
     "metadata": {},
     "output_type": "execute_result"
    },
    {
     "data": {
      "image/png": "[encoded data removed]",
      "text/plain": [
       "<Figure size 576x288 with 1 Axes>"
      ]
     },
     "metadata": {
      "needs_background": "light"
     },
     "output_type": "display_data"
    }
   ],
   "source": [
    "ax=(traffic_smart.pivot_table(index='user_id', columns= 'tariff', values='revenue_tariff',aggfunc='mean')\n",
    ".plot(kind='hist', figsize=(8, 4), grid=True))\n",
    "ax.set_title('Средняя выручка от пользователей тарифов')\n",
    "(traffic_ultra.pivot_table(index='user_id', columns= 'tariff', values='revenue_tariff',aggfunc='mean')\n",
    ".plot(kind='hist', figsize=(8, 4), grid=True, ax=ax, alpha=0.7))"
   ]
  },
  {
   "cell_type": "markdown",
   "metadata": {},
   "source": [
    "Распределения значений выручки от пользователями имеют скошенность в положительную сторону. Пользователи тарифа Ультра приносят гораздо больше выручки нежели пользователи тарифа Смарт. Однако  абоненты тарифа Смарт, часто приносят выручку большую, чем абонентская плата на тарифе(550 руб.), вследствие перерасхода пакетов трафика включенного в тариф.\n",
    "\n",
    "Рассчитаем значения дисперсии и стандартного отклонения для показателей трафика и выручки пользователей тарифов:"
   ]
  },
  {
   "cell_type": "code",
   "execution_count": 33,
   "metadata": {
    "scrolled": true
   },
   "outputs": [
    {
     "name": "stdout",
     "output_type": "stream",
     "text": [
      "Дисперсия и стандартное отклонение значений трафика и выручки для тарифа Smart\n"
     ]
    },
    {
     "data": {
      "text/html": [
       "<div>\n",
       "<style scoped>\n",
       "    .dataframe tbody tr th:only-of-type {\n",
       "        vertical-align: middle;\n",
       "    }\n",
       "\n",
       "    .dataframe tbody tr th {\n",
       "        vertical-align: top;\n",
       "    }\n",
       "\n",
       "    .dataframe thead tr th {\n",
       "        text-align: left;\n",
       "    }\n",
       "\n",
       "    .dataframe thead tr:last-of-type th {\n",
       "        text-align: right;\n",
       "    }\n",
       "</style>\n",
       "<table border=\"1\" class=\"dataframe\">\n",
       "  <thead>\n",
       "    <tr>\n",
       "      <th></th>\n",
       "      <th colspan=\"4\" halign=\"left\">var</th>\n",
       "      <th colspan=\"4\" halign=\"left\">std</th>\n",
       "    </tr>\n",
       "    <tr>\n",
       "      <th></th>\n",
       "      <th>duration_total</th>\n",
       "      <th>gb_used_total</th>\n",
       "      <th>messages_total</th>\n",
       "      <th>revenue_tariff</th>\n",
       "      <th>duration_total</th>\n",
       "      <th>gb_used_total</th>\n",
       "      <th>messages_total</th>\n",
       "      <th>revenue_tariff</th>\n",
       "    </tr>\n",
       "    <tr>\n",
       "      <th>tariff</th>\n",
       "      <th></th>\n",
       "      <th></th>\n",
       "      <th></th>\n",
       "      <th></th>\n",
       "      <th></th>\n",
       "      <th></th>\n",
       "      <th></th>\n",
       "      <th></th>\n",
       "    </tr>\n",
       "  </thead>\n",
       "  <tbody>\n",
       "    <tr>\n",
       "      <td>smart</td>\n",
       "      <td>31616.52</td>\n",
       "      <td>27.19</td>\n",
       "      <td>654.35</td>\n",
       "      <td>547624.43</td>\n",
       "      <td>177.81</td>\n",
       "      <td>5.21</td>\n",
       "      <td>25.58</td>\n",
       "      <td>740.02</td>\n",
       "    </tr>\n",
       "  </tbody>\n",
       "</table>\n",
       "</div>"
      ],
      "text/plain": [
       "                  var                                              \\\n",
       "       duration_total gb_used_total messages_total revenue_tariff   \n",
       "tariff                                                              \n",
       "smart        31616.52         27.19         654.35      547624.43   \n",
       "\n",
       "                  std                                              \n",
       "       duration_total gb_used_total messages_total revenue_tariff  \n",
       "tariff                                                             \n",
       "smart          177.81          5.21          25.58         740.02  "
      ]
     },
     "metadata": {},
     "output_type": "display_data"
    },
    {
     "name": "stdout",
     "output_type": "stream",
     "text": [
      "Дисперсия и стандартное отклонение значений трафика и выручки для тарифа Ultra\n"
     ]
    },
    {
     "data": {
      "text/html": [
       "<div>\n",
       "<style scoped>\n",
       "    .dataframe tbody tr th:only-of-type {\n",
       "        vertical-align: middle;\n",
       "    }\n",
       "\n",
       "    .dataframe tbody tr th {\n",
       "        vertical-align: top;\n",
       "    }\n",
       "\n",
       "    .dataframe thead tr th {\n",
       "        text-align: left;\n",
       "    }\n",
       "\n",
       "    .dataframe thead tr:last-of-type th {\n",
       "        text-align: right;\n",
       "    }\n",
       "</style>\n",
       "<table border=\"1\" class=\"dataframe\">\n",
       "  <thead>\n",
       "    <tr>\n",
       "      <th></th>\n",
       "      <th colspan=\"4\" halign=\"left\">var</th>\n",
       "      <th colspan=\"4\" halign=\"left\">std</th>\n",
       "    </tr>\n",
       "    <tr>\n",
       "      <th></th>\n",
       "      <th>duration_total</th>\n",
       "      <th>gb_used_total</th>\n",
       "      <th>messages_total</th>\n",
       "      <th>revenue_tariff</th>\n",
       "      <th>duration_total</th>\n",
       "      <th>gb_used_total</th>\n",
       "      <th>messages_total</th>\n",
       "      <th>revenue_tariff</th>\n",
       "    </tr>\n",
       "    <tr>\n",
       "      <th>tariff</th>\n",
       "      <th></th>\n",
       "      <th></th>\n",
       "      <th></th>\n",
       "      <th></th>\n",
       "      <th></th>\n",
       "      <th></th>\n",
       "      <th></th>\n",
       "      <th></th>\n",
       "    </tr>\n",
       "  </thead>\n",
       "  <tbody>\n",
       "    <tr>\n",
       "      <td>ultra</td>\n",
       "      <td>94321.67</td>\n",
       "      <td>86.71</td>\n",
       "      <td>1882.01</td>\n",
       "      <td>106353.11</td>\n",
       "      <td>307.12</td>\n",
       "      <td>9.31</td>\n",
       "      <td>43.38</td>\n",
       "      <td>326.12</td>\n",
       "    </tr>\n",
       "  </tbody>\n",
       "</table>\n",
       "</div>"
      ],
      "text/plain": [
       "                  var                                              \\\n",
       "       duration_total gb_used_total messages_total revenue_tariff   \n",
       "tariff                                                              \n",
       "ultra        94321.67         86.71        1882.01      106353.11   \n",
       "\n",
       "                  std                                              \n",
       "       duration_total gb_used_total messages_total revenue_tariff  \n",
       "tariff                                                             \n",
       "ultra          307.12          9.31          43.38         326.12  "
      ]
     },
     "execution_count": 33,
     "metadata": {},
     "output_type": "execute_result"
    }
   ],
   "source": [
    "print('Дисперсия и стандартное отклонение значений трафика и выручки для тарифа Smart')\n",
    "display(traffic_smart.pivot_table(index='tariff',values=['duration_total','gb_used_total','messages_total','revenue_tariff'], aggfunc=['var','std']).round(2))\n",
    "print('Дисперсия и стандартное отклонение значений трафика и выручки для тарифа Ultra')\n",
    "traffic_ultra.pivot_table(index='tariff',values=['duration_total','gb_used_total','messages_total','revenue_tariff'], aggfunc=['var','std']).round(2)"
   ]
  },
  {
   "cell_type": "markdown",
   "metadata": {},
   "source": [
    "Значения дисперсии выручки тарифов отличаются друго от друга, применим полученное наболюдение в следующем этапе исследования"
   ]
  },
  {
   "cell_type": "markdown",
   "metadata": {},
   "source": [
    "## Проверка гипотез"
   ]
  },
  {
   "cell_type": "markdown",
   "metadata": {},
   "source": [
    "Сформулируем нулевую гипотезу: средняя выручка пользователей тарифов «Ультра» и «Смарт» равны. В качестве альтернативной  гипотезы принимаем: средняя выручка пользователей тарифов «Ультра» и «Смарт» не равны.\n",
    "Выборки тарифов имеют разные размеры, их дисперсии разные, параметр equal_var = False"
   ]
  },
  {
   "cell_type": "code",
   "execution_count": 37,
   "metadata": {},
   "outputs": [
    {
     "data": {
      "text/plain": [
       "10       550\n",
       "11      1150\n",
       "12      1550\n",
       "13       950\n",
       "14       550\n",
       "        ... \n",
       "3168    1950\n",
       "3169    1750\n",
       "3171    1150\n",
       "3172    1513\n",
       "3173     598\n",
       "Name: revenue_tariff, Length: 1851, dtype: int64"
      ]
     },
     "execution_count": 37,
     "metadata": {},
     "output_type": "execute_result"
    }
   ],
   "source": [
    "traffic_smart['revenue_tariff']"
   ]
  },
  {
   "cell_type": "code",
   "execution_count": 34,
   "metadata": {},
   "outputs": [
    {
     "name": "stdout",
     "output_type": "stream",
     "text": [
      "p-значение:  2.0228209865307776e-248\n",
      "Отвергаем нулевую гипотезу\n"
     ]
    }
   ],
   "source": [
    "alpha = 0.05 \n",
    "\n",
    "results = st.ttest_ind(traffic_smart['revenue_tariff'],traffic_ultra['revenue_tariff'],equal_var = False)\n",
    "print('p-значение: ', results.pvalue) \n",
    "if results.pvalue < alpha: \n",
    "    print(\"Отвергаем нулевую гипотезу\") \n",
    "else: \n",
    "    print(\"Не получилось отвергнуть нулевую гипотезу\") "
   ]
  },
  {
   "cell_type": "markdown",
   "metadata": {},
   "source": [
    "Таким образом алтернативная гипотеза верна: средняя выручка пользователей тарифов «Ультра» и «Смарт» разные.\n",
    "\n",
    "Теперь сравним  выручку пользователй из Москвы с выручкой пользоватей из других городов.\n",
    "\n",
    "Сформулируем нулевую гипотезу: средняя выручка пользователей из Москвы и выручки пользователей из других регионов равны. В качестве альтернативной гипотезы принимаем: средняя выручка пользователей из Москвы отличается от выручки пользователей из других регионов."
   ]
  },
  {
   "cell_type": "code",
   "execution_count": 35,
   "metadata": {},
   "outputs": [
    {
     "name": "stdout",
     "output_type": "stream",
     "text": [
      "Дисперсия выручки пользователей Москвы 565636.47\n",
      "Дисперсия выручки пользователей Москвы 611\n",
      "Количество пользователей других городов 654137.63\n",
      "Количество пользователей других городов 2603\n"
     ]
    }
   ],
   "source": [
    "other_city_revenue = traffic[traffic['city'] != 'Москва']['revenue_tariff']\n",
    "moscow_revenue = traffic[traffic['city'] == 'Москва']['revenue_tariff']\n",
    "print('Дисперсия выручки пользователей Москвы',traffic.query('city == \"Москва\"')['revenue_tariff'].var().round(2))\n",
    "print('Дисперсия выручки пользователей Москвы',traffic.query('city == \"Москва\"')['user_id'].count())\n",
    "print('Количество пользователей других городов',traffic.query('city != \"Москва\"')['revenue_tariff'].var().round(2))\n",
    "print('Количество пользователей других городов',traffic.query('city != \"Москва\"')['user_id'].count())"
   ]
  },
  {
   "cell_type": "markdown",
   "metadata": {},
   "source": [
    "Выборки тарифов имеют разные размеры, их дисперсии разные, параметр equal_var = False"
   ]
  },
  {
   "cell_type": "code",
   "execution_count": 36,
   "metadata": {},
   "outputs": [
    {
     "name": "stdout",
     "output_type": "stream",
     "text": [
      "p-значение:  0.5440152911670224\n",
      "Не получилось отвергнуть нулевую гипотезу\n"
     ]
    }
   ],
   "source": [
    "alpha = 0.05 \n",
    "results = st.ttest_ind(other_city_revenue,moscow_revenue)\n",
    "print('p-значение: ', results.pvalue) \n",
    "if results.pvalue < alpha: \n",
    "    print(\"Отвергаем нулевую гипотезу\") \n",
    "else: \n",
    "    print(\"Не получилось отвергнуть нулевую гипотезу\") "
   ]
  },
  {
   "cell_type": "markdown",
   "metadata": {},
   "source": [
    "Таким образом наша гипотеза подтвержается: средняя выручка пользователей из Москвы и выручки пользователей из других регионов равны."
   ]
  },
  {
   "cell_type": "markdown",
   "metadata": {},
   "source": [
    "## Общий вывод"
   ]
  },
  {
   "cell_type": "markdown",
   "metadata": {},
   "source": [
    "В ходе исследования была обработана информация об абонентах сотовой компаниии \"Мегалайн\" - пользователях двух тарифных планов «Смарт» и «Ультра». Были объеденены несколько таблиц с данными для получения полной информации по трафику абонентов. Произведен расчет выручки, приносимой каждым абонентом за определенный месяц. \n",
    "\n",
    "Пользователи высокомаржинального тарифа \"Ультра\" в среднем потребляют большее количество трафика(минут, сообщений, Гб) и как следствие, приносят больше выручки. Однако число пользователей тарифа Смарт значительно больше и часть абонентов перерасходуют  количество трафика, содержащегося в тарифе. Преимущественно им не хвататет пакета интернета. А значит, для получения большей выручки, можно определенному количеству абонентов тарифа \"Смарт\" предложить переход на тариф \"Ультра\", либо же акцентировать внимание на его продвижение для новых абонентов."
   ]
  }
 ],
 "metadata": {
  "ExecuteTimeLog": [
   {
    "duration": 1171,
    "start_time": "2022-02-05T19:24:44.888Z"
   },
   {
    "duration": 324,
    "start_time": "2022-02-05T19:28:04.698Z"
   },
   {
    "duration": 4,
    "start_time": "2022-02-05T19:28:11.410Z"
   },
   {
    "duration": 1082,
    "start_time": "2022-02-05T19:28:11.416Z"
   },
   {
    "duration": 15,
    "start_time": "2022-02-05T19:28:13.213Z"
   },
   {
    "duration": 11,
    "start_time": "2022-02-05T19:32:44.222Z"
   },
   {
    "duration": 251,
    "start_time": "2022-02-05T19:33:29.457Z"
   },
   {
    "duration": 69,
    "start_time": "2022-02-05T19:34:38.581Z"
   },
   {
    "duration": 16,
    "start_time": "2022-02-05T19:35:09.336Z"
   },
   {
    "duration": 264,
    "start_time": "2022-02-05T19:35:49.963Z"
   },
   {
    "duration": 117,
    "start_time": "2022-02-05T19:36:22.222Z"
   },
   {
    "duration": 45,
    "start_time": "2022-02-05T19:37:05.898Z"
   },
   {
    "duration": 104,
    "start_time": "2022-02-05T19:37:49.545Z"
   },
   {
    "duration": 101,
    "start_time": "2022-02-05T19:38:20.037Z"
   },
   {
    "duration": 97,
    "start_time": "2022-02-05T19:39:01.161Z"
   },
   {
    "duration": 6,
    "start_time": "2022-02-05T20:19:53.685Z"
   },
   {
    "duration": 8,
    "start_time": "2022-02-05T20:20:46.400Z"
   },
   {
    "duration": 86,
    "start_time": "2022-02-05T20:21:57.305Z"
   },
   {
    "duration": 603,
    "start_time": "2022-02-05T20:22:10.261Z"
   },
   {
    "duration": 9,
    "start_time": "2022-02-05T20:22:15.831Z"
   },
   {
    "duration": 46,
    "start_time": "2022-02-05T20:22:39.484Z"
   },
   {
    "duration": 21,
    "start_time": "2022-02-05T20:23:09.364Z"
   },
   {
    "duration": 49,
    "start_time": "2022-02-05T20:25:07.880Z"
   },
   {
    "duration": 3,
    "start_time": "2022-02-05T20:25:19.206Z"
   },
   {
    "duration": 489,
    "start_time": "2022-02-05T20:25:19.211Z"
   },
   {
    "duration": 122,
    "start_time": "2022-02-05T20:25:19.702Z"
   },
   {
    "duration": 53,
    "start_time": "2022-02-05T20:25:22.207Z"
   },
   {
    "duration": 42,
    "start_time": "2022-02-05T20:25:40.775Z"
   },
   {
    "duration": 48,
    "start_time": "2022-02-05T20:25:49.436Z"
   },
   {
    "duration": 48,
    "start_time": "2022-02-05T20:25:50.584Z"
   },
   {
    "duration": 53,
    "start_time": "2022-02-05T20:25:51.298Z"
   },
   {
    "duration": 41,
    "start_time": "2022-02-05T20:25:51.579Z"
   },
   {
    "duration": 42,
    "start_time": "2022-02-05T20:25:51.774Z"
   },
   {
    "duration": 47,
    "start_time": "2022-02-05T20:25:51.937Z"
   },
   {
    "duration": 45,
    "start_time": "2022-02-05T20:26:24.747Z"
   },
   {
    "duration": 269,
    "start_time": "2022-02-05T20:27:03.542Z"
   },
   {
    "duration": 60,
    "start_time": "2022-02-05T20:27:16.959Z"
   },
   {
    "duration": 47,
    "start_time": "2022-02-05T20:27:56.680Z"
   },
   {
    "duration": 40,
    "start_time": "2022-02-05T20:40:34.483Z"
   },
   {
    "duration": 22,
    "start_time": "2022-02-05T20:40:50.081Z"
   },
   {
    "duration": 45,
    "start_time": "2022-02-05T20:42:40.381Z"
   },
   {
    "duration": 292,
    "start_time": "2022-02-05T20:47:51.139Z"
   },
   {
    "duration": 73,
    "start_time": "2022-02-05T20:50:57.313Z"
   },
   {
    "duration": 5,
    "start_time": "2022-02-05T20:53:33.895Z"
   },
   {
    "duration": 5,
    "start_time": "2022-02-05T20:53:39.673Z"
   },
   {
    "duration": 432,
    "start_time": "2022-02-05T21:00:09.184Z"
   },
   {
    "duration": 296,
    "start_time": "2022-02-05T21:00:34.953Z"
   },
   {
    "duration": 3,
    "start_time": "2022-02-05T21:01:02.712Z"
   },
   {
    "duration": 445,
    "start_time": "2022-02-05T21:01:02.718Z"
   },
   {
    "duration": 107,
    "start_time": "2022-02-05T21:01:03.165Z"
   },
   {
    "duration": 94,
    "start_time": "2022-02-05T21:01:03.274Z"
   },
   {
    "duration": 350,
    "start_time": "2022-02-05T21:01:08.217Z"
   },
   {
    "duration": 257,
    "start_time": "2022-02-05T21:07:57.635Z"
   },
   {
    "duration": 3,
    "start_time": "2022-02-05T21:08:05.815Z"
   },
   {
    "duration": 426,
    "start_time": "2022-02-05T21:08:05.821Z"
   },
   {
    "duration": 100,
    "start_time": "2022-02-05T21:08:06.249Z"
   },
   {
    "duration": 77,
    "start_time": "2022-02-05T21:08:06.351Z"
   },
   {
    "duration": 252,
    "start_time": "2022-02-05T21:08:09.673Z"
   },
   {
    "duration": 7,
    "start_time": "2022-02-05T21:08:46.392Z"
   },
   {
    "duration": 3,
    "start_time": "2022-02-05T21:09:41.152Z"
   },
   {
    "duration": 400,
    "start_time": "2022-02-05T21:09:41.157Z"
   },
   {
    "duration": 101,
    "start_time": "2022-02-05T21:09:41.559Z"
   },
   {
    "duration": 75,
    "start_time": "2022-02-05T21:09:41.662Z"
   },
   {
    "duration": 8,
    "start_time": "2022-02-05T21:09:44.714Z"
   },
   {
    "duration": 7,
    "start_time": "2022-02-05T21:10:33.872Z"
   },
   {
    "duration": 8,
    "start_time": "2022-02-05T21:10:43.580Z"
   },
   {
    "duration": 3,
    "start_time": "2022-02-05T21:10:49.283Z"
   },
   {
    "duration": 420,
    "start_time": "2022-02-05T21:10:49.288Z"
   },
   {
    "duration": 121,
    "start_time": "2022-02-05T21:10:49.711Z"
   },
   {
    "duration": 66,
    "start_time": "2022-02-05T21:10:49.833Z"
   },
   {
    "duration": 8,
    "start_time": "2022-02-05T21:10:57.833Z"
   },
   {
    "duration": 9,
    "start_time": "2022-02-05T21:12:27.776Z"
   },
   {
    "duration": 3,
    "start_time": "2022-02-05T21:12:31.852Z"
   },
   {
    "duration": 403,
    "start_time": "2022-02-05T21:12:31.857Z"
   },
   {
    "duration": 103,
    "start_time": "2022-02-05T21:12:32.262Z"
   },
   {
    "duration": 84,
    "start_time": "2022-02-05T21:12:32.367Z"
   },
   {
    "duration": 11,
    "start_time": "2022-02-05T21:12:34.520Z"
   },
   {
    "duration": 14,
    "start_time": "2022-02-05T21:15:24.724Z"
   },
   {
    "duration": 1748,
    "start_time": "2022-02-06T09:29:53.687Z"
   },
   {
    "duration": 1730,
    "start_time": "2022-02-06T09:29:53.707Z"
   },
   {
    "duration": 1702,
    "start_time": "2022-02-06T09:29:53.736Z"
   },
   {
    "duration": 1698,
    "start_time": "2022-02-06T09:29:53.742Z"
   },
   {
    "duration": 1695,
    "start_time": "2022-02-06T09:29:53.746Z"
   },
   {
    "duration": 1691,
    "start_time": "2022-02-06T09:29:53.751Z"
   },
   {
    "duration": 1687,
    "start_time": "2022-02-06T09:29:53.757Z"
   },
   {
    "duration": 4,
    "start_time": "2022-02-06T09:29:58.328Z"
   },
   {
    "duration": 474,
    "start_time": "2022-02-06T09:29:58.335Z"
   },
   {
    "duration": 173,
    "start_time": "2022-02-06T09:29:58.812Z"
   },
   {
    "duration": 109,
    "start_time": "2022-02-06T09:29:58.988Z"
   },
   {
    "duration": 10,
    "start_time": "2022-02-06T09:29:59.099Z"
   },
   {
    "duration": 17,
    "start_time": "2022-02-06T09:29:59.124Z"
   },
   {
    "duration": 10,
    "start_time": "2022-02-06T09:29:59.144Z"
   },
   {
    "duration": 11,
    "start_time": "2022-02-06T09:30:28.783Z"
   },
   {
    "duration": 12,
    "start_time": "2022-02-06T09:30:43.939Z"
   },
   {
    "duration": 19,
    "start_time": "2022-02-06T09:30:51.005Z"
   },
   {
    "duration": 13,
    "start_time": "2022-02-06T09:39:41.477Z"
   },
   {
    "duration": 11,
    "start_time": "2022-02-06T09:39:57.728Z"
   },
   {
    "duration": 26,
    "start_time": "2022-02-06T09:40:14.733Z"
   },
   {
    "duration": 21,
    "start_time": "2022-02-06T09:40:20.657Z"
   },
   {
    "duration": 351,
    "start_time": "2022-02-06T09:45:32.983Z"
   },
   {
    "duration": 16,
    "start_time": "2022-02-06T09:45:39.340Z"
   },
   {
    "duration": 4,
    "start_time": "2022-02-06T09:45:44.461Z"
   },
   {
    "duration": 479,
    "start_time": "2022-02-06T09:45:44.468Z"
   },
   {
    "duration": 22,
    "start_time": "2022-02-06T09:45:49.590Z"
   },
   {
    "duration": 365,
    "start_time": "2022-02-06T09:45:58.012Z"
   },
   {
    "duration": 329,
    "start_time": "2022-02-06T09:49:50.684Z"
   },
   {
    "duration": 131,
    "start_time": "2022-02-06T09:50:14.357Z"
   },
   {
    "duration": 334,
    "start_time": "2022-02-06T09:51:11.603Z"
   },
   {
    "duration": 305,
    "start_time": "2022-02-06T09:52:27.582Z"
   },
   {
    "duration": 269,
    "start_time": "2022-02-06T09:53:10.828Z"
   },
   {
    "duration": 329,
    "start_time": "2022-02-06T09:53:43.009Z"
   },
   {
    "duration": 457,
    "start_time": "2022-02-06T09:54:07.859Z"
   },
   {
    "duration": 300,
    "start_time": "2022-02-06T09:55:14.533Z"
   },
   {
    "duration": 289,
    "start_time": "2022-02-06T10:07:53.978Z"
   },
   {
    "duration": 162,
    "start_time": "2022-02-06T10:08:48.118Z"
   },
   {
    "duration": 130,
    "start_time": "2022-02-06T10:09:11.866Z"
   },
   {
    "duration": 147,
    "start_time": "2022-02-06T10:10:03.521Z"
   },
   {
    "duration": 149,
    "start_time": "2022-02-06T10:10:23.803Z"
   },
   {
    "duration": 129,
    "start_time": "2022-02-06T10:10:57.835Z"
   },
   {
    "duration": 148,
    "start_time": "2022-02-06T10:11:05.375Z"
   },
   {
    "duration": 147,
    "start_time": "2022-02-06T10:11:20.076Z"
   },
   {
    "duration": 163,
    "start_time": "2022-02-06T10:11:48.262Z"
   },
   {
    "duration": 548,
    "start_time": "2022-02-06T10:14:10.843Z"
   },
   {
    "duration": 132,
    "start_time": "2022-02-06T10:14:14.842Z"
   },
   {
    "duration": 473,
    "start_time": "2022-02-06T10:14:35.668Z"
   },
   {
    "duration": 489,
    "start_time": "2022-02-06T10:19:20.675Z"
   },
   {
    "duration": 664,
    "start_time": "2022-02-06T10:19:27.779Z"
   },
   {
    "duration": 11,
    "start_time": "2022-02-06T10:23:24.983Z"
   },
   {
    "duration": 22,
    "start_time": "2022-02-06T10:23:30.990Z"
   },
   {
    "duration": 37,
    "start_time": "2022-02-06T10:26:50.481Z"
   },
   {
    "duration": 52,
    "start_time": "2022-02-06T10:26:59.288Z"
   },
   {
    "duration": 393,
    "start_time": "2022-02-06T10:27:26.609Z"
   },
   {
    "duration": 101,
    "start_time": "2022-02-06T10:31:03.309Z"
   },
   {
    "duration": 128,
    "start_time": "2022-02-06T10:31:08.691Z"
   },
   {
    "duration": 45,
    "start_time": "2022-02-06T10:31:14.578Z"
   },
   {
    "duration": 353,
    "start_time": "2022-02-06T10:31:47.740Z"
   },
   {
    "duration": 41,
    "start_time": "2022-02-06T10:37:38.109Z"
   },
   {
    "duration": 348,
    "start_time": "2022-02-06T10:38:06.455Z"
   },
   {
    "duration": 43,
    "start_time": "2022-02-06T10:38:17.381Z"
   },
   {
    "duration": 518,
    "start_time": "2022-02-06T10:40:21.308Z"
   },
   {
    "duration": 732,
    "start_time": "2022-02-06T10:40:43.871Z"
   },
   {
    "duration": 50,
    "start_time": "2022-02-06T10:43:30.764Z"
   },
   {
    "duration": 48,
    "start_time": "2022-02-06T10:45:01.226Z"
   },
   {
    "duration": 295,
    "start_time": "2022-02-06T10:45:40.208Z"
   },
   {
    "duration": 300,
    "start_time": "2022-02-06T10:45:58.548Z"
   },
   {
    "duration": 48,
    "start_time": "2022-02-06T10:46:05.934Z"
   },
   {
    "duration": 33,
    "start_time": "2022-02-06T10:47:22.270Z"
   },
   {
    "duration": 5,
    "start_time": "2022-02-06T10:47:52.765Z"
   },
   {
    "duration": 527,
    "start_time": "2022-02-06T10:47:52.772Z"
   },
   {
    "duration": 154,
    "start_time": "2022-02-06T10:47:53.302Z"
   },
   {
    "duration": 108,
    "start_time": "2022-02-06T10:47:53.459Z"
   },
   {
    "duration": 10,
    "start_time": "2022-02-06T10:47:53.569Z"
   },
   {
    "duration": 8122,
    "start_time": "2022-02-06T10:47:53.582Z"
   },
   {
    "duration": 2361,
    "start_time": "2022-02-06T10:47:59.345Z"
   },
   {
    "duration": 2358,
    "start_time": "2022-02-06T10:47:59.350Z"
   },
   {
    "duration": 4,
    "start_time": "2022-02-06T10:48:27.833Z"
   },
   {
    "duration": 481,
    "start_time": "2022-02-06T10:48:27.840Z"
   },
   {
    "duration": 150,
    "start_time": "2022-02-06T10:48:28.324Z"
   },
   {
    "duration": 112,
    "start_time": "2022-02-06T10:48:28.476Z"
   },
   {
    "duration": 9,
    "start_time": "2022-02-06T10:48:28.591Z"
   },
   {
    "duration": 21,
    "start_time": "2022-02-06T10:48:42.803Z"
   },
   {
    "duration": 32,
    "start_time": "2022-02-06T10:48:48.623Z"
   },
   {
    "duration": 5,
    "start_time": "2022-02-06T10:49:08.621Z"
   },
   {
    "duration": 483,
    "start_time": "2022-02-06T10:49:08.628Z"
   },
   {
    "duration": 162,
    "start_time": "2022-02-06T10:49:09.114Z"
   },
   {
    "duration": 115,
    "start_time": "2022-02-06T10:49:09.278Z"
   },
   {
    "duration": 13,
    "start_time": "2022-02-06T10:49:09.395Z"
   },
   {
    "duration": 21,
    "start_time": "2022-02-06T10:49:09.424Z"
   },
   {
    "duration": 31,
    "start_time": "2022-02-06T10:49:19.601Z"
   },
   {
    "duration": 4,
    "start_time": "2022-02-06T10:49:34.759Z"
   },
   {
    "duration": 507,
    "start_time": "2022-02-06T10:49:34.766Z"
   },
   {
    "duration": 171,
    "start_time": "2022-02-06T10:49:35.276Z"
   },
   {
    "duration": 99,
    "start_time": "2022-02-06T10:49:35.450Z"
   },
   {
    "duration": 11,
    "start_time": "2022-02-06T10:49:35.552Z"
   },
   {
    "duration": 24,
    "start_time": "2022-02-06T10:49:35.566Z"
   },
   {
    "duration": 25,
    "start_time": "2022-02-06T10:49:40.894Z"
   },
   {
    "duration": 305,
    "start_time": "2022-02-06T10:52:47.657Z"
   },
   {
    "duration": 1996,
    "start_time": "2022-02-06T10:52:51.387Z"
   },
   {
    "duration": 5,
    "start_time": "2022-02-06T10:53:06.739Z"
   },
   {
    "duration": 490,
    "start_time": "2022-02-06T10:53:06.747Z"
   },
   {
    "duration": 145,
    "start_time": "2022-02-06T10:53:07.240Z"
   },
   {
    "duration": 108,
    "start_time": "2022-02-06T10:53:07.388Z"
   },
   {
    "duration": 10,
    "start_time": "2022-02-06T10:53:07.498Z"
   },
   {
    "duration": 20,
    "start_time": "2022-02-06T10:53:07.524Z"
   },
   {
    "duration": 2403,
    "start_time": "2022-02-06T10:53:10.077Z"
   },
   {
    "duration": 38,
    "start_time": "2022-02-06T10:53:34.676Z"
   },
   {
    "duration": 4,
    "start_time": "2022-02-06T10:57:51.127Z"
   },
   {
    "duration": 479,
    "start_time": "2022-02-06T10:57:51.134Z"
   },
   {
    "duration": 158,
    "start_time": "2022-02-06T10:57:51.615Z"
   },
   {
    "duration": 120,
    "start_time": "2022-02-06T10:57:51.777Z"
   },
   {
    "duration": 24,
    "start_time": "2022-02-06T10:57:51.900Z"
   },
   {
    "duration": 22,
    "start_time": "2022-02-06T10:57:51.927Z"
   },
   {
    "duration": 5949,
    "start_time": "2022-02-06T10:57:59.232Z"
   },
   {
    "duration": 5923,
    "start_time": "2022-02-06T10:58:05.801Z"
   },
   {
    "duration": 55,
    "start_time": "2022-02-06T10:58:58.691Z"
   },
   {
    "duration": 5,
    "start_time": "2022-02-06T11:03:21.204Z"
   },
   {
    "duration": 490,
    "start_time": "2022-02-06T11:03:21.212Z"
   },
   {
    "duration": 164,
    "start_time": "2022-02-06T11:03:21.706Z"
   },
   {
    "duration": 115,
    "start_time": "2022-02-06T11:03:21.874Z"
   },
   {
    "duration": 12,
    "start_time": "2022-02-06T11:03:21.991Z"
   },
   {
    "duration": 41,
    "start_time": "2022-02-06T11:03:22.005Z"
   },
   {
    "duration": 37,
    "start_time": "2022-02-06T11:03:24.790Z"
   },
   {
    "duration": 40,
    "start_time": "2022-02-06T11:05:53.856Z"
   },
   {
    "duration": 42,
    "start_time": "2022-02-06T11:09:13.012Z"
   },
   {
    "duration": 5,
    "start_time": "2022-02-06T11:09:38.459Z"
   },
   {
    "duration": 453,
    "start_time": "2022-02-06T11:09:38.467Z"
   },
   {
    "duration": 157,
    "start_time": "2022-02-06T11:09:38.923Z"
   },
   {
    "duration": 108,
    "start_time": "2022-02-06T11:09:39.082Z"
   },
   {
    "duration": 10,
    "start_time": "2022-02-06T11:09:39.192Z"
   },
   {
    "duration": 38,
    "start_time": "2022-02-06T11:09:39.204Z"
   },
   {
    "duration": 40,
    "start_time": "2022-02-06T11:09:43.250Z"
   },
   {
    "duration": 48,
    "start_time": "2022-02-06T11:10:12.434Z"
   },
   {
    "duration": 4,
    "start_time": "2022-02-06T11:10:32.852Z"
   },
   {
    "duration": 507,
    "start_time": "2022-02-06T11:10:32.863Z"
   },
   {
    "duration": 167,
    "start_time": "2022-02-06T11:10:33.373Z"
   },
   {
    "duration": 118,
    "start_time": "2022-02-06T11:10:33.543Z"
   },
   {
    "duration": 11,
    "start_time": "2022-02-06T11:10:33.664Z"
   },
   {
    "duration": 21,
    "start_time": "2022-02-06T11:10:33.678Z"
   },
   {
    "duration": 43,
    "start_time": "2022-02-06T11:10:35.374Z"
   },
   {
    "duration": 42,
    "start_time": "2022-02-06T11:10:49.906Z"
   },
   {
    "duration": 4,
    "start_time": "2022-02-06T11:11:02.492Z"
   },
   {
    "duration": 496,
    "start_time": "2022-02-06T11:11:02.500Z"
   },
   {
    "duration": 184,
    "start_time": "2022-02-06T11:11:02.999Z"
   },
   {
    "duration": 131,
    "start_time": "2022-02-06T11:11:03.186Z"
   },
   {
    "duration": 14,
    "start_time": "2022-02-06T11:11:03.324Z"
   },
   {
    "duration": 22,
    "start_time": "2022-02-06T11:11:03.340Z"
   },
   {
    "duration": 42,
    "start_time": "2022-02-06T11:11:05.770Z"
   },
   {
    "duration": 889,
    "start_time": "2022-02-06T15:11:33.374Z"
   },
   {
    "duration": 1322,
    "start_time": "2022-02-06T15:11:37.955Z"
   },
   {
    "duration": 515,
    "start_time": "2022-02-06T15:11:39.280Z"
   },
   {
    "duration": 202,
    "start_time": "2022-02-06T15:11:39.798Z"
   },
   {
    "duration": 172,
    "start_time": "2022-02-06T15:11:40.004Z"
   },
   {
    "duration": 15,
    "start_time": "2022-02-06T15:11:40.179Z"
   },
   {
    "duration": 53,
    "start_time": "2022-02-06T15:11:40.197Z"
   },
   {
    "duration": 72,
    "start_time": "2022-02-06T15:11:40.253Z"
   },
   {
    "duration": 766,
    "start_time": "2022-02-06T15:11:46.595Z"
   },
   {
    "duration": 526,
    "start_time": "2022-02-06T15:12:07.026Z"
   },
   {
    "duration": 89,
    "start_time": "2022-02-06T15:12:13.986Z"
   },
   {
    "duration": 56,
    "start_time": "2022-02-06T15:12:38.079Z"
   },
   {
    "duration": 66,
    "start_time": "2022-02-06T15:12:43.551Z"
   },
   {
    "duration": 65,
    "start_time": "2022-02-06T15:14:33.768Z"
   },
   {
    "duration": 82,
    "start_time": "2022-02-06T15:15:01.382Z"
   },
   {
    "duration": 102,
    "start_time": "2022-02-06T15:37:37.068Z"
   },
   {
    "duration": 100,
    "start_time": "2022-02-06T15:39:12.605Z"
   },
   {
    "duration": 107,
    "start_time": "2022-02-06T15:39:32.772Z"
   },
   {
    "duration": 96,
    "start_time": "2022-02-06T15:39:36.501Z"
   },
   {
    "duration": 372,
    "start_time": "2022-02-06T15:40:33.582Z"
   },
   {
    "duration": 292,
    "start_time": "2022-02-06T15:41:02.150Z"
   },
   {
    "duration": 290,
    "start_time": "2022-02-06T15:41:29.040Z"
   },
   {
    "duration": 119,
    "start_time": "2022-02-06T15:41:38.732Z"
   },
   {
    "duration": 92,
    "start_time": "2022-02-06T15:41:49.780Z"
   },
   {
    "duration": 94,
    "start_time": "2022-02-06T15:42:34.518Z"
   },
   {
    "duration": 93,
    "start_time": "2022-02-06T15:42:58.826Z"
   },
   {
    "duration": 91,
    "start_time": "2022-02-06T15:52:29.924Z"
   },
   {
    "duration": 48,
    "start_time": "2022-02-06T15:52:50.008Z"
   },
   {
    "duration": 4,
    "start_time": "2022-02-06T15:52:57.325Z"
   },
   {
    "duration": 527,
    "start_time": "2022-02-06T15:52:57.332Z"
   },
   {
    "duration": 152,
    "start_time": "2022-02-06T15:52:57.862Z"
   },
   {
    "duration": 103,
    "start_time": "2022-02-06T15:52:58.016Z"
   },
   {
    "duration": 10,
    "start_time": "2022-02-06T15:52:58.122Z"
   },
   {
    "duration": 21,
    "start_time": "2022-02-06T15:52:58.149Z"
   },
   {
    "duration": 39,
    "start_time": "2022-02-06T15:52:58.173Z"
   },
   {
    "duration": 403,
    "start_time": "2022-02-06T15:52:58.215Z"
   },
   {
    "duration": 46,
    "start_time": "2022-02-06T15:53:49.983Z"
   },
   {
    "duration": 46,
    "start_time": "2022-02-06T15:55:20.808Z"
   },
   {
    "duration": 4,
    "start_time": "2022-02-06T15:55:54.772Z"
   },
   {
    "duration": 511,
    "start_time": "2022-02-06T15:55:54.779Z"
   },
   {
    "duration": 155,
    "start_time": "2022-02-06T15:55:55.293Z"
   },
   {
    "duration": 102,
    "start_time": "2022-02-06T15:55:55.451Z"
   },
   {
    "duration": 10,
    "start_time": "2022-02-06T15:55:55.555Z"
   },
   {
    "duration": 37,
    "start_time": "2022-02-06T15:55:55.567Z"
   },
   {
    "duration": 58,
    "start_time": "2022-02-06T15:55:55.607Z"
   },
   {
    "duration": 48,
    "start_time": "2022-02-06T15:55:55.668Z"
   },
   {
    "duration": 97,
    "start_time": "2022-02-06T15:55:55.719Z"
   },
   {
    "duration": 53,
    "start_time": "2022-02-06T15:57:14.745Z"
   },
   {
    "duration": 5,
    "start_time": "2022-02-06T15:57:50.796Z"
   },
   {
    "duration": 504,
    "start_time": "2022-02-06T15:57:50.803Z"
   },
   {
    "duration": 155,
    "start_time": "2022-02-06T15:57:51.310Z"
   },
   {
    "duration": 107,
    "start_time": "2022-02-06T15:57:51.469Z"
   },
   {
    "duration": 13,
    "start_time": "2022-02-06T15:57:51.579Z"
   },
   {
    "duration": 24,
    "start_time": "2022-02-06T15:57:51.594Z"
   },
   {
    "duration": 44,
    "start_time": "2022-02-06T15:57:51.649Z"
   },
   {
    "duration": 95,
    "start_time": "2022-02-06T15:57:55.123Z"
   },
   {
    "duration": 89,
    "start_time": "2022-02-06T16:01:24.845Z"
   },
   {
    "duration": 4,
    "start_time": "2022-02-06T16:02:57.549Z"
   },
   {
    "duration": 520,
    "start_time": "2022-02-06T16:02:57.555Z"
   },
   {
    "duration": 147,
    "start_time": "2022-02-06T16:02:58.078Z"
   },
   {
    "duration": 98,
    "start_time": "2022-02-06T16:02:58.228Z"
   },
   {
    "duration": 27,
    "start_time": "2022-02-06T16:02:58.329Z"
   },
   {
    "duration": 25,
    "start_time": "2022-02-06T16:02:58.358Z"
   },
   {
    "duration": 68,
    "start_time": "2022-02-06T16:02:58.386Z"
   },
   {
    "duration": 113,
    "start_time": "2022-02-06T16:02:58.458Z"
   },
   {
    "duration": 106,
    "start_time": "2022-02-06T16:02:58.574Z"
   },
   {
    "duration": 104,
    "start_time": "2022-02-06T16:03:47.586Z"
   },
   {
    "duration": 125,
    "start_time": "2022-02-06T16:05:59.628Z"
   },
   {
    "duration": 20,
    "start_time": "2022-02-06T16:06:13.401Z"
   },
   {
    "duration": 123,
    "start_time": "2022-02-06T16:06:19.884Z"
   },
   {
    "duration": 35,
    "start_time": "2022-02-06T16:06:30.870Z"
   },
   {
    "duration": 123,
    "start_time": "2022-02-06T16:06:37.008Z"
   },
   {
    "duration": 134,
    "start_time": "2022-02-06T16:07:38.588Z"
   },
   {
    "duration": 686,
    "start_time": "2022-02-06T16:08:02.670Z"
   },
   {
    "duration": 134,
    "start_time": "2022-02-06T16:08:12.493Z"
   },
   {
    "duration": 129,
    "start_time": "2022-02-06T16:08:28.901Z"
   },
   {
    "duration": 4,
    "start_time": "2022-02-06T16:08:55.364Z"
   },
   {
    "duration": 492,
    "start_time": "2022-02-06T16:08:55.371Z"
   },
   {
    "duration": 145,
    "start_time": "2022-02-06T16:08:55.866Z"
   },
   {
    "duration": 108,
    "start_time": "2022-02-06T16:08:56.014Z"
   },
   {
    "duration": 10,
    "start_time": "2022-02-06T16:08:56.124Z"
   },
   {
    "duration": 24,
    "start_time": "2022-02-06T16:08:56.149Z"
   },
   {
    "duration": 83,
    "start_time": "2022-02-06T16:08:56.176Z"
   },
   {
    "duration": 34,
    "start_time": "2022-02-06T16:08:56.264Z"
   },
   {
    "duration": 171,
    "start_time": "2022-02-06T16:08:56.301Z"
   },
   {
    "duration": 92,
    "start_time": "2022-02-06T16:08:56.475Z"
   },
   {
    "duration": 145,
    "start_time": "2022-02-06T16:10:29.769Z"
   },
   {
    "duration": 145,
    "start_time": "2022-02-06T16:10:44.524Z"
   },
   {
    "duration": 1324,
    "start_time": "2022-02-06T16:12:24.037Z"
   },
   {
    "duration": 520,
    "start_time": "2022-02-06T16:12:25.364Z"
   },
   {
    "duration": 163,
    "start_time": "2022-02-06T16:12:25.887Z"
   },
   {
    "duration": 101,
    "start_time": "2022-02-06T16:12:26.053Z"
   },
   {
    "duration": 11,
    "start_time": "2022-02-06T16:12:26.157Z"
   },
   {
    "duration": 31,
    "start_time": "2022-02-06T16:12:26.170Z"
   },
   {
    "duration": 79,
    "start_time": "2022-02-06T16:12:26.204Z"
   },
   {
    "duration": 32,
    "start_time": "2022-02-06T16:12:26.287Z"
   },
   {
    "duration": 160,
    "start_time": "2022-02-06T16:12:26.322Z"
   },
   {
    "duration": 112,
    "start_time": "2022-02-06T16:12:26.485Z"
   },
   {
    "duration": 73,
    "start_time": "2022-02-06T16:14:34.939Z"
   },
   {
    "duration": 101,
    "start_time": "2022-02-06T16:15:14.896Z"
   },
   {
    "duration": 49,
    "start_time": "2022-02-06T16:15:46.151Z"
   },
   {
    "duration": 458,
    "start_time": "2022-02-06T16:17:25.758Z"
   },
   {
    "duration": 41,
    "start_time": "2022-02-06T16:17:36.112Z"
   },
   {
    "duration": 42,
    "start_time": "2022-02-06T16:17:45.952Z"
   },
   {
    "duration": 107,
    "start_time": "2022-02-06T16:20:17.355Z"
   },
   {
    "duration": 105,
    "start_time": "2022-02-06T16:20:52.381Z"
   },
   {
    "duration": 105,
    "start_time": "2022-02-06T16:21:01.355Z"
   },
   {
    "duration": 102,
    "start_time": "2022-02-06T16:21:08.848Z"
   },
   {
    "duration": 99,
    "start_time": "2022-02-06T16:21:16.606Z"
   },
   {
    "duration": 435,
    "start_time": "2022-02-06T16:22:33.307Z"
   },
   {
    "duration": 460,
    "start_time": "2022-02-06T16:22:52.370Z"
   },
   {
    "duration": 152,
    "start_time": "2022-02-06T16:23:04.039Z"
   },
   {
    "duration": 176,
    "start_time": "2022-02-06T16:23:45.351Z"
   },
   {
    "duration": 8557,
    "start_time": "2022-02-06T16:30:06.697Z"
   },
   {
    "duration": 103,
    "start_time": "2022-02-06T16:30:51.546Z"
   },
   {
    "duration": 70,
    "start_time": "2022-02-06T16:31:53.678Z"
   },
   {
    "duration": 91,
    "start_time": "2022-02-06T16:32:18.401Z"
   },
   {
    "duration": 1141,
    "start_time": "2022-02-06T16:37:04.555Z"
   },
   {
    "duration": 106,
    "start_time": "2022-02-06T16:49:02.057Z"
   },
   {
    "duration": 122,
    "start_time": "2022-02-06T16:51:06.262Z"
   },
   {
    "duration": 390,
    "start_time": "2022-02-06T17:43:28.358Z"
   },
   {
    "duration": 283,
    "start_time": "2022-02-06T17:44:44.694Z"
   },
   {
    "duration": 5,
    "start_time": "2022-02-06T17:45:09.680Z"
   },
   {
    "duration": 16,
    "start_time": "2022-02-06T17:45:28.769Z"
   },
   {
    "duration": 84,
    "start_time": "2022-02-06T17:46:44.637Z"
   },
   {
    "duration": 27,
    "start_time": "2022-02-06T17:50:20.392Z"
   },
   {
    "duration": 25,
    "start_time": "2022-02-06T17:52:24.394Z"
   },
   {
    "duration": 24,
    "start_time": "2022-02-06T17:57:53.100Z"
   },
   {
    "duration": 30,
    "start_time": "2022-02-06T17:58:36.240Z"
   },
   {
    "duration": 28,
    "start_time": "2022-02-06T17:59:56.978Z"
   },
   {
    "duration": 4,
    "start_time": "2022-02-06T18:00:18.726Z"
   },
   {
    "duration": 568,
    "start_time": "2022-02-06T18:00:18.752Z"
   },
   {
    "duration": 154,
    "start_time": "2022-02-06T18:00:19.323Z"
   },
   {
    "duration": 108,
    "start_time": "2022-02-06T18:00:19.480Z"
   },
   {
    "duration": 12,
    "start_time": "2022-02-06T18:00:19.591Z"
   },
   {
    "duration": 45,
    "start_time": "2022-02-06T18:00:19.605Z"
   },
   {
    "duration": 48,
    "start_time": "2022-02-06T18:00:19.652Z"
   },
   {
    "duration": 121,
    "start_time": "2022-02-06T18:00:19.703Z"
   },
   {
    "duration": 122,
    "start_time": "2022-02-06T18:00:19.827Z"
   },
   {
    "duration": 30,
    "start_time": "2022-02-06T18:00:23.278Z"
   },
   {
    "duration": 29,
    "start_time": "2022-02-06T18:01:44.624Z"
   },
   {
    "duration": 33,
    "start_time": "2022-02-06T18:05:20.904Z"
   },
   {
    "duration": 35,
    "start_time": "2022-02-06T18:06:38.136Z"
   },
   {
    "duration": 28,
    "start_time": "2022-02-06T18:07:01.626Z"
   },
   {
    "duration": 35,
    "start_time": "2022-02-06T18:07:12.981Z"
   },
   {
    "duration": 37,
    "start_time": "2022-02-06T18:08:00.492Z"
   },
   {
    "duration": 16,
    "start_time": "2022-02-06T18:08:21.061Z"
   },
   {
    "duration": 532,
    "start_time": "2022-02-06T18:08:21.085Z"
   },
   {
    "duration": 162,
    "start_time": "2022-02-06T18:08:21.620Z"
   },
   {
    "duration": 102,
    "start_time": "2022-02-06T18:08:21.785Z"
   },
   {
    "duration": 10,
    "start_time": "2022-02-06T18:08:21.889Z"
   },
   {
    "duration": 47,
    "start_time": "2022-02-06T18:08:21.902Z"
   },
   {
    "duration": 44,
    "start_time": "2022-02-06T18:08:21.953Z"
   },
   {
    "duration": 122,
    "start_time": "2022-02-06T18:08:22.000Z"
   },
   {
    "duration": 125,
    "start_time": "2022-02-06T18:08:22.124Z"
   },
   {
    "duration": 40,
    "start_time": "2022-02-06T18:08:22.253Z"
   },
   {
    "duration": 38,
    "start_time": "2022-02-06T18:08:29.790Z"
   },
   {
    "duration": 40,
    "start_time": "2022-02-06T18:09:05.862Z"
   },
   {
    "duration": 34,
    "start_time": "2022-02-06T18:09:42.275Z"
   },
   {
    "duration": 38,
    "start_time": "2022-02-06T18:09:46.385Z"
   },
   {
    "duration": 34,
    "start_time": "2022-02-06T18:10:32.302Z"
   },
   {
    "duration": 36,
    "start_time": "2022-02-06T18:10:34.632Z"
   },
   {
    "duration": 37,
    "start_time": "2022-02-06T18:10:40.060Z"
   },
   {
    "duration": 35,
    "start_time": "2022-02-06T18:11:11.019Z"
   },
   {
    "duration": 39,
    "start_time": "2022-02-06T18:11:16.195Z"
   },
   {
    "duration": 5,
    "start_time": "2022-02-06T18:11:25.603Z"
   },
   {
    "duration": 654,
    "start_time": "2022-02-06T18:11:25.611Z"
   },
   {
    "duration": 149,
    "start_time": "2022-02-06T18:11:26.268Z"
   },
   {
    "duration": 115,
    "start_time": "2022-02-06T18:11:26.420Z"
   },
   {
    "duration": 17,
    "start_time": "2022-02-06T18:11:26.537Z"
   },
   {
    "duration": 26,
    "start_time": "2022-02-06T18:11:26.556Z"
   },
   {
    "duration": 73,
    "start_time": "2022-02-06T18:11:26.585Z"
   },
   {
    "duration": 102,
    "start_time": "2022-02-06T18:11:26.660Z"
   },
   {
    "duration": 114,
    "start_time": "2022-02-06T18:11:26.766Z"
   },
   {
    "duration": 74,
    "start_time": "2022-02-06T18:11:26.883Z"
   },
   {
    "duration": 48,
    "start_time": "2022-02-06T18:11:32.836Z"
   },
   {
    "duration": 41,
    "start_time": "2022-02-06T18:11:34.543Z"
   },
   {
    "duration": 29,
    "start_time": "2022-02-06T18:11:45.876Z"
   },
   {
    "duration": 42,
    "start_time": "2022-02-06T18:13:03.758Z"
   },
   {
    "duration": 43,
    "start_time": "2022-02-06T18:14:18.363Z"
   },
   {
    "duration": 42,
    "start_time": "2022-02-06T18:18:40.693Z"
   },
   {
    "duration": 36,
    "start_time": "2022-02-06T18:18:59.599Z"
   },
   {
    "duration": 25,
    "start_time": "2022-02-06T18:19:38.357Z"
   },
   {
    "duration": 287,
    "start_time": "2022-02-06T18:19:58.907Z"
   },
   {
    "duration": 19,
    "start_time": "2022-02-06T18:20:25.491Z"
   },
   {
    "duration": 13,
    "start_time": "2022-02-06T18:21:04.178Z"
   },
   {
    "duration": 19,
    "start_time": "2022-02-06T18:22:11.989Z"
   },
   {
    "duration": 15,
    "start_time": "2022-02-06T18:22:38.386Z"
   },
   {
    "duration": 16,
    "start_time": "2022-02-06T18:23:07.515Z"
   },
   {
    "duration": 15,
    "start_time": "2022-02-06T18:23:29.225Z"
   },
   {
    "duration": 16,
    "start_time": "2022-02-06T18:25:09.874Z"
   },
   {
    "duration": 16,
    "start_time": "2022-02-06T18:26:05.063Z"
   },
   {
    "duration": 18,
    "start_time": "2022-02-06T18:26:25.943Z"
   },
   {
    "duration": 16,
    "start_time": "2022-02-06T18:31:12.552Z"
   },
   {
    "duration": 19,
    "start_time": "2022-02-06T18:32:01.378Z"
   },
   {
    "duration": 4,
    "start_time": "2022-02-06T18:32:08.618Z"
   },
   {
    "duration": 517,
    "start_time": "2022-02-06T18:32:08.625Z"
   },
   {
    "duration": 150,
    "start_time": "2022-02-06T18:32:09.145Z"
   },
   {
    "duration": 114,
    "start_time": "2022-02-06T18:32:09.298Z"
   },
   {
    "duration": 10,
    "start_time": "2022-02-06T18:32:09.414Z"
   },
   {
    "duration": 36,
    "start_time": "2022-02-06T18:32:09.427Z"
   },
   {
    "duration": 40,
    "start_time": "2022-02-06T18:32:09.467Z"
   },
   {
    "duration": 115,
    "start_time": "2022-02-06T18:32:09.510Z"
   },
   {
    "duration": 96,
    "start_time": "2022-02-06T18:32:09.627Z"
   },
   {
    "duration": 34,
    "start_time": "2022-02-06T18:32:09.748Z"
   },
   {
    "duration": 22,
    "start_time": "2022-02-06T18:32:09.784Z"
   },
   {
    "duration": 17,
    "start_time": "2022-02-06T18:32:14.972Z"
   },
   {
    "duration": 14,
    "start_time": "2022-02-06T18:33:59.793Z"
   },
   {
    "duration": 24,
    "start_time": "2022-02-06T18:38:10.415Z"
   },
   {
    "duration": 118,
    "start_time": "2022-02-06T18:46:12.678Z"
   },
   {
    "duration": 37,
    "start_time": "2022-02-06T18:46:28.056Z"
   },
   {
    "duration": 47,
    "start_time": "2022-02-06T18:48:27.297Z"
   },
   {
    "duration": 46,
    "start_time": "2022-02-06T18:48:58.610Z"
   },
   {
    "duration": 441,
    "start_time": "2022-02-06T18:49:48.106Z"
   },
   {
    "duration": 87,
    "start_time": "2022-02-06T18:49:54.697Z"
   },
   {
    "duration": 44,
    "start_time": "2022-02-06T18:51:21.661Z"
   },
   {
    "duration": 61,
    "start_time": "2022-02-06T18:52:05.116Z"
   },
   {
    "duration": 19,
    "start_time": "2022-02-06T18:53:03.080Z"
   },
   {
    "duration": 46,
    "start_time": "2022-02-06T18:53:40.844Z"
   },
   {
    "duration": 63,
    "start_time": "2022-02-06T18:54:03.572Z"
   },
   {
    "duration": 59,
    "start_time": "2022-02-06T18:55:37.235Z"
   },
   {
    "duration": 57,
    "start_time": "2022-02-06T18:56:10.199Z"
   },
   {
    "duration": 58,
    "start_time": "2022-02-06T18:56:35.442Z"
   },
   {
    "duration": 8695,
    "start_time": "2022-02-06T19:00:29.658Z"
   },
   {
    "duration": 60,
    "start_time": "2022-02-06T19:01:05.956Z"
   },
   {
    "duration": 65,
    "start_time": "2022-02-06T19:01:24.712Z"
   },
   {
    "duration": 95,
    "start_time": "2022-02-06T19:04:29.875Z"
   },
   {
    "duration": 7233,
    "start_time": "2022-02-06T19:07:51.996Z"
   },
   {
    "duration": 120,
    "start_time": "2022-02-06T19:08:15.417Z"
   },
   {
    "duration": 303,
    "start_time": "2022-02-06T19:08:53.342Z"
   },
   {
    "duration": 354,
    "start_time": "2022-02-06T19:09:16.267Z"
   },
   {
    "duration": 7796,
    "start_time": "2022-02-06T19:09:51.191Z"
   },
   {
    "duration": 343,
    "start_time": "2022-02-06T19:10:16.355Z"
   },
   {
    "duration": 338,
    "start_time": "2022-02-06T19:10:40.365Z"
   },
   {
    "duration": 64,
    "start_time": "2022-02-06T19:11:06.073Z"
   },
   {
    "duration": 65,
    "start_time": "2022-02-06T19:12:09.876Z"
   },
   {
    "duration": 64,
    "start_time": "2022-02-06T19:12:24.719Z"
   },
   {
    "duration": 105,
    "start_time": "2022-02-06T19:13:34.726Z"
   },
   {
    "duration": 65,
    "start_time": "2022-02-06T19:14:04.769Z"
   },
   {
    "duration": 86,
    "start_time": "2022-02-06T19:14:33.678Z"
   },
   {
    "duration": 73,
    "start_time": "2022-02-06T19:16:27.518Z"
   },
   {
    "duration": 98,
    "start_time": "2022-02-06T19:16:42.167Z"
   },
   {
    "duration": 57,
    "start_time": "2022-02-06T19:21:26.634Z"
   },
   {
    "duration": 32,
    "start_time": "2022-02-06T19:22:23.749Z"
   },
   {
    "duration": 57,
    "start_time": "2022-02-06T19:23:02.192Z"
   },
   {
    "duration": 56,
    "start_time": "2022-02-06T19:45:48.887Z"
   },
   {
    "duration": 268,
    "start_time": "2022-02-07T03:36:06.499Z"
   },
   {
    "duration": 201,
    "start_time": "2022-02-07T03:36:38.250Z"
   },
   {
    "duration": 1077,
    "start_time": "2022-02-07T03:36:45.805Z"
   },
   {
    "duration": 407,
    "start_time": "2022-02-07T03:36:46.884Z"
   },
   {
    "duration": 87,
    "start_time": "2022-02-07T03:36:47.294Z"
   },
   {
    "duration": 87,
    "start_time": "2022-02-07T03:36:47.383Z"
   },
   {
    "duration": 8,
    "start_time": "2022-02-07T03:36:47.472Z"
   },
   {
    "duration": 31,
    "start_time": "2022-02-07T03:36:47.482Z"
   },
   {
    "duration": 38,
    "start_time": "2022-02-07T03:36:47.515Z"
   },
   {
    "duration": 87,
    "start_time": "2022-02-07T03:36:47.556Z"
   },
   {
    "duration": 83,
    "start_time": "2022-02-07T03:36:47.645Z"
   },
   {
    "duration": 22,
    "start_time": "2022-02-07T03:36:47.729Z"
   },
   {
    "duration": 14,
    "start_time": "2022-02-07T03:36:47.753Z"
   },
   {
    "duration": 44,
    "start_time": "2022-02-07T03:36:47.768Z"
   },
   {
    "duration": 54,
    "start_time": "2022-02-07T03:36:47.814Z"
   },
   {
    "duration": 59,
    "start_time": "2022-02-07T03:36:47.869Z"
   },
   {
    "duration": 27,
    "start_time": "2022-02-07T03:36:47.930Z"
   },
   {
    "duration": 28,
    "start_time": "2022-02-07T03:36:51.378Z"
   },
   {
    "duration": 32,
    "start_time": "2022-02-07T03:37:14.541Z"
   },
   {
    "duration": 240,
    "start_time": "2022-02-07T03:39:07.236Z"
   },
   {
    "duration": 30,
    "start_time": "2022-02-07T03:40:23.384Z"
   },
   {
    "duration": 32,
    "start_time": "2022-02-07T03:40:36.574Z"
   },
   {
    "duration": 31,
    "start_time": "2022-02-07T03:41:10.072Z"
   },
   {
    "duration": 28,
    "start_time": "2022-02-07T03:42:32.746Z"
   },
   {
    "duration": 12,
    "start_time": "2022-02-07T03:53:43.683Z"
   },
   {
    "duration": 183,
    "start_time": "2022-02-07T03:54:24.714Z"
   },
   {
    "duration": 3,
    "start_time": "2022-02-07T03:54:56.015Z"
   },
   {
    "duration": 391,
    "start_time": "2022-02-07T03:54:56.021Z"
   },
   {
    "duration": 111,
    "start_time": "2022-02-07T03:54:56.414Z"
   },
   {
    "duration": 61,
    "start_time": "2022-02-07T03:54:56.527Z"
   },
   {
    "duration": 23,
    "start_time": "2022-02-07T03:54:56.590Z"
   },
   {
    "duration": 16,
    "start_time": "2022-02-07T03:54:56.615Z"
   },
   {
    "duration": 31,
    "start_time": "2022-02-07T03:54:56.632Z"
   },
   {
    "duration": 187,
    "start_time": "2022-02-07T03:54:58.849Z"
   },
   {
    "duration": 4,
    "start_time": "2022-02-07T03:55:35.415Z"
   },
   {
    "duration": 6,
    "start_time": "2022-02-07T03:56:34.015Z"
   },
   {
    "duration": 7,
    "start_time": "2022-02-07T03:57:23.608Z"
   },
   {
    "duration": 5,
    "start_time": "2022-02-07T03:58:17.999Z"
   },
   {
    "duration": 3,
    "start_time": "2022-02-07T04:00:30.270Z"
   },
   {
    "duration": 404,
    "start_time": "2022-02-07T04:00:30.275Z"
   },
   {
    "duration": 98,
    "start_time": "2022-02-07T04:00:30.681Z"
   },
   {
    "duration": 85,
    "start_time": "2022-02-07T04:00:30.781Z"
   },
   {
    "duration": 8,
    "start_time": "2022-02-07T04:00:30.868Z"
   },
   {
    "duration": 23,
    "start_time": "2022-02-07T04:00:30.877Z"
   },
   {
    "duration": 40,
    "start_time": "2022-02-07T04:00:30.902Z"
   },
   {
    "duration": 6,
    "start_time": "2022-02-07T04:00:33.744Z"
   },
   {
    "duration": 8,
    "start_time": "2022-02-07T04:05:30.019Z"
   },
   {
    "duration": 27,
    "start_time": "2022-02-07T04:05:35.330Z"
   },
   {
    "duration": 19,
    "start_time": "2022-02-07T04:06:47.323Z"
   },
   {
    "duration": 4149,
    "start_time": "2022-02-07T04:07:27.043Z"
   },
   {
    "duration": 4715,
    "start_time": "2022-02-07T04:07:40.842Z"
   },
   {
    "duration": 3,
    "start_time": "2022-02-07T04:08:01.693Z"
   },
   {
    "duration": 393,
    "start_time": "2022-02-07T04:08:01.698Z"
   },
   {
    "duration": 94,
    "start_time": "2022-02-07T04:08:02.093Z"
   },
   {
    "duration": 79,
    "start_time": "2022-02-07T04:08:02.189Z"
   },
   {
    "duration": 7,
    "start_time": "2022-02-07T04:08:02.270Z"
   },
   {
    "duration": 29,
    "start_time": "2022-02-07T04:08:02.279Z"
   },
   {
    "duration": 29,
    "start_time": "2022-02-07T04:08:02.313Z"
   },
   {
    "duration": 6,
    "start_time": "2022-02-07T04:08:02.344Z"
   },
   {
    "duration": 82,
    "start_time": "2022-02-07T04:08:02.351Z"
   },
   {
    "duration": 79,
    "start_time": "2022-02-07T04:08:02.434Z"
   },
   {
    "duration": 21,
    "start_time": "2022-02-07T04:08:02.515Z"
   },
   {
    "duration": 17,
    "start_time": "2022-02-07T04:08:02.537Z"
   },
   {
    "duration": 11,
    "start_time": "2022-02-07T04:08:02.555Z"
   },
   {
    "duration": 48,
    "start_time": "2022-02-07T04:08:02.567Z"
   },
   {
    "duration": 4677,
    "start_time": "2022-02-07T04:08:05.265Z"
   },
   {
    "duration": 5,
    "start_time": "2022-02-07T04:08:14.388Z"
   },
   {
    "duration": 8,
    "start_time": "2022-02-07T04:08:37.128Z"
   },
   {
    "duration": 8,
    "start_time": "2022-02-07T04:14:46.321Z"
   },
   {
    "duration": 204,
    "start_time": "2022-02-07T04:16:25.911Z"
   },
   {
    "duration": 34,
    "start_time": "2022-02-07T04:17:05.926Z"
   },
   {
    "duration": 198,
    "start_time": "2022-02-07T04:17:43.626Z"
   },
   {
    "duration": 43,
    "start_time": "2022-02-07T04:17:59.122Z"
   },
   {
    "duration": 3,
    "start_time": "2022-02-07T04:18:17.544Z"
   },
   {
    "duration": 388,
    "start_time": "2022-02-07T04:18:17.549Z"
   },
   {
    "duration": 97,
    "start_time": "2022-02-07T04:18:17.939Z"
   },
   {
    "duration": 80,
    "start_time": "2022-02-07T04:18:18.038Z"
   },
   {
    "duration": 9,
    "start_time": "2022-02-07T04:18:18.119Z"
   },
   {
    "duration": 9,
    "start_time": "2022-02-07T04:18:18.129Z"
   },
   {
    "duration": 15,
    "start_time": "2022-02-07T04:18:18.140Z"
   },
   {
    "duration": 62,
    "start_time": "2022-02-07T04:18:18.157Z"
   },
   {
    "duration": 6,
    "start_time": "2022-02-07T04:18:18.221Z"
   },
   {
    "duration": 86,
    "start_time": "2022-02-07T04:18:18.228Z"
   },
   {
    "duration": 64,
    "start_time": "2022-02-07T04:18:18.316Z"
   },
   {
    "duration": 50,
    "start_time": "2022-02-07T04:18:18.381Z"
   },
   {
    "duration": 21,
    "start_time": "2022-02-07T04:18:18.433Z"
   },
   {
    "duration": 13,
    "start_time": "2022-02-07T04:18:18.456Z"
   },
   {
    "duration": 61,
    "start_time": "2022-02-07T04:18:18.471Z"
   },
   {
    "duration": 13,
    "start_time": "2022-02-07T04:18:29.145Z"
   },
   {
    "duration": 1351,
    "start_time": "2022-02-07T09:56:31.741Z"
   },
   {
    "duration": 521,
    "start_time": "2022-02-07T09:56:33.095Z"
   },
   {
    "duration": 151,
    "start_time": "2022-02-07T09:56:33.618Z"
   },
   {
    "duration": 123,
    "start_time": "2022-02-07T09:56:33.773Z"
   },
   {
    "duration": 14,
    "start_time": "2022-02-07T09:56:33.898Z"
   },
   {
    "duration": 26,
    "start_time": "2022-02-07T09:56:33.914Z"
   },
   {
    "duration": 22,
    "start_time": "2022-02-07T09:56:33.943Z"
   },
   {
    "duration": 84,
    "start_time": "2022-02-07T09:56:33.967Z"
   },
   {
    "duration": 10,
    "start_time": "2022-02-07T09:56:34.054Z"
   },
   {
    "duration": 112,
    "start_time": "2022-02-07T09:56:34.066Z"
   },
   {
    "duration": 111,
    "start_time": "2022-02-07T09:56:34.180Z"
   },
   {
    "duration": 61,
    "start_time": "2022-02-07T09:56:34.293Z"
   },
   {
    "duration": 26,
    "start_time": "2022-02-07T09:56:34.356Z"
   },
   {
    "duration": 50,
    "start_time": "2022-02-07T09:56:34.384Z"
   },
   {
    "duration": 35,
    "start_time": "2022-02-07T09:56:34.437Z"
   },
   {
    "duration": 17,
    "start_time": "2022-02-07T09:56:34.474Z"
   },
   {
    "duration": 102,
    "start_time": "2022-02-07T09:56:34.493Z"
   },
   {
    "duration": 84,
    "start_time": "2022-02-07T09:56:34.598Z"
   },
   {
    "duration": 57,
    "start_time": "2022-02-07T09:56:34.685Z"
   },
   {
    "duration": 45,
    "start_time": "2022-02-07T09:56:34.745Z"
   },
   {
    "duration": 46,
    "start_time": "2022-02-07T09:57:50.036Z"
   },
   {
    "duration": 472,
    "start_time": "2022-02-07T09:58:53.693Z"
   },
   {
    "duration": 337,
    "start_time": "2022-02-07T09:59:01.640Z"
   },
   {
    "duration": 253,
    "start_time": "2022-02-07T09:59:43.178Z"
   },
   {
    "duration": 52,
    "start_time": "2022-02-07T09:59:50.469Z"
   },
   {
    "duration": 268,
    "start_time": "2022-02-07T10:00:19.598Z"
   },
   {
    "duration": 275,
    "start_time": "2022-02-07T10:00:31.309Z"
   },
   {
    "duration": 52,
    "start_time": "2022-02-07T10:00:49.341Z"
   },
   {
    "duration": 83,
    "start_time": "2022-02-07T10:31:56.477Z"
   },
   {
    "duration": 56,
    "start_time": "2022-02-07T10:32:58.374Z"
   },
   {
    "duration": 49,
    "start_time": "2022-02-07T10:33:14.461Z"
   },
   {
    "duration": 75,
    "start_time": "2022-02-07T18:20:38.088Z"
   },
   {
    "duration": 33,
    "start_time": "2022-02-07T18:27:55.866Z"
   },
   {
    "duration": 35,
    "start_time": "2022-02-07T18:57:56.601Z"
   },
   {
    "duration": 5,
    "start_time": "2022-02-07T18:58:03.224Z"
   },
   {
    "duration": 813,
    "start_time": "2022-02-07T18:58:03.233Z"
   },
   {
    "duration": 195,
    "start_time": "2022-02-07T18:58:04.050Z"
   },
   {
    "duration": 123,
    "start_time": "2022-02-07T18:58:04.248Z"
   },
   {
    "duration": 13,
    "start_time": "2022-02-07T18:58:04.373Z"
   },
   {
    "duration": 12,
    "start_time": "2022-02-07T18:58:04.388Z"
   },
   {
    "duration": 46,
    "start_time": "2022-02-07T18:58:04.403Z"
   },
   {
    "duration": 42,
    "start_time": "2022-02-07T18:58:04.452Z"
   },
   {
    "duration": 41,
    "start_time": "2022-02-07T18:58:04.497Z"
   },
   {
    "duration": 117,
    "start_time": "2022-02-07T18:58:04.541Z"
   },
   {
    "duration": 115,
    "start_time": "2022-02-07T18:58:04.660Z"
   },
   {
    "duration": 70,
    "start_time": "2022-02-07T18:58:04.778Z"
   },
   {
    "duration": 30,
    "start_time": "2022-02-07T18:58:04.850Z"
   },
   {
    "duration": 56,
    "start_time": "2022-02-07T18:58:04.883Z"
   },
   {
    "duration": 48,
    "start_time": "2022-02-07T18:58:04.942Z"
   },
   {
    "duration": 52,
    "start_time": "2022-02-07T18:58:04.993Z"
   },
   {
    "duration": 130,
    "start_time": "2022-02-07T18:58:05.048Z"
   },
   {
    "duration": 284,
    "start_time": "2022-02-07T18:58:05.181Z"
   },
   {
    "duration": 5757,
    "start_time": "2022-02-07T18:57:59.712Z"
   },
   {
    "duration": 5754,
    "start_time": "2022-02-07T18:57:59.717Z"
   },
   {
    "duration": 22,
    "start_time": "2022-02-07T18:58:14.555Z"
   },
   {
    "duration": 238,
    "start_time": "2022-02-07T18:59:03.722Z"
   },
   {
    "duration": 3,
    "start_time": "2022-02-07T19:00:09.471Z"
   },
   {
    "duration": 519,
    "start_time": "2022-02-07T19:00:09.477Z"
   },
   {
    "duration": 155,
    "start_time": "2022-02-07T19:00:09.998Z"
   },
   {
    "duration": 110,
    "start_time": "2022-02-07T19:00:10.157Z"
   },
   {
    "duration": 14,
    "start_time": "2022-02-07T19:00:10.269Z"
   },
   {
    "duration": 13,
    "start_time": "2022-02-07T19:00:10.286Z"
   },
   {
    "duration": 50,
    "start_time": "2022-02-07T19:00:10.302Z"
   },
   {
    "duration": 43,
    "start_time": "2022-02-07T19:00:10.356Z"
   },
   {
    "duration": 38,
    "start_time": "2022-02-07T19:00:10.402Z"
   },
   {
    "duration": 109,
    "start_time": "2022-02-07T19:00:10.442Z"
   },
   {
    "duration": 113,
    "start_time": "2022-02-07T19:00:10.553Z"
   },
   {
    "duration": 64,
    "start_time": "2022-02-07T19:00:10.668Z"
   },
   {
    "duration": 28,
    "start_time": "2022-02-07T19:00:10.735Z"
   },
   {
    "duration": 17,
    "start_time": "2022-02-07T19:00:10.765Z"
   },
   {
    "duration": 63,
    "start_time": "2022-02-07T19:00:10.785Z"
   },
   {
    "duration": 18,
    "start_time": "2022-02-07T19:00:10.851Z"
   },
   {
    "duration": 105,
    "start_time": "2022-02-07T19:00:10.871Z"
   },
   {
    "duration": 254,
    "start_time": "2022-02-07T19:00:10.978Z"
   },
   {
    "duration": 5790,
    "start_time": "2022-02-07T19:00:05.444Z"
   },
   {
    "duration": 5788,
    "start_time": "2022-02-07T19:00:05.447Z"
   },
   {
    "duration": 5785,
    "start_time": "2022-02-07T19:00:05.452Z"
   },
   {
    "duration": 5782,
    "start_time": "2022-02-07T19:00:05.456Z"
   },
   {
    "duration": 4,
    "start_time": "2022-02-07T19:03:30.797Z"
   },
   {
    "duration": 512,
    "start_time": "2022-02-07T19:03:30.803Z"
   },
   {
    "duration": 162,
    "start_time": "2022-02-07T19:03:31.319Z"
   },
   {
    "duration": 125,
    "start_time": "2022-02-07T19:03:31.484Z"
   },
   {
    "duration": 12,
    "start_time": "2022-02-07T19:03:31.612Z"
   },
   {
    "duration": 13,
    "start_time": "2022-02-07T19:03:31.633Z"
   },
   {
    "duration": 38,
    "start_time": "2022-02-07T19:03:31.650Z"
   },
   {
    "duration": 56,
    "start_time": "2022-02-07T19:03:31.691Z"
   },
   {
    "duration": 10,
    "start_time": "2022-02-07T19:03:31.749Z"
   },
   {
    "duration": 116,
    "start_time": "2022-02-07T19:03:31.762Z"
   },
   {
    "duration": 123,
    "start_time": "2022-02-07T19:03:31.881Z"
   },
   {
    "duration": 242,
    "start_time": "2022-02-07T19:04:42.892Z"
   },
   {
    "duration": 31,
    "start_time": "2022-02-07T19:05:11.826Z"
   },
   {
    "duration": 37,
    "start_time": "2022-02-07T19:05:21.689Z"
   },
   {
    "duration": 29,
    "start_time": "2022-02-07T19:05:26.632Z"
   },
   {
    "duration": 79,
    "start_time": "2022-02-07T19:05:34.812Z"
   },
   {
    "duration": 267,
    "start_time": "2022-02-07T19:05:38.603Z"
   },
   {
    "duration": 4,
    "start_time": "2022-02-07T19:05:43.560Z"
   },
   {
    "duration": 491,
    "start_time": "2022-02-07T19:05:43.568Z"
   },
   {
    "duration": 139,
    "start_time": "2022-02-07T19:05:44.062Z"
   },
   {
    "duration": 112,
    "start_time": "2022-02-07T19:05:44.204Z"
   },
   {
    "duration": 21,
    "start_time": "2022-02-07T19:05:44.319Z"
   },
   {
    "duration": 11,
    "start_time": "2022-02-07T19:05:44.342Z"
   },
   {
    "duration": 20,
    "start_time": "2022-02-07T19:05:44.357Z"
   },
   {
    "duration": 85,
    "start_time": "2022-02-07T19:05:44.379Z"
   },
   {
    "duration": 13,
    "start_time": "2022-02-07T19:05:44.468Z"
   },
   {
    "duration": 151,
    "start_time": "2022-02-07T19:05:44.484Z"
   },
   {
    "duration": 119,
    "start_time": "2022-02-07T19:05:44.638Z"
   },
   {
    "duration": 38,
    "start_time": "2022-02-07T19:05:44.760Z"
   },
   {
    "duration": 58,
    "start_time": "2022-02-07T19:05:44.801Z"
   },
   {
    "duration": 19,
    "start_time": "2022-02-07T19:05:44.862Z"
   },
   {
    "duration": 71,
    "start_time": "2022-02-07T19:05:44.883Z"
   },
   {
    "duration": 19,
    "start_time": "2022-02-07T19:05:44.957Z"
   },
   {
    "duration": 95,
    "start_time": "2022-02-07T19:05:44.979Z"
   },
   {
    "duration": 69,
    "start_time": "2022-02-07T19:05:45.076Z"
   },
   {
    "duration": 48,
    "start_time": "2022-02-07T19:05:45.149Z"
   },
   {
    "duration": 73,
    "start_time": "2022-02-07T19:05:45.201Z"
   },
   {
    "duration": 22,
    "start_time": "2022-02-07T19:05:45.277Z"
   },
   {
    "duration": 31,
    "start_time": "2022-02-07T19:05:45.301Z"
   },
   {
    "duration": 38,
    "start_time": "2022-02-07T19:24:43.911Z"
   },
   {
    "duration": 6437,
    "start_time": "2022-02-07T19:24:49.851Z"
   },
   {
    "duration": 5124,
    "start_time": "2022-02-07T19:24:51.168Z"
   },
   {
    "duration": 5111,
    "start_time": "2022-02-07T19:24:51.182Z"
   },
   {
    "duration": 5044,
    "start_time": "2022-02-07T19:24:51.252Z"
   },
   {
    "duration": 5040,
    "start_time": "2022-02-07T19:24:51.258Z"
   },
   {
    "duration": 5026,
    "start_time": "2022-02-07T19:24:51.274Z"
   },
   {
    "duration": 4998,
    "start_time": "2022-02-07T19:24:51.303Z"
   },
   {
    "duration": 4995,
    "start_time": "2022-02-07T19:24:51.308Z"
   },
   {
    "duration": 4959,
    "start_time": "2022-02-07T19:24:51.345Z"
   },
   {
    "duration": 4955,
    "start_time": "2022-02-07T19:24:51.351Z"
   },
   {
    "duration": 4952,
    "start_time": "2022-02-07T19:24:51.356Z"
   },
   {
    "duration": 4950,
    "start_time": "2022-02-07T19:24:51.359Z"
   },
   {
    "duration": 4,
    "start_time": "2022-02-07T19:25:31.982Z"
   },
   {
    "duration": 502,
    "start_time": "2022-02-07T19:25:31.989Z"
   },
   {
    "duration": 168,
    "start_time": "2022-02-07T19:25:32.494Z"
   },
   {
    "duration": 161,
    "start_time": "2022-02-07T19:25:32.666Z"
   },
   {
    "duration": 19,
    "start_time": "2022-02-07T19:25:32.833Z"
   },
   {
    "duration": 14,
    "start_time": "2022-02-07T19:25:32.855Z"
   },
   {
    "duration": 62,
    "start_time": "2022-02-07T19:25:32.872Z"
   },
   {
    "duration": 63,
    "start_time": "2022-02-07T19:25:32.937Z"
   },
   {
    "duration": 34,
    "start_time": "2022-02-07T19:25:33.005Z"
   },
   {
    "duration": 110,
    "start_time": "2022-02-07T19:25:33.042Z"
   },
   {
    "duration": 121,
    "start_time": "2022-02-07T19:25:33.154Z"
   },
   {
    "duration": 43,
    "start_time": "2022-02-07T19:25:39.869Z"
   },
   {
    "duration": 28,
    "start_time": "2022-02-07T19:25:45.917Z"
   },
   {
    "duration": 19,
    "start_time": "2022-02-07T19:25:52.080Z"
   },
   {
    "duration": 33,
    "start_time": "2022-02-07T19:25:57.492Z"
   },
   {
    "duration": 21,
    "start_time": "2022-02-07T19:26:03.439Z"
   },
   {
    "duration": 78,
    "start_time": "2022-02-07T19:26:07.815Z"
   },
   {
    "duration": 55,
    "start_time": "2022-02-07T19:26:11.466Z"
   },
   {
    "duration": 49,
    "start_time": "2022-02-07T19:26:13.754Z"
   },
   {
    "duration": 50,
    "start_time": "2022-02-07T19:26:16.880Z"
   },
   {
    "duration": 4,
    "start_time": "2022-02-07T19:26:19.317Z"
   },
   {
    "duration": 34,
    "start_time": "2022-02-07T19:26:21.489Z"
   },
   {
    "duration": 365,
    "start_time": "2022-02-07T19:30:32.505Z"
   },
   {
    "duration": 922,
    "start_time": "2022-02-07T19:30:47.169Z"
   },
   {
    "duration": 340,
    "start_time": "2022-02-07T19:31:16.255Z"
   },
   {
    "duration": 552,
    "start_time": "2022-02-07T19:32:29.173Z"
   },
   {
    "duration": 345,
    "start_time": "2022-02-07T19:32:50.688Z"
   },
   {
    "duration": 336,
    "start_time": "2022-02-07T19:33:15.968Z"
   },
   {
    "duration": 381,
    "start_time": "2022-02-07T19:37:38.007Z"
   },
   {
    "duration": 589,
    "start_time": "2022-02-07T19:41:17.159Z"
   },
   {
    "duration": 634,
    "start_time": "2022-02-07T19:42:17.402Z"
   },
   {
    "duration": 382,
    "start_time": "2022-02-07T19:42:27.434Z"
   },
   {
    "duration": 518,
    "start_time": "2022-02-07T19:54:00.684Z"
   },
   {
    "duration": 1372,
    "start_time": "2022-02-08T03:32:46.221Z"
   },
   {
    "duration": 510,
    "start_time": "2022-02-08T03:32:47.595Z"
   },
   {
    "duration": 146,
    "start_time": "2022-02-08T03:32:48.109Z"
   },
   {
    "duration": 126,
    "start_time": "2022-02-08T03:32:48.258Z"
   },
   {
    "duration": 13,
    "start_time": "2022-02-08T03:32:48.386Z"
   },
   {
    "duration": 37,
    "start_time": "2022-02-08T03:32:48.402Z"
   },
   {
    "duration": 23,
    "start_time": "2022-02-08T03:32:48.442Z"
   },
   {
    "duration": 80,
    "start_time": "2022-02-08T03:32:48.468Z"
   },
   {
    "duration": 9,
    "start_time": "2022-02-08T03:32:48.550Z"
   },
   {
    "duration": 106,
    "start_time": "2022-02-08T03:32:48.561Z"
   },
   {
    "duration": 114,
    "start_time": "2022-02-08T03:32:48.670Z"
   },
   {
    "duration": 66,
    "start_time": "2022-02-08T03:32:48.787Z"
   },
   {
    "duration": 26,
    "start_time": "2022-02-08T03:32:48.856Z"
   },
   {
    "duration": 48,
    "start_time": "2022-02-08T03:32:48.885Z"
   },
   {
    "duration": 31,
    "start_time": "2022-02-08T03:32:48.935Z"
   },
   {
    "duration": 17,
    "start_time": "2022-02-08T03:32:48.968Z"
   },
   {
    "duration": 112,
    "start_time": "2022-02-08T03:32:48.988Z"
   },
   {
    "duration": 68,
    "start_time": "2022-02-08T03:32:49.102Z"
   },
   {
    "duration": 61,
    "start_time": "2022-02-08T03:32:49.172Z"
   },
   {
    "duration": 45,
    "start_time": "2022-02-08T03:32:49.236Z"
   },
   {
    "duration": 20,
    "start_time": "2022-02-08T03:32:49.283Z"
   },
   {
    "duration": 379,
    "start_time": "2022-02-08T03:32:49.305Z"
   },
   {
    "duration": 366,
    "start_time": "2022-02-08T03:40:01.931Z"
   },
   {
    "duration": 282,
    "start_time": "2022-02-08T03:42:06.379Z"
   },
   {
    "duration": 244,
    "start_time": "2022-02-08T03:43:14.847Z"
   },
   {
    "duration": 277,
    "start_time": "2022-02-08T03:43:42.019Z"
   },
   {
    "duration": 38,
    "start_time": "2022-02-08T03:44:08.350Z"
   },
   {
    "duration": 303,
    "start_time": "2022-02-08T03:44:17.643Z"
   },
   {
    "duration": 324,
    "start_time": "2022-02-08T03:44:44.016Z"
   },
   {
    "duration": 320,
    "start_time": "2022-02-08T03:45:01.775Z"
   },
   {
    "duration": 328,
    "start_time": "2022-02-08T03:45:10.234Z"
   },
   {
    "duration": 335,
    "start_time": "2022-02-08T03:45:17.192Z"
   },
   {
    "duration": 435,
    "start_time": "2022-02-08T03:45:25.518Z"
   },
   {
    "duration": 343,
    "start_time": "2022-02-08T03:45:30.721Z"
   },
   {
    "duration": 325,
    "start_time": "2022-02-08T03:45:34.880Z"
   },
   {
    "duration": 1713,
    "start_time": "2022-02-08T03:45:52.407Z"
   },
   {
    "duration": 3065,
    "start_time": "2022-02-08T03:46:05.969Z"
   },
   {
    "duration": 550,
    "start_time": "2022-02-08T03:46:16.284Z"
   },
   {
    "duration": 613,
    "start_time": "2022-02-08T03:50:15.408Z"
   },
   {
    "duration": 573,
    "start_time": "2022-02-08T03:51:39.822Z"
   },
   {
    "duration": 49,
    "start_time": "2022-02-08T03:52:26.339Z"
   },
   {
    "duration": 55,
    "start_time": "2022-02-08T03:52:38.864Z"
   },
   {
    "duration": 201,
    "start_time": "2022-02-08T03:53:58.584Z"
   },
   {
    "duration": 56,
    "start_time": "2022-02-08T03:54:23.789Z"
   },
   {
    "duration": 572,
    "start_time": "2022-02-08T03:56:52.805Z"
   },
   {
    "duration": 240,
    "start_time": "2022-02-08T03:58:53.988Z"
   },
   {
    "duration": 119,
    "start_time": "2022-02-08T03:59:43.180Z"
   },
   {
    "duration": 529,
    "start_time": "2022-02-08T03:59:43.302Z"
   },
   {
    "duration": 141,
    "start_time": "2022-02-08T03:59:43.834Z"
   },
   {
    "duration": 109,
    "start_time": "2022-02-08T03:59:43.978Z"
   },
   {
    "duration": 13,
    "start_time": "2022-02-08T03:59:44.089Z"
   },
   {
    "duration": 28,
    "start_time": "2022-02-08T03:59:44.104Z"
   },
   {
    "duration": 22,
    "start_time": "2022-02-08T03:59:44.135Z"
   },
   {
    "duration": 42,
    "start_time": "2022-02-08T03:59:44.160Z"
   },
   {
    "duration": 9,
    "start_time": "2022-02-08T03:59:44.233Z"
   },
   {
    "duration": 105,
    "start_time": "2022-02-08T03:59:44.244Z"
   },
   {
    "duration": 121,
    "start_time": "2022-02-08T03:59:44.351Z"
   },
   {
    "duration": 69,
    "start_time": "2022-02-08T03:59:44.475Z"
   },
   {
    "duration": 27,
    "start_time": "2022-02-08T03:59:44.547Z"
   },
   {
    "duration": 19,
    "start_time": "2022-02-08T03:59:44.576Z"
   },
   {
    "duration": 64,
    "start_time": "2022-02-08T03:59:44.597Z"
   },
   {
    "duration": 19,
    "start_time": "2022-02-08T03:59:44.664Z"
   },
   {
    "duration": 108,
    "start_time": "2022-02-08T03:59:44.686Z"
   },
   {
    "duration": 64,
    "start_time": "2022-02-08T03:59:44.797Z"
   },
   {
    "duration": 46,
    "start_time": "2022-02-08T03:59:44.863Z"
   },
   {
    "duration": 63,
    "start_time": "2022-02-08T03:59:44.911Z"
   },
   {
    "duration": 20,
    "start_time": "2022-02-08T03:59:44.976Z"
   },
   {
    "duration": 388,
    "start_time": "2022-02-08T03:59:44.998Z"
   },
   {
    "duration": 75,
    "start_time": "2022-02-08T03:59:45.390Z"
   },
   {
    "duration": 568,
    "start_time": "2022-02-08T03:59:45.467Z"
   },
   {
    "duration": 266,
    "start_time": "2022-02-08T03:59:46.038Z"
   },
   {
    "duration": 244,
    "start_time": "2022-02-08T04:00:03.954Z"
   },
   {
    "duration": 1470,
    "start_time": "2022-02-08T04:00:21.326Z"
   },
   {
    "duration": 6573,
    "start_time": "2022-02-08T04:01:10.372Z"
   },
   {
    "duration": 808,
    "start_time": "2022-02-08T04:01:23.202Z"
   },
   {
    "duration": 962,
    "start_time": "2022-02-08T04:02:03.920Z"
   },
   {
    "duration": 440,
    "start_time": "2022-02-08T04:02:12.437Z"
   },
   {
    "duration": 212,
    "start_time": "2022-02-08T04:05:00.760Z"
   },
   {
    "duration": 10,
    "start_time": "2022-02-08T04:07:24.111Z"
   },
   {
    "duration": 86,
    "start_time": "2022-02-08T04:10:32.709Z"
   },
   {
    "duration": 9,
    "start_time": "2022-02-08T04:10:41.838Z"
   },
   {
    "duration": 491,
    "start_time": "2022-02-08T04:10:53.207Z"
   },
   {
    "duration": 681,
    "start_time": "2022-02-08T04:15:23.806Z"
   },
   {
    "duration": 467,
    "start_time": "2022-02-08T04:16:39.267Z"
   },
   {
    "duration": 80,
    "start_time": "2022-02-08T04:17:31.225Z"
   },
   {
    "duration": 445,
    "start_time": "2022-02-08T04:17:38.507Z"
   },
   {
    "duration": 457,
    "start_time": "2022-02-08T04:17:58.444Z"
   },
   {
    "duration": 277,
    "start_time": "2022-02-08T04:19:15.659Z"
   },
   {
    "duration": 638,
    "start_time": "2022-02-08T04:20:15.694Z"
   },
   {
    "duration": 282,
    "start_time": "2022-02-08T04:21:02.304Z"
   },
   {
    "duration": 767,
    "start_time": "2022-02-08T04:21:45.860Z"
   },
   {
    "duration": 797,
    "start_time": "2022-02-08T04:22:00.216Z"
   },
   {
    "duration": 552,
    "start_time": "2022-02-08T04:22:19.994Z"
   },
   {
    "duration": 248,
    "start_time": "2022-02-08T04:23:21.212Z"
   },
   {
    "duration": 455,
    "start_time": "2022-02-08T04:24:08.199Z"
   },
   {
    "duration": 637,
    "start_time": "2022-02-08T04:24:22.197Z"
   },
   {
    "duration": 490,
    "start_time": "2022-02-08T04:24:48.668Z"
   },
   {
    "duration": 769,
    "start_time": "2022-02-08T04:25:12.607Z"
   },
   {
    "duration": 611,
    "start_time": "2022-02-08T04:26:54.521Z"
   },
   {
    "duration": 5,
    "start_time": "2022-02-08T04:27:50.789Z"
   },
   {
    "duration": 513,
    "start_time": "2022-02-08T04:27:50.796Z"
   },
   {
    "duration": 163,
    "start_time": "2022-02-08T04:27:51.312Z"
   },
   {
    "duration": 112,
    "start_time": "2022-02-08T04:27:51.478Z"
   },
   {
    "duration": 13,
    "start_time": "2022-02-08T04:27:51.593Z"
   },
   {
    "duration": 27,
    "start_time": "2022-02-08T04:27:51.609Z"
   },
   {
    "duration": 19,
    "start_time": "2022-02-08T04:27:51.640Z"
   },
   {
    "duration": 76,
    "start_time": "2022-02-08T04:27:51.662Z"
   },
   {
    "duration": 9,
    "start_time": "2022-02-08T04:27:51.741Z"
   },
   {
    "duration": 109,
    "start_time": "2022-02-08T04:27:51.752Z"
   },
   {
    "duration": 108,
    "start_time": "2022-02-08T04:27:51.864Z"
   },
   {
    "duration": 68,
    "start_time": "2022-02-08T04:27:51.974Z"
   },
   {
    "duration": 27,
    "start_time": "2022-02-08T04:27:52.045Z"
   },
   {
    "duration": 17,
    "start_time": "2022-02-08T04:27:52.075Z"
   },
   {
    "duration": 60,
    "start_time": "2022-02-08T04:27:52.095Z"
   },
   {
    "duration": 18,
    "start_time": "2022-02-08T04:27:52.157Z"
   },
   {
    "duration": 107,
    "start_time": "2022-02-08T04:27:52.177Z"
   },
   {
    "duration": 69,
    "start_time": "2022-02-08T04:27:52.286Z"
   },
   {
    "duration": 45,
    "start_time": "2022-02-08T04:27:52.360Z"
   },
   {
    "duration": 65,
    "start_time": "2022-02-08T04:27:52.408Z"
   },
   {
    "duration": 20,
    "start_time": "2022-02-08T04:27:52.475Z"
   },
   {
    "duration": 391,
    "start_time": "2022-02-08T04:27:52.497Z"
   },
   {
    "duration": 70,
    "start_time": "2022-02-08T04:27:52.891Z"
   },
   {
    "duration": 604,
    "start_time": "2022-02-08T04:27:52.963Z"
   },
   {
    "duration": 590,
    "start_time": "2022-02-08T04:28:01.005Z"
   },
   {
    "duration": 1086,
    "start_time": "2022-02-08T09:48:41.414Z"
   },
   {
    "duration": 387,
    "start_time": "2022-02-08T09:48:42.502Z"
   },
   {
    "duration": 85,
    "start_time": "2022-02-08T09:48:42.891Z"
   },
   {
    "duration": 64,
    "start_time": "2022-02-08T09:48:42.977Z"
   },
   {
    "duration": 22,
    "start_time": "2022-02-08T09:48:43.043Z"
   },
   {
    "duration": 12,
    "start_time": "2022-02-08T09:48:43.066Z"
   },
   {
    "duration": 15,
    "start_time": "2022-02-08T09:48:43.079Z"
   },
   {
    "duration": 32,
    "start_time": "2022-02-08T09:48:43.095Z"
   },
   {
    "duration": 34,
    "start_time": "2022-02-08T09:48:43.130Z"
   },
   {
    "duration": 61,
    "start_time": "2022-02-08T09:48:43.165Z"
   },
   {
    "duration": 84,
    "start_time": "2022-02-08T09:48:43.228Z"
   },
   {
    "duration": 46,
    "start_time": "2022-02-08T09:48:43.314Z"
   },
   {
    "duration": 17,
    "start_time": "2022-02-08T09:48:43.361Z"
   },
   {
    "duration": 10,
    "start_time": "2022-02-08T09:48:43.380Z"
   },
   {
    "duration": 19,
    "start_time": "2022-02-08T09:48:43.392Z"
   },
   {
    "duration": 11,
    "start_time": "2022-02-08T09:48:43.412Z"
   },
   {
    "duration": 49,
    "start_time": "2022-02-08T09:48:43.458Z"
   },
   {
    "duration": 29,
    "start_time": "2022-02-08T09:48:43.509Z"
   },
   {
    "duration": 28,
    "start_time": "2022-02-08T09:48:43.559Z"
   },
   {
    "duration": 27,
    "start_time": "2022-02-08T09:48:43.588Z"
   },
   {
    "duration": 11,
    "start_time": "2022-02-08T09:48:43.617Z"
   },
   {
    "duration": 225,
    "start_time": "2022-02-08T09:48:43.630Z"
   },
   {
    "duration": 35,
    "start_time": "2022-02-08T09:48:43.859Z"
   },
   {
    "duration": 354,
    "start_time": "2022-02-08T09:48:43.896Z"
   },
   {
    "duration": 372,
    "start_time": "2022-02-08T09:48:44.258Z"
   },
   {
    "duration": 10,
    "start_time": "2022-02-08T09:49:09.411Z"
   },
   {
    "duration": 11,
    "start_time": "2022-02-08T09:49:15.698Z"
   },
   {
    "duration": 17,
    "start_time": "2022-02-08T09:49:29.101Z"
   },
   {
    "duration": 262,
    "start_time": "2022-02-08T09:49:42.839Z"
   },
   {
    "duration": 462,
    "start_time": "2022-02-08T09:50:39.766Z"
   },
   {
    "duration": 321,
    "start_time": "2022-02-08T09:51:43.263Z"
   },
   {
    "duration": 419,
    "start_time": "2022-02-08T09:51:51.144Z"
   },
   {
    "duration": 331,
    "start_time": "2022-02-08T09:52:39.444Z"
   },
   {
    "duration": 64,
    "start_time": "2022-02-08T09:52:45.965Z"
   },
   {
    "duration": 62,
    "start_time": "2022-02-08T09:57:22.103Z"
   },
   {
    "duration": 68,
    "start_time": "2022-02-08T09:58:19.055Z"
   },
   {
    "duration": 59,
    "start_time": "2022-02-08T09:58:38.127Z"
   },
   {
    "duration": 61,
    "start_time": "2022-02-08T09:59:19.173Z"
   },
   {
    "duration": 396,
    "start_time": "2022-02-08T09:59:26.749Z"
   },
   {
    "duration": 408,
    "start_time": "2022-02-08T09:59:46.799Z"
   },
   {
    "duration": 459,
    "start_time": "2022-02-08T09:59:58.270Z"
   },
   {
    "duration": 974,
    "start_time": "2022-02-08T10:02:05.608Z"
   },
   {
    "duration": 6,
    "start_time": "2022-02-08T10:08:07.701Z"
   },
   {
    "duration": 188,
    "start_time": "2022-02-08T10:08:31.020Z"
   },
   {
    "duration": 6,
    "start_time": "2022-02-08T10:09:09.386Z"
   },
   {
    "duration": 395,
    "start_time": "2022-02-08T10:10:51.171Z"
   },
   {
    "duration": 518,
    "start_time": "2022-02-08T10:11:50.268Z"
   },
   {
    "duration": 398,
    "start_time": "2022-02-08T10:12:07.270Z"
   },
   {
    "duration": 4,
    "start_time": "2022-02-08T10:16:27.826Z"
   },
   {
    "duration": 428,
    "start_time": "2022-02-08T10:16:27.833Z"
   },
   {
    "duration": 114,
    "start_time": "2022-02-08T10:16:28.263Z"
   },
   {
    "duration": 57,
    "start_time": "2022-02-08T10:16:28.379Z"
   },
   {
    "duration": 25,
    "start_time": "2022-02-08T10:16:28.437Z"
   },
   {
    "duration": 11,
    "start_time": "2022-02-08T10:16:28.464Z"
   },
   {
    "duration": 20,
    "start_time": "2022-02-08T10:16:28.477Z"
   },
   {
    "duration": 32,
    "start_time": "2022-02-08T10:16:28.499Z"
   },
   {
    "duration": 7,
    "start_time": "2022-02-08T10:16:28.558Z"
   },
   {
    "duration": 72,
    "start_time": "2022-02-08T10:16:28.567Z"
   },
   {
    "duration": 71,
    "start_time": "2022-02-08T10:16:28.641Z"
   },
   {
    "duration": 55,
    "start_time": "2022-02-08T10:16:28.714Z"
   },
   {
    "duration": 16,
    "start_time": "2022-02-08T10:16:28.770Z"
   },
   {
    "duration": 10,
    "start_time": "2022-02-08T10:16:28.788Z"
   },
   {
    "duration": 22,
    "start_time": "2022-02-08T10:16:28.799Z"
   },
   {
    "duration": 41,
    "start_time": "2022-02-08T10:16:28.823Z"
   },
   {
    "duration": 52,
    "start_time": "2022-02-08T10:16:28.865Z"
   },
   {
    "duration": 51,
    "start_time": "2022-02-08T10:16:28.918Z"
   },
   {
    "duration": 31,
    "start_time": "2022-02-08T10:16:28.971Z"
   },
   {
    "duration": 30,
    "start_time": "2022-02-08T10:16:29.003Z"
   },
   {
    "duration": 14,
    "start_time": "2022-02-08T10:16:29.059Z"
   },
   {
    "duration": 232,
    "start_time": "2022-02-08T10:16:29.075Z"
   },
   {
    "duration": 57,
    "start_time": "2022-02-08T10:16:29.309Z"
   },
   {
    "duration": 1001,
    "start_time": "2022-02-08T10:16:34.562Z"
   },
   {
    "duration": 538,
    "start_time": "2022-02-08T10:17:40.885Z"
   },
   {
    "duration": 3,
    "start_time": "2022-02-09T15:55:15.458Z"
   },
   {
    "duration": 389,
    "start_time": "2022-02-09T15:55:15.465Z"
   },
   {
    "duration": 119,
    "start_time": "2022-02-09T15:55:15.856Z"
   },
   {
    "duration": 82,
    "start_time": "2022-02-09T15:55:15.977Z"
   },
   {
    "duration": 9,
    "start_time": "2022-02-09T15:55:16.061Z"
   },
   {
    "duration": 37,
    "start_time": "2022-02-09T15:55:16.072Z"
   },
   {
    "duration": 36,
    "start_time": "2022-02-09T15:55:16.110Z"
   },
   {
    "duration": 46,
    "start_time": "2022-02-09T15:55:16.148Z"
   },
   {
    "duration": 9,
    "start_time": "2022-02-09T15:55:16.197Z"
   },
   {
    "duration": 87,
    "start_time": "2022-02-09T15:55:16.208Z"
   },
   {
    "duration": 83,
    "start_time": "2022-02-09T15:55:16.297Z"
   },
   {
    "duration": 23,
    "start_time": "2022-02-09T15:55:16.382Z"
   },
   {
    "duration": 16,
    "start_time": "2022-02-09T15:55:16.407Z"
   },
   {
    "duration": 43,
    "start_time": "2022-02-09T15:55:16.425Z"
   },
   {
    "duration": 36,
    "start_time": "2022-02-09T15:55:16.469Z"
   },
   {
    "duration": 25,
    "start_time": "2022-02-09T15:55:16.507Z"
   },
   {
    "duration": 61,
    "start_time": "2022-02-09T15:55:16.534Z"
   },
   {
    "duration": 32,
    "start_time": "2022-02-09T15:55:16.597Z"
   },
   {
    "duration": 52,
    "start_time": "2022-02-09T15:55:16.630Z"
   },
   {
    "duration": 31,
    "start_time": "2022-02-09T15:55:16.684Z"
   },
   {
    "duration": 23,
    "start_time": "2022-02-09T15:55:16.717Z"
   },
   {
    "duration": 226,
    "start_time": "2022-02-09T15:55:16.742Z"
   },
   {
    "duration": 38,
    "start_time": "2022-02-09T15:55:16.970Z"
   },
   {
    "duration": 1004,
    "start_time": "2022-02-09T15:55:17.011Z"
   },
   {
    "duration": 5741,
    "start_time": "2022-02-09T15:55:18.016Z"
   },
   {
    "duration": -112,
    "start_time": "2022-02-09T15:55:23.870Z"
   },
   {
    "duration": 534,
    "start_time": "2022-02-09T15:56:08.251Z"
   },
   {
    "duration": 433,
    "start_time": "2022-02-09T15:59:09.386Z"
   },
   {
    "duration": 452,
    "start_time": "2022-02-09T16:01:03.158Z"
   },
   {
    "duration": 460,
    "start_time": "2022-02-09T16:01:25.547Z"
   },
   {
    "duration": 1098,
    "start_time": "2022-02-09T16:08:54.410Z"
   },
   {
    "duration": 354,
    "start_time": "2022-02-09T16:29:18.049Z"
   },
   {
    "duration": 918,
    "start_time": "2022-02-09T16:29:39.388Z"
   },
   {
    "duration": 1655,
    "start_time": "2022-02-09T16:30:41.814Z"
   },
   {
    "duration": 1551,
    "start_time": "2022-02-09T16:31:32.902Z"
   },
   {
    "duration": 1565,
    "start_time": "2022-02-09T16:33:27.056Z"
   },
   {
    "duration": 1464,
    "start_time": "2022-02-09T16:36:33.699Z"
   },
   {
    "duration": 3,
    "start_time": "2022-02-09T16:37:03.951Z"
   },
   {
    "duration": 384,
    "start_time": "2022-02-09T16:37:03.958Z"
   },
   {
    "duration": 86,
    "start_time": "2022-02-09T16:37:04.344Z"
   },
   {
    "duration": 63,
    "start_time": "2022-02-09T16:37:04.459Z"
   },
   {
    "duration": 8,
    "start_time": "2022-02-09T16:37:04.524Z"
   },
   {
    "duration": 26,
    "start_time": "2022-02-09T16:37:04.534Z"
   },
   {
    "duration": 16,
    "start_time": "2022-02-09T16:37:04.562Z"
   },
   {
    "duration": 34,
    "start_time": "2022-02-09T16:37:04.580Z"
   },
   {
    "duration": 7,
    "start_time": "2022-02-09T16:37:04.616Z"
   },
   {
    "duration": 103,
    "start_time": "2022-02-09T16:37:04.625Z"
   },
   {
    "duration": 90,
    "start_time": "2022-02-09T16:37:04.729Z"
   },
   {
    "duration": 55,
    "start_time": "2022-02-09T16:37:04.821Z"
   },
   {
    "duration": 19,
    "start_time": "2022-02-09T16:37:04.878Z"
   },
   {
    "duration": 13,
    "start_time": "2022-02-09T16:37:04.899Z"
   },
   {
    "duration": 63,
    "start_time": "2022-02-09T16:37:04.913Z"
   },
   {
    "duration": 12,
    "start_time": "2022-02-09T16:37:04.978Z"
   },
   {
    "duration": 76,
    "start_time": "2022-02-09T16:37:04.992Z"
   },
   {
    "duration": 34,
    "start_time": "2022-02-09T16:37:05.070Z"
   },
   {
    "duration": 57,
    "start_time": "2022-02-09T16:37:05.106Z"
   },
   {
    "duration": 31,
    "start_time": "2022-02-09T16:37:05.164Z"
   },
   {
    "duration": 13,
    "start_time": "2022-02-09T16:37:05.197Z"
   },
   {
    "duration": 235,
    "start_time": "2022-02-09T16:37:05.211Z"
   },
   {
    "duration": 48,
    "start_time": "2022-02-09T16:37:05.448Z"
   },
   {
    "duration": 1654,
    "start_time": "2022-02-09T16:37:12.077Z"
   },
   {
    "duration": 1482,
    "start_time": "2022-02-09T16:37:45.327Z"
   },
   {
    "duration": 577,
    "start_time": "2022-02-09T16:38:23.268Z"
   },
   {
    "duration": 1581,
    "start_time": "2022-02-09T16:38:40.355Z"
   },
   {
    "duration": 1567,
    "start_time": "2022-02-09T16:38:56.723Z"
   },
   {
    "duration": 1500,
    "start_time": "2022-02-09T16:39:46.140Z"
   },
   {
    "duration": 1710,
    "start_time": "2022-02-09T16:40:00.649Z"
   },
   {
    "duration": 176,
    "start_time": "2022-02-09T17:56:29.683Z"
   },
   {
    "duration": 174,
    "start_time": "2022-02-09T17:59:17.353Z"
   },
   {
    "duration": 3,
    "start_time": "2022-02-09T17:59:49.035Z"
   },
   {
    "duration": 365,
    "start_time": "2022-02-09T17:59:49.039Z"
   },
   {
    "duration": 97,
    "start_time": "2022-02-09T17:59:49.406Z"
   },
   {
    "duration": 80,
    "start_time": "2022-02-09T17:59:49.505Z"
   },
   {
    "duration": 9,
    "start_time": "2022-02-09T17:59:49.587Z"
   },
   {
    "duration": 11,
    "start_time": "2022-02-09T17:59:49.597Z"
   },
   {
    "duration": 16,
    "start_time": "2022-02-09T17:59:49.610Z"
   },
   {
    "duration": 62,
    "start_time": "2022-02-09T17:59:49.628Z"
   },
   {
    "duration": 6,
    "start_time": "2022-02-09T17:59:49.692Z"
   },
   {
    "duration": 83,
    "start_time": "2022-02-09T17:59:49.699Z"
   },
   {
    "duration": 83,
    "start_time": "2022-02-09T17:59:49.783Z"
   },
   {
    "duration": 29,
    "start_time": "2022-02-09T17:59:49.867Z"
   },
   {
    "duration": 19,
    "start_time": "2022-02-09T17:59:49.898Z"
   },
   {
    "duration": 67,
    "start_time": "2022-02-09T17:59:49.919Z"
   },
   {
    "duration": 86,
    "start_time": "2022-02-09T17:59:49.988Z"
   },
   {
    "duration": 50,
    "start_time": "2022-02-09T17:59:50.077Z"
   },
   {
    "duration": 134,
    "start_time": "2022-02-09T17:59:50.130Z"
   },
   {
    "duration": 36,
    "start_time": "2022-02-09T17:59:50.266Z"
   },
   {
    "duration": 56,
    "start_time": "2022-02-09T17:59:50.305Z"
   },
   {
    "duration": 32,
    "start_time": "2022-02-09T17:59:50.362Z"
   },
   {
    "duration": 13,
    "start_time": "2022-02-09T17:59:50.396Z"
   },
   {
    "duration": 238,
    "start_time": "2022-02-09T17:59:50.411Z"
   },
   {
    "duration": 43,
    "start_time": "2022-02-09T17:59:50.658Z"
   },
   {
    "duration": 1560,
    "start_time": "2022-02-09T17:59:50.703Z"
   },
   {
    "duration": 178,
    "start_time": "2022-02-09T18:01:57.870Z"
   },
   {
    "duration": 3,
    "start_time": "2022-02-09T18:02:29.740Z"
   },
   {
    "duration": 375,
    "start_time": "2022-02-09T18:02:29.745Z"
   },
   {
    "duration": 230,
    "start_time": "2022-02-09T18:02:30.122Z"
   },
   {
    "duration": 61,
    "start_time": "2022-02-09T18:02:30.359Z"
   },
   {
    "duration": 9,
    "start_time": "2022-02-09T18:02:30.421Z"
   },
   {
    "duration": 33,
    "start_time": "2022-02-09T18:02:30.432Z"
   },
   {
    "duration": 33,
    "start_time": "2022-02-09T18:02:30.468Z"
   },
   {
    "duration": 38,
    "start_time": "2022-02-09T18:02:30.503Z"
   },
   {
    "duration": 17,
    "start_time": "2022-02-09T18:02:30.543Z"
   },
   {
    "duration": 66,
    "start_time": "2022-02-09T18:02:30.562Z"
   },
   {
    "duration": 84,
    "start_time": "2022-02-09T18:02:30.630Z"
   },
   {
    "duration": 63,
    "start_time": "2022-02-09T18:02:30.716Z"
   },
   {
    "duration": 21,
    "start_time": "2022-02-09T18:02:30.781Z"
   },
   {
    "duration": 13,
    "start_time": "2022-02-09T18:02:30.804Z"
   },
   {
    "duration": 61,
    "start_time": "2022-02-09T18:02:30.819Z"
   },
   {
    "duration": 22,
    "start_time": "2022-02-09T18:02:30.882Z"
   },
   {
    "duration": 73,
    "start_time": "2022-02-09T18:02:30.906Z"
   },
   {
    "duration": 34,
    "start_time": "2022-02-09T18:02:30.980Z"
   },
   {
    "duration": 57,
    "start_time": "2022-02-09T18:02:31.017Z"
   },
   {
    "duration": 32,
    "start_time": "2022-02-09T18:02:31.076Z"
   },
   {
    "duration": 19,
    "start_time": "2022-02-09T18:02:31.110Z"
   },
   {
    "duration": 243,
    "start_time": "2022-02-09T18:02:31.131Z"
   },
   {
    "duration": 39,
    "start_time": "2022-02-09T18:02:31.376Z"
   },
   {
    "duration": 1505,
    "start_time": "2022-02-09T18:02:31.416Z"
   },
   {
    "duration": 326,
    "start_time": "2022-02-09T18:02:38.762Z"
   },
   {
    "duration": 376,
    "start_time": "2022-02-09T18:05:58.133Z"
   },
   {
    "duration": 314,
    "start_time": "2022-02-09T18:06:59.726Z"
   },
   {
    "duration": 334,
    "start_time": "2022-02-09T18:07:11.374Z"
   },
   {
    "duration": 444,
    "start_time": "2022-02-09T18:07:16.951Z"
   },
   {
    "duration": 471,
    "start_time": "2022-02-09T18:12:00.235Z"
   },
   {
    "duration": 480,
    "start_time": "2022-02-09T18:13:16.054Z"
   },
   {
    "duration": 453,
    "start_time": "2022-02-09T18:14:08.659Z"
   },
   {
    "duration": 489,
    "start_time": "2022-02-09T18:14:25.543Z"
   },
   {
    "duration": 462,
    "start_time": "2022-02-09T18:14:42.772Z"
   },
   {
    "duration": 483,
    "start_time": "2022-02-09T18:15:40.239Z"
   },
   {
    "duration": 318,
    "start_time": "2022-02-09T18:17:34.740Z"
   },
   {
    "duration": 749,
    "start_time": "2022-02-09T18:18:02.261Z"
   },
   {
    "duration": 632,
    "start_time": "2022-02-09T18:19:25.582Z"
   },
   {
    "duration": 645,
    "start_time": "2022-02-09T18:22:36.741Z"
   },
   {
    "duration": 196,
    "start_time": "2022-02-09T18:25:35.644Z"
   },
   {
    "duration": 634,
    "start_time": "2022-02-09T18:26:06.383Z"
   },
   {
    "duration": 3,
    "start_time": "2022-02-09T18:27:24.295Z"
   },
   {
    "duration": 340,
    "start_time": "2022-02-09T18:27:24.303Z"
   },
   {
    "duration": 118,
    "start_time": "2022-02-09T18:27:24.645Z"
   },
   {
    "duration": 62,
    "start_time": "2022-02-09T18:27:24.765Z"
   },
   {
    "duration": 9,
    "start_time": "2022-02-09T18:27:24.829Z"
   },
   {
    "duration": 8,
    "start_time": "2022-02-09T18:27:24.860Z"
   },
   {
    "duration": 21,
    "start_time": "2022-02-09T18:27:24.870Z"
   },
   {
    "duration": 67,
    "start_time": "2022-02-09T18:27:24.893Z"
   },
   {
    "duration": 7,
    "start_time": "2022-02-09T18:27:24.961Z"
   },
   {
    "duration": 63,
    "start_time": "2022-02-09T18:27:24.971Z"
   },
   {
    "duration": 65,
    "start_time": "2022-02-09T18:27:25.060Z"
   },
   {
    "duration": 29,
    "start_time": "2022-02-09T18:27:25.159Z"
   },
   {
    "duration": 18,
    "start_time": "2022-02-09T18:27:25.189Z"
   },
   {
    "duration": 57,
    "start_time": "2022-02-09T18:27:25.209Z"
   },
   {
    "duration": 22,
    "start_time": "2022-02-09T18:27:25.268Z"
   },
   {
    "duration": 11,
    "start_time": "2022-02-09T18:27:25.292Z"
   },
   {
    "duration": 79,
    "start_time": "2022-02-09T18:27:25.305Z"
   },
   {
    "duration": 32,
    "start_time": "2022-02-09T18:27:25.386Z"
   },
   {
    "duration": 51,
    "start_time": "2022-02-09T18:27:25.419Z"
   },
   {
    "duration": 38,
    "start_time": "2022-02-09T18:27:25.472Z"
   },
   {
    "duration": 13,
    "start_time": "2022-02-09T18:27:25.512Z"
   },
   {
    "duration": 233,
    "start_time": "2022-02-09T18:27:25.526Z"
   },
   {
    "duration": 39,
    "start_time": "2022-02-09T18:27:25.761Z"
   },
   {
    "duration": 1624,
    "start_time": "2022-02-09T18:27:25.802Z"
   },
   {
    "duration": 769,
    "start_time": "2022-02-09T18:27:33.162Z"
   },
   {
    "duration": 1127,
    "start_time": "2022-02-09T18:31:20.133Z"
   },
   {
    "duration": 460,
    "start_time": "2022-02-09T18:31:29.360Z"
   },
   {
    "duration": 3,
    "start_time": "2022-02-09T18:34:19.356Z"
   },
   {
    "duration": 340,
    "start_time": "2022-02-09T18:34:19.362Z"
   },
   {
    "duration": 105,
    "start_time": "2022-02-09T18:34:19.704Z"
   },
   {
    "duration": 94,
    "start_time": "2022-02-09T18:34:19.811Z"
   },
   {
    "duration": 11,
    "start_time": "2022-02-09T18:34:19.907Z"
   },
   {
    "duration": 11,
    "start_time": "2022-02-09T18:34:19.920Z"
   },
   {
    "duration": 41,
    "start_time": "2022-02-09T18:34:19.933Z"
   },
   {
    "duration": 34,
    "start_time": "2022-02-09T18:34:19.976Z"
   },
   {
    "duration": 6,
    "start_time": "2022-02-09T18:34:20.012Z"
   },
   {
    "duration": 95,
    "start_time": "2022-02-09T18:34:20.019Z"
   },
   {
    "duration": 82,
    "start_time": "2022-02-09T18:34:20.116Z"
   },
   {
    "duration": 26,
    "start_time": "2022-02-09T18:34:20.199Z"
   },
   {
    "duration": 18,
    "start_time": "2022-02-09T18:34:20.260Z"
   },
   {
    "duration": 10,
    "start_time": "2022-02-09T18:34:20.279Z"
   },
   {
    "duration": 21,
    "start_time": "2022-02-09T18:34:20.291Z"
   },
   {
    "duration": 44,
    "start_time": "2022-02-09T18:34:20.315Z"
   },
   {
    "duration": 58,
    "start_time": "2022-02-09T18:34:20.361Z"
   },
   {
    "duration": 68,
    "start_time": "2022-02-09T18:34:20.421Z"
   },
   {
    "duration": 31,
    "start_time": "2022-02-09T18:34:20.491Z"
   },
   {
    "duration": 61,
    "start_time": "2022-02-09T18:34:20.524Z"
   },
   {
    "duration": 15,
    "start_time": "2022-02-09T18:34:20.586Z"
   },
   {
    "duration": 238,
    "start_time": "2022-02-09T18:34:20.604Z"
   },
   {
    "duration": 60,
    "start_time": "2022-02-09T18:34:20.844Z"
   },
   {
    "duration": 1023,
    "start_time": "2022-02-09T18:34:20.906Z"
   },
   {
    "duration": 596,
    "start_time": "2022-02-09T18:35:40.108Z"
   },
   {
    "duration": 482,
    "start_time": "2022-02-09T18:37:31.384Z"
   },
   {
    "duration": 230,
    "start_time": "2022-02-09T18:37:59.802Z"
   },
   {
    "duration": 242,
    "start_time": "2022-02-09T18:38:39.979Z"
   },
   {
    "duration": 6,
    "start_time": "2022-02-09T18:39:36.806Z"
   },
   {
    "duration": 456,
    "start_time": "2022-02-09T18:42:12.256Z"
   },
   {
    "duration": 3519,
    "start_time": "2022-02-09T18:46:27.339Z"
   },
   {
    "duration": 3326,
    "start_time": "2022-02-09T18:46:35.852Z"
   },
   {
    "duration": 3384,
    "start_time": "2022-02-09T18:47:16.113Z"
   },
   {
    "duration": 3530,
    "start_time": "2022-02-09T18:47:44.666Z"
   },
   {
    "duration": 375,
    "start_time": "2022-02-09T18:49:37.087Z"
   },
   {
    "duration": 427,
    "start_time": "2022-02-09T18:51:38.221Z"
   },
   {
    "duration": 453,
    "start_time": "2022-02-09T18:52:08.056Z"
   },
   {
    "duration": 173,
    "start_time": "2022-02-09T18:52:40.442Z"
   },
   {
    "duration": 303,
    "start_time": "2022-02-09T18:52:57.807Z"
   },
   {
    "duration": 1123,
    "start_time": "2022-02-09T18:55:11.511Z"
   },
   {
    "duration": 1114,
    "start_time": "2022-02-09T18:58:34.861Z"
   },
   {
    "duration": 1260,
    "start_time": "2022-02-09T18:59:51.583Z"
   },
   {
    "duration": 1168,
    "start_time": "2022-02-09T18:59:59.644Z"
   },
   {
    "duration": 1351,
    "start_time": "2022-02-09T19:00:07.956Z"
   },
   {
    "duration": 448,
    "start_time": "2022-02-09T19:04:39.889Z"
   },
   {
    "duration": 541,
    "start_time": "2022-02-09T19:18:34.013Z"
   },
   {
    "duration": 649,
    "start_time": "2022-02-09T19:18:45.965Z"
   },
   {
    "duration": 663,
    "start_time": "2022-02-09T19:18:59.670Z"
   },
   {
    "duration": 822,
    "start_time": "2022-02-09T19:19:56.077Z"
   },
   {
    "duration": 190,
    "start_time": "2022-02-09T19:30:06.271Z"
   },
   {
    "duration": 5,
    "start_time": "2022-02-09T19:30:21.180Z"
   },
   {
    "duration": 4,
    "start_time": "2022-02-09T19:31:15.315Z"
   },
   {
    "duration": 6,
    "start_time": "2022-02-09T19:31:29.571Z"
   },
   {
    "duration": 5,
    "start_time": "2022-02-09T19:32:01.236Z"
   },
   {
    "duration": 5,
    "start_time": "2022-02-09T19:32:40.910Z"
   },
   {
    "duration": 630,
    "start_time": "2022-02-09T20:05:41.457Z"
   },
   {
    "duration": 178,
    "start_time": "2022-02-09T20:06:19.402Z"
   },
   {
    "duration": 182,
    "start_time": "2022-02-09T20:06:53.243Z"
   },
   {
    "duration": 5,
    "start_time": "2022-02-09T20:09:41.698Z"
   },
   {
    "duration": 6,
    "start_time": "2022-02-09T20:09:52.297Z"
   },
   {
    "duration": 21,
    "start_time": "2022-02-09T20:13:20.087Z"
   },
   {
    "duration": 19,
    "start_time": "2022-02-09T20:13:44.042Z"
   },
   {
    "duration": 64,
    "start_time": "2022-02-09T20:16:22.384Z"
   },
   {
    "duration": 184,
    "start_time": "2022-02-09T20:16:30.826Z"
   },
   {
    "duration": 215,
    "start_time": "2022-02-09T20:16:43.624Z"
   },
   {
    "duration": 230,
    "start_time": "2022-02-09T20:17:19.829Z"
   },
   {
    "duration": 243,
    "start_time": "2022-02-09T20:18:02.404Z"
   },
   {
    "duration": 256,
    "start_time": "2022-02-09T20:18:44.800Z"
   },
   {
    "duration": 233,
    "start_time": "2022-02-09T20:19:24.690Z"
   },
   {
    "duration": 233,
    "start_time": "2022-02-09T20:19:34.603Z"
   },
   {
    "duration": 228,
    "start_time": "2022-02-09T20:19:47.781Z"
   },
   {
    "duration": 233,
    "start_time": "2022-02-09T20:22:28.174Z"
   },
   {
    "duration": 328,
    "start_time": "2022-02-09T20:22:33.531Z"
   },
   {
    "duration": 240,
    "start_time": "2022-02-09T20:22:40.872Z"
   },
   {
    "duration": 252,
    "start_time": "2022-02-09T20:23:00.930Z"
   },
   {
    "duration": 58,
    "start_time": "2022-02-10T03:37:09.266Z"
   },
   {
    "duration": 71,
    "start_time": "2022-02-10T03:37:15.522Z"
   },
   {
    "duration": 575,
    "start_time": "2022-02-10T03:37:29.680Z"
   },
   {
    "duration": 62,
    "start_time": "2022-02-10T03:38:24.016Z"
   },
   {
    "duration": 67,
    "start_time": "2022-02-10T03:38:42.793Z"
   },
   {
    "duration": 341,
    "start_time": "2022-02-10T03:39:16.558Z"
   },
   {
    "duration": 305,
    "start_time": "2022-02-10T03:39:57.108Z"
   },
   {
    "duration": 295,
    "start_time": "2022-02-10T03:40:19.195Z"
   },
   {
    "duration": 299,
    "start_time": "2022-02-10T03:40:35.340Z"
   },
   {
    "duration": 429,
    "start_time": "2022-02-10T03:41:01.142Z"
   },
   {
    "duration": 302,
    "start_time": "2022-02-10T03:45:14.483Z"
   },
   {
    "duration": 292,
    "start_time": "2022-02-10T03:45:31.936Z"
   },
   {
    "duration": 65,
    "start_time": "2022-02-10T03:45:44.467Z"
   },
   {
    "duration": 294,
    "start_time": "2022-02-10T03:45:49.744Z"
   },
   {
    "duration": 312,
    "start_time": "2022-02-10T03:45:59.063Z"
   },
   {
    "duration": 301,
    "start_time": "2022-02-10T03:46:16.275Z"
   },
   {
    "duration": 298,
    "start_time": "2022-02-10T03:46:21.590Z"
   },
   {
    "duration": 458,
    "start_time": "2022-02-10T03:46:30.056Z"
   },
   {
    "duration": 61,
    "start_time": "2022-02-10T03:46:39.099Z"
   },
   {
    "duration": 307,
    "start_time": "2022-02-10T03:46:43.432Z"
   },
   {
    "duration": 299,
    "start_time": "2022-02-10T03:48:21.237Z"
   },
   {
    "duration": 298,
    "start_time": "2022-02-10T03:48:41.835Z"
   },
   {
    "duration": 310,
    "start_time": "2022-02-10T03:48:47.571Z"
   },
   {
    "duration": 310,
    "start_time": "2022-02-10T03:48:57.756Z"
   },
   {
    "duration": 1190,
    "start_time": "2022-02-10T03:49:59.845Z"
   },
   {
    "duration": 1804,
    "start_time": "2022-02-10T03:50:12.866Z"
   },
   {
    "duration": 445,
    "start_time": "2022-02-10T03:51:53.384Z"
   },
   {
    "duration": 65,
    "start_time": "2022-02-10T03:52:11.520Z"
   },
   {
    "duration": 322,
    "start_time": "2022-02-10T03:52:16.724Z"
   },
   {
    "duration": 323,
    "start_time": "2022-02-10T03:53:15.294Z"
   },
   {
    "duration": 306,
    "start_time": "2022-02-10T03:53:24.537Z"
   },
   {
    "duration": 364,
    "start_time": "2022-02-10T03:54:11.961Z"
   },
   {
    "duration": 342,
    "start_time": "2022-02-10T03:54:19.238Z"
   },
   {
    "duration": 340,
    "start_time": "2022-02-10T03:54:27.638Z"
   },
   {
    "duration": 337,
    "start_time": "2022-02-10T03:54:40.535Z"
   },
   {
    "duration": 351,
    "start_time": "2022-02-10T03:54:47.428Z"
   },
   {
    "duration": 365,
    "start_time": "2022-02-10T03:54:51.468Z"
   },
   {
    "duration": 329,
    "start_time": "2022-02-10T03:55:03.976Z"
   },
   {
    "duration": 361,
    "start_time": "2022-02-10T03:55:07.219Z"
   },
   {
    "duration": 340,
    "start_time": "2022-02-10T03:56:15.527Z"
   },
   {
    "duration": 301,
    "start_time": "2022-02-10T03:56:26.630Z"
   },
   {
    "duration": 447,
    "start_time": "2022-02-10T03:56:34.131Z"
   },
   {
    "duration": 313,
    "start_time": "2022-02-10T03:57:31.816Z"
   },
   {
    "duration": 302,
    "start_time": "2022-02-10T03:57:42.568Z"
   },
   {
    "duration": 350,
    "start_time": "2022-02-10T03:59:15.957Z"
   },
   {
    "duration": 301,
    "start_time": "2022-02-10T03:59:21.367Z"
   },
   {
    "duration": 308,
    "start_time": "2022-02-10T03:59:30.326Z"
   },
   {
    "duration": 338,
    "start_time": "2022-02-10T04:00:00.376Z"
   },
   {
    "duration": 252,
    "start_time": "2022-02-10T04:00:11.133Z"
   },
   {
    "duration": 243,
    "start_time": "2022-02-10T04:01:06.340Z"
   },
   {
    "duration": 257,
    "start_time": "2022-02-10T04:01:17.205Z"
   },
   {
    "duration": 424,
    "start_time": "2022-02-10T04:01:31.110Z"
   },
   {
    "duration": 247,
    "start_time": "2022-02-10T04:01:43.850Z"
   },
   {
    "duration": 247,
    "start_time": "2022-02-10T04:01:54.378Z"
   },
   {
    "duration": 247,
    "start_time": "2022-02-10T04:02:11.733Z"
   },
   {
    "duration": 258,
    "start_time": "2022-02-10T04:02:22.190Z"
   },
   {
    "duration": 233,
    "start_time": "2022-02-10T04:02:26.115Z"
   },
   {
    "duration": 245,
    "start_time": "2022-02-10T04:02:32.131Z"
   },
   {
    "duration": 232,
    "start_time": "2022-02-10T04:02:46.016Z"
   },
   {
    "duration": 177,
    "start_time": "2022-02-10T04:03:04.253Z"
   },
   {
    "duration": 238,
    "start_time": "2022-02-10T04:03:15.436Z"
   },
   {
    "duration": 193,
    "start_time": "2022-02-10T04:03:48.847Z"
   },
   {
    "duration": 201,
    "start_time": "2022-02-10T04:04:00.450Z"
   },
   {
    "duration": 196,
    "start_time": "2022-02-10T04:04:51.868Z"
   },
   {
    "duration": 319,
    "start_time": "2022-02-10T04:05:01.992Z"
   },
   {
    "duration": 180,
    "start_time": "2022-02-10T04:05:11.963Z"
   },
   {
    "duration": 186,
    "start_time": "2022-02-10T04:05:18.656Z"
   },
   {
    "duration": 231,
    "start_time": "2022-02-10T04:05:47.831Z"
   },
   {
    "duration": 242,
    "start_time": "2022-02-10T04:06:05.447Z"
   },
   {
    "duration": 245,
    "start_time": "2022-02-10T04:06:13.662Z"
   },
   {
    "duration": 234,
    "start_time": "2022-02-10T04:06:23.893Z"
   },
   {
    "duration": 373,
    "start_time": "2022-02-10T04:06:38.402Z"
   },
   {
    "duration": 241,
    "start_time": "2022-02-10T04:06:45.518Z"
   },
   {
    "duration": 234,
    "start_time": "2022-02-10T04:06:53.202Z"
   },
   {
    "duration": 243,
    "start_time": "2022-02-10T04:06:59.765Z"
   },
   {
    "duration": 235,
    "start_time": "2022-02-10T04:07:03.449Z"
   },
   {
    "duration": 237,
    "start_time": "2022-02-10T04:07:09.944Z"
   },
   {
    "duration": 233,
    "start_time": "2022-02-10T04:07:27.684Z"
   },
   {
    "duration": 240,
    "start_time": "2022-02-10T04:08:03.867Z"
   },
   {
    "duration": 251,
    "start_time": "2022-02-10T04:08:33.718Z"
   },
   {
    "duration": 257,
    "start_time": "2022-02-10T04:09:31.899Z"
   },
   {
    "duration": 260,
    "start_time": "2022-02-10T04:09:55.148Z"
   },
   {
    "duration": 415,
    "start_time": "2022-02-10T04:10:10.569Z"
   },
   {
    "duration": 266,
    "start_time": "2022-02-10T04:10:23.054Z"
   },
   {
    "duration": 249,
    "start_time": "2022-02-10T04:11:11.945Z"
   },
   {
    "duration": 337,
    "start_time": "2022-02-10T04:11:22.807Z"
   },
   {
    "duration": 342,
    "start_time": "2022-02-10T04:11:26.548Z"
   },
   {
    "duration": 346,
    "start_time": "2022-02-10T04:11:34.418Z"
   },
   {
    "duration": 334,
    "start_time": "2022-02-10T04:11:38.806Z"
   },
   {
    "duration": 331,
    "start_time": "2022-02-10T04:11:43.053Z"
   },
   {
    "duration": 244,
    "start_time": "2022-02-10T04:11:46.123Z"
   },
   {
    "duration": 235,
    "start_time": "2022-02-10T04:12:56.733Z"
   },
   {
    "duration": 344,
    "start_time": "2022-02-10T04:13:06.439Z"
   },
   {
    "duration": 251,
    "start_time": "2022-02-10T04:13:15.154Z"
   },
   {
    "duration": 254,
    "start_time": "2022-02-10T04:15:07.119Z"
   },
   {
    "duration": 233,
    "start_time": "2022-02-10T04:15:09.295Z"
   },
   {
    "duration": 393,
    "start_time": "2022-02-10T04:15:21.859Z"
   },
   {
    "duration": 393,
    "start_time": "2022-02-10T04:15:55.026Z"
   },
   {
    "duration": 368,
    "start_time": "2022-02-10T04:17:27.220Z"
   },
   {
    "duration": 247,
    "start_time": "2022-02-10T04:17:31.798Z"
   },
   {
    "duration": 237,
    "start_time": "2022-02-10T04:17:50.277Z"
   },
   {
    "duration": 239,
    "start_time": "2022-02-10T04:18:14.966Z"
   },
   {
    "duration": 249,
    "start_time": "2022-02-10T04:19:18.370Z"
   },
   {
    "duration": 236,
    "start_time": "2022-02-10T04:20:24.505Z"
   },
   {
    "duration": 237,
    "start_time": "2022-02-10T04:20:46.837Z"
   },
   {
    "duration": 235,
    "start_time": "2022-02-10T04:21:07.515Z"
   },
   {
    "duration": 261,
    "start_time": "2022-02-10T04:21:13.131Z"
   },
   {
    "duration": 226,
    "start_time": "2022-02-10T04:21:32.259Z"
   },
   {
    "duration": 375,
    "start_time": "2022-02-10T04:21:53.356Z"
   },
   {
    "duration": 214,
    "start_time": "2022-02-10T04:22:19.393Z"
   },
   {
    "duration": 227,
    "start_time": "2022-02-10T04:22:34.344Z"
   },
   {
    "duration": 217,
    "start_time": "2022-02-10T04:22:44.692Z"
   },
   {
    "duration": 388,
    "start_time": "2022-02-10T04:22:50.869Z"
   },
   {
    "duration": 398,
    "start_time": "2022-02-10T04:22:57.012Z"
   },
   {
    "duration": 399,
    "start_time": "2022-02-10T04:23:01.633Z"
   },
   {
    "duration": 238,
    "start_time": "2022-02-10T04:23:07.045Z"
   },
   {
    "duration": 215,
    "start_time": "2022-02-10T04:23:21.821Z"
   },
   {
    "duration": 225,
    "start_time": "2022-02-10T04:23:54.800Z"
   },
   {
    "duration": 63,
    "start_time": "2022-02-10T04:24:47.490Z"
   },
   {
    "duration": 248,
    "start_time": "2022-02-10T04:24:51.931Z"
   },
   {
    "duration": 375,
    "start_time": "2022-02-10T04:25:27.832Z"
   },
   {
    "duration": 391,
    "start_time": "2022-02-10T04:25:33.695Z"
   },
   {
    "duration": 392,
    "start_time": "2022-02-10T04:26:40.708Z"
   },
   {
    "duration": 581,
    "start_time": "2022-02-10T04:28:12.244Z"
   },
   {
    "duration": 573,
    "start_time": "2022-02-10T04:28:48.088Z"
   },
   {
    "duration": 319,
    "start_time": "2022-02-10T04:28:54.869Z"
   },
   {
    "duration": 402,
    "start_time": "2022-02-10T04:29:14.491Z"
   },
   {
    "duration": 397,
    "start_time": "2022-02-10T04:29:29.889Z"
   },
   {
    "duration": 395,
    "start_time": "2022-02-10T04:29:51.122Z"
   },
   {
    "duration": 251,
    "start_time": "2022-02-10T08:36:18.647Z"
   },
   {
    "duration": 193,
    "start_time": "2022-02-10T08:36:28.386Z"
   },
   {
    "duration": 1247,
    "start_time": "2022-02-10T08:36:49.698Z"
   },
   {
    "duration": 3018,
    "start_time": "2022-02-10T08:36:58.916Z"
   },
   {
    "duration": 191,
    "start_time": "2022-02-10T08:37:54.394Z"
   },
   {
    "duration": 174,
    "start_time": "2022-02-10T08:38:11.409Z"
   },
   {
    "duration": 186,
    "start_time": "2022-02-10T08:38:22.089Z"
   },
   {
    "duration": 181,
    "start_time": "2022-02-10T08:38:42.576Z"
   },
   {
    "duration": 172,
    "start_time": "2022-02-10T08:38:52.506Z"
   },
   {
    "duration": 186,
    "start_time": "2022-02-10T08:39:01.875Z"
   },
   {
    "duration": 179,
    "start_time": "2022-02-10T08:39:46.257Z"
   },
   {
    "duration": 178,
    "start_time": "2022-02-10T08:40:00.177Z"
   },
   {
    "duration": 172,
    "start_time": "2022-02-10T08:40:04.425Z"
   },
   {
    "duration": 174,
    "start_time": "2022-02-10T08:40:08.393Z"
   },
   {
    "duration": 181,
    "start_time": "2022-02-10T08:40:11.656Z"
   },
   {
    "duration": 175,
    "start_time": "2022-02-10T08:40:18.241Z"
   },
   {
    "duration": 168,
    "start_time": "2022-02-10T08:40:21.136Z"
   },
   {
    "duration": 171,
    "start_time": "2022-02-10T08:40:25.379Z"
   },
   {
    "duration": 176,
    "start_time": "2022-02-10T08:42:16.185Z"
   },
   {
    "duration": 507,
    "start_time": "2022-02-10T08:42:36.473Z"
   },
   {
    "duration": 190,
    "start_time": "2022-02-10T08:42:50.322Z"
   },
   {
    "duration": 170,
    "start_time": "2022-02-10T08:43:12.930Z"
   },
   {
    "duration": 183,
    "start_time": "2022-02-10T08:43:33.313Z"
   },
   {
    "duration": 313,
    "start_time": "2022-02-10T08:44:59.521Z"
   },
   {
    "duration": 325,
    "start_time": "2022-02-10T08:45:08.536Z"
   },
   {
    "duration": 326,
    "start_time": "2022-02-10T08:45:12.393Z"
   },
   {
    "duration": 199,
    "start_time": "2022-02-10T08:45:31.161Z"
   },
   {
    "duration": 192,
    "start_time": "2022-02-10T08:46:03.739Z"
   },
   {
    "duration": 197,
    "start_time": "2022-02-10T08:46:50.748Z"
   },
   {
    "duration": 189,
    "start_time": "2022-02-10T08:47:14.776Z"
   },
   {
    "duration": 182,
    "start_time": "2022-02-10T08:47:24.081Z"
   },
   {
    "duration": 173,
    "start_time": "2022-02-10T08:47:53.705Z"
   },
   {
    "duration": 437,
    "start_time": "2022-02-10T08:51:32.344Z"
   },
   {
    "duration": 433,
    "start_time": "2022-02-10T08:51:52.387Z"
   },
   {
    "duration": 478,
    "start_time": "2022-02-10T08:52:08.394Z"
   },
   {
    "duration": 443,
    "start_time": "2022-02-10T08:52:28.842Z"
   },
   {
    "duration": 452,
    "start_time": "2022-02-10T08:52:39.689Z"
   },
   {
    "duration": 3,
    "start_time": "2022-02-10T18:32:06.738Z"
   },
   {
    "duration": 3,
    "start_time": "2022-02-10T18:32:08.279Z"
   },
   {
    "duration": 5,
    "start_time": "2022-02-10T18:32:14.206Z"
   },
   {
    "duration": 4,
    "start_time": "2022-02-10T18:32:50.546Z"
   },
   {
    "duration": 7,
    "start_time": "2022-02-10T18:34:00.739Z"
   },
   {
    "duration": 5,
    "start_time": "2022-02-10T18:34:23.775Z"
   },
   {
    "duration": 56,
    "start_time": "2022-02-10T18:44:27.838Z"
   },
   {
    "duration": 184,
    "start_time": "2022-02-10T18:44:33.241Z"
   },
   {
    "duration": 107,
    "start_time": "2022-02-10T18:45:58.175Z"
   },
   {
    "duration": 18420,
    "start_time": "2022-02-10T18:46:29.762Z"
   },
   {
    "duration": 3,
    "start_time": "2022-02-10T18:46:48.184Z"
   },
   {
    "duration": 379,
    "start_time": "2022-02-10T18:46:48.189Z"
   },
   {
    "duration": 112,
    "start_time": "2022-02-10T18:46:48.569Z"
   },
   {
    "duration": 79,
    "start_time": "2022-02-10T18:46:48.682Z"
   },
   {
    "duration": 8,
    "start_time": "2022-02-10T18:46:48.763Z"
   },
   {
    "duration": 28,
    "start_time": "2022-02-10T18:46:48.773Z"
   },
   {
    "duration": 23,
    "start_time": "2022-02-10T18:46:48.802Z"
   },
   {
    "duration": 42,
    "start_time": "2022-02-10T18:46:48.827Z"
   },
   {
    "duration": 6,
    "start_time": "2022-02-10T18:46:48.871Z"
   },
   {
    "duration": 81,
    "start_time": "2022-02-10T18:46:48.879Z"
   },
   {
    "duration": 61,
    "start_time": "2022-02-10T18:46:48.961Z"
   },
   {
    "duration": 55,
    "start_time": "2022-02-10T18:46:49.024Z"
   },
   {
    "duration": 19,
    "start_time": "2022-02-10T18:46:49.081Z"
   },
   {
    "duration": 12,
    "start_time": "2022-02-10T18:46:49.102Z"
   },
   {
    "duration": 60,
    "start_time": "2022-02-10T18:46:49.116Z"
   },
   {
    "duration": 14,
    "start_time": "2022-02-10T18:46:49.178Z"
   },
   {
    "duration": 80,
    "start_time": "2022-02-10T18:46:49.196Z"
   },
   {
    "duration": 31,
    "start_time": "2022-02-10T18:46:49.278Z"
   },
   {
    "duration": 51,
    "start_time": "2022-02-10T18:46:49.310Z"
   },
   {
    "duration": 219,
    "start_time": "2022-02-10T18:47:13.188Z"
   },
   {
    "duration": 33,
    "start_time": "2022-02-10T18:50:40.500Z"
   },
   {
    "duration": 330,
    "start_time": "2022-02-10T18:53:44.351Z"
   },
   {
    "duration": 3210,
    "start_time": "2022-02-10T18:54:21.291Z"
   },
   {
    "duration": 3337,
    "start_time": "2022-02-10T18:54:53.937Z"
   },
   {
    "duration": 337,
    "start_time": "2022-02-10T18:56:14.051Z"
   },
   {
    "duration": 334,
    "start_time": "2022-02-10T18:57:59.967Z"
   },
   {
    "duration": 35,
    "start_time": "2022-02-10T18:58:18.583Z"
   },
   {
    "duration": 249,
    "start_time": "2022-02-10T19:05:22.152Z"
   },
   {
    "duration": 254,
    "start_time": "2022-02-10T19:05:35.895Z"
   },
   {
    "duration": 264,
    "start_time": "2022-02-10T19:05:59.429Z"
   },
   {
    "duration": 455,
    "start_time": "2022-02-10T19:12:15.095Z"
   },
   {
    "duration": 433,
    "start_time": "2022-02-10T19:13:08.473Z"
   },
   {
    "duration": 406,
    "start_time": "2022-02-10T19:13:21.655Z"
   },
   {
    "duration": 357,
    "start_time": "2022-02-10T19:13:46.498Z"
   },
   {
    "duration": 359,
    "start_time": "2022-02-10T19:13:57.561Z"
   },
   {
    "duration": 362,
    "start_time": "2022-02-10T19:14:05.459Z"
   },
   {
    "duration": 379,
    "start_time": "2022-02-10T19:14:20.056Z"
   },
   {
    "duration": 347,
    "start_time": "2022-02-10T19:14:27.596Z"
   },
   {
    "duration": 352,
    "start_time": "2022-02-10T19:14:37.679Z"
   },
   {
    "duration": 456,
    "start_time": "2022-02-10T19:15:16.847Z"
   },
   {
    "duration": 498,
    "start_time": "2022-02-10T19:15:25.687Z"
   },
   {
    "duration": 395,
    "start_time": "2022-02-10T19:15:35.930Z"
   },
   {
    "duration": 362,
    "start_time": "2022-02-10T19:15:44.896Z"
   },
   {
    "duration": 441,
    "start_time": "2022-02-10T19:16:56.172Z"
   },
   {
    "duration": 724,
    "start_time": "2022-02-10T19:17:11.251Z"
   },
   {
    "duration": 413,
    "start_time": "2022-02-10T19:17:48.360Z"
   },
   {
    "duration": 273,
    "start_time": "2022-02-10T19:18:34.545Z"
   },
   {
    "duration": 205,
    "start_time": "2022-02-11T03:36:19.864Z"
   },
   {
    "duration": 222,
    "start_time": "2022-02-11T03:36:37.054Z"
   },
   {
    "duration": 203,
    "start_time": "2022-02-11T03:36:55.105Z"
   },
   {
    "duration": 2918,
    "start_time": "2022-02-11T03:38:46.773Z"
   },
   {
    "duration": 1423,
    "start_time": "2022-02-11T03:39:27.351Z"
   },
   {
    "duration": 268,
    "start_time": "2022-02-11T03:40:35.068Z"
   },
   {
    "duration": 19182,
    "start_time": "2022-02-11T03:40:42.213Z"
   },
   {
    "duration": 336,
    "start_time": "2022-02-11T03:42:27.077Z"
   },
   {
    "duration": 334,
    "start_time": "2022-02-11T03:42:39.795Z"
   },
   {
    "duration": 390,
    "start_time": "2022-02-11T03:43:07.033Z"
   },
   {
    "duration": 226,
    "start_time": "2022-02-11T03:44:07.433Z"
   },
   {
    "duration": 1483,
    "start_time": "2022-02-11T03:45:00.167Z"
   },
   {
    "duration": 1421,
    "start_time": "2022-02-11T03:46:02.163Z"
   },
   {
    "duration": 1442,
    "start_time": "2022-02-11T03:46:18.439Z"
   },
   {
    "duration": 1472,
    "start_time": "2022-02-11T03:46:36.405Z"
   },
   {
    "duration": 367,
    "start_time": "2022-02-11T03:46:45.045Z"
   },
   {
    "duration": 1489,
    "start_time": "2022-02-11T03:47:53.444Z"
   },
   {
    "duration": 1520,
    "start_time": "2022-02-11T03:48:51.019Z"
   },
   {
    "duration": 75,
    "start_time": "2022-02-11T03:52:04.004Z"
   },
   {
    "duration": 34,
    "start_time": "2022-02-11T03:53:42.793Z"
   },
   {
    "duration": 36,
    "start_time": "2022-02-11T03:54:11.388Z"
   },
   {
    "duration": 60,
    "start_time": "2022-02-11T03:54:32.351Z"
   },
   {
    "duration": 64,
    "start_time": "2022-02-11T03:54:45.883Z"
   },
   {
    "duration": 3,
    "start_time": "2022-02-11T03:59:03.242Z"
   },
   {
    "duration": 394,
    "start_time": "2022-02-11T03:59:03.247Z"
   },
   {
    "duration": 116,
    "start_time": "2022-02-11T03:59:03.643Z"
   },
   {
    "duration": 60,
    "start_time": "2022-02-11T03:59:03.761Z"
   },
   {
    "duration": 9,
    "start_time": "2022-02-11T03:59:03.823Z"
   },
   {
    "duration": 31,
    "start_time": "2022-02-11T03:59:03.833Z"
   },
   {
    "duration": 16,
    "start_time": "2022-02-11T03:59:03.866Z"
   },
   {
    "duration": 31,
    "start_time": "2022-02-11T03:59:03.884Z"
   },
   {
    "duration": 42,
    "start_time": "2022-02-11T03:59:03.917Z"
   },
   {
    "duration": 58,
    "start_time": "2022-02-11T03:59:03.961Z"
   },
   {
    "duration": 92,
    "start_time": "2022-02-11T03:59:04.021Z"
   },
   {
    "duration": 54,
    "start_time": "2022-02-11T03:59:04.115Z"
   },
   {
    "duration": 16,
    "start_time": "2022-02-11T03:59:04.170Z"
   },
   {
    "duration": 10,
    "start_time": "2022-02-11T03:59:04.187Z"
   },
   {
    "duration": 21,
    "start_time": "2022-02-11T03:59:04.198Z"
   },
   {
    "duration": 48,
    "start_time": "2022-02-11T03:59:04.220Z"
   },
   {
    "duration": 1531,
    "start_time": "2022-02-11T03:59:04.270Z"
   },
   {
    "duration": 1483,
    "start_time": "2022-02-11T03:59:05.803Z"
   },
   {
    "duration": 247,
    "start_time": "2022-02-11T03:59:07.291Z"
   },
   {
    "duration": 43,
    "start_time": "2022-02-11T03:59:07.541Z"
   },
   {
    "duration": 17,
    "start_time": "2022-02-11T03:59:07.586Z"
   },
   {
    "duration": 224,
    "start_time": "2022-02-11T03:59:07.605Z"
   },
   {
    "duration": 55,
    "start_time": "2022-02-11T03:59:07.831Z"
   },
   {
    "duration": 1263,
    "start_time": "2022-02-11T03:59:07.888Z"
   },
   {
    "duration": 463,
    "start_time": "2022-02-11T03:59:09.152Z"
   },
   {
    "duration": 466,
    "start_time": "2022-02-11T03:59:09.617Z"
   },
   {
    "duration": 686,
    "start_time": "2022-02-11T03:59:10.085Z"
   },
   {
    "duration": 301,
    "start_time": "2022-02-11T03:59:10.773Z"
   },
   {
    "duration": 394,
    "start_time": "2022-02-11T03:59:11.076Z"
   },
   {
    "duration": 375,
    "start_time": "2022-02-11T03:59:11.472Z"
   },
   {
    "duration": 68,
    "start_time": "2022-02-11T03:59:11.849Z"
   },
   {
    "duration": 66,
    "start_time": "2022-02-11T04:01:29.470Z"
   },
   {
    "duration": 65,
    "start_time": "2022-02-11T04:01:42.908Z"
   },
   {
    "duration": 192,
    "start_time": "2022-02-11T04:03:38.787Z"
   },
   {
    "duration": 344,
    "start_time": "2022-02-11T04:04:51.988Z"
   },
   {
    "duration": 313,
    "start_time": "2022-02-11T04:05:45.068Z"
   },
   {
    "duration": 307,
    "start_time": "2022-02-11T04:06:09.325Z"
   },
   {
    "duration": 1379,
    "start_time": "2022-02-11T04:06:41.815Z"
   },
   {
    "duration": 1265,
    "start_time": "2022-02-11T04:06:48.976Z"
   },
   {
    "duration": 1323,
    "start_time": "2022-02-11T04:07:12.831Z"
   },
   {
    "duration": 61,
    "start_time": "2022-02-11T04:07:47.452Z"
   },
   {
    "duration": 213,
    "start_time": "2022-02-11T04:07:53.096Z"
   },
   {
    "duration": 226,
    "start_time": "2022-02-11T04:08:06.216Z"
   },
   {
    "duration": 1269,
    "start_time": "2022-02-11T04:08:18.350Z"
   },
   {
    "duration": 219,
    "start_time": "2022-02-11T04:09:13.458Z"
   },
   {
    "duration": 204,
    "start_time": "2022-02-11T04:09:45.795Z"
   },
   {
    "duration": 224,
    "start_time": "2022-02-11T04:10:34.236Z"
   },
   {
    "duration": 668,
    "start_time": "2022-02-11T04:11:34.182Z"
   },
   {
    "duration": 216,
    "start_time": "2022-02-11T04:11:45.284Z"
   },
   {
    "duration": 3,
    "start_time": "2022-02-11T04:11:51.118Z"
   },
   {
    "duration": 416,
    "start_time": "2022-02-11T04:11:51.123Z"
   },
   {
    "duration": 121,
    "start_time": "2022-02-11T04:11:51.541Z"
   },
   {
    "duration": 62,
    "start_time": "2022-02-11T04:11:51.664Z"
   },
   {
    "duration": 8,
    "start_time": "2022-02-11T04:11:51.728Z"
   },
   {
    "duration": 28,
    "start_time": "2022-02-11T04:11:51.738Z"
   },
   {
    "duration": 19,
    "start_time": "2022-02-11T04:11:51.768Z"
   },
   {
    "duration": 32,
    "start_time": "2022-02-11T04:11:51.789Z"
   },
   {
    "duration": 40,
    "start_time": "2022-02-11T04:11:51.823Z"
   },
   {
    "duration": 60,
    "start_time": "2022-02-11T04:11:51.865Z"
   },
   {
    "duration": 78,
    "start_time": "2022-02-11T04:11:51.926Z"
   },
   {
    "duration": 56,
    "start_time": "2022-02-11T04:11:52.006Z"
   },
   {
    "duration": 16,
    "start_time": "2022-02-11T04:11:52.064Z"
   },
   {
    "duration": 10,
    "start_time": "2022-02-11T04:11:52.082Z"
   },
   {
    "duration": 19,
    "start_time": "2022-02-11T04:11:52.094Z"
   },
   {
    "duration": 53,
    "start_time": "2022-02-11T04:11:52.115Z"
   },
   {
    "duration": 1353,
    "start_time": "2022-02-11T04:11:52.170Z"
   },
   {
    "duration": 1288,
    "start_time": "2022-02-11T04:11:53.525Z"
   },
   {
    "duration": 327,
    "start_time": "2022-02-11T04:11:54.816Z"
   },
   {
    "duration": 266,
    "start_time": "2022-02-11T04:11:58.107Z"
   },
   {
    "duration": 504,
    "start_time": "2022-02-11T04:12:56.827Z"
   },
   {
    "duration": 495,
    "start_time": "2022-02-11T04:13:57.280Z"
   },
   {
    "duration": 519,
    "start_time": "2022-02-11T04:14:22.181Z"
   },
   {
    "duration": 57,
    "start_time": "2022-02-11T04:14:36.144Z"
   },
   {
    "duration": 583,
    "start_time": "2022-02-11T04:14:40.241Z"
   },
   {
    "duration": 577,
    "start_time": "2022-02-11T04:14:57.530Z"
   },
   {
    "duration": 574,
    "start_time": "2022-02-11T04:15:08.392Z"
   },
   {
    "duration": 252,
    "start_time": "2022-02-11T04:22:50.681Z"
   },
   {
    "duration": 1042,
    "start_time": "2022-02-14T03:21:15.435Z"
   },
   {
    "duration": 347,
    "start_time": "2022-02-14T03:21:16.479Z"
   },
   {
    "duration": 102,
    "start_time": "2022-02-14T03:21:16.829Z"
   },
   {
    "duration": 62,
    "start_time": "2022-02-14T03:21:16.932Z"
   },
   {
    "duration": 8,
    "start_time": "2022-02-14T03:21:16.996Z"
   },
   {
    "duration": 24,
    "start_time": "2022-02-14T03:21:17.006Z"
   },
   {
    "duration": 14,
    "start_time": "2022-02-14T03:21:17.032Z"
   },
   {
    "duration": 34,
    "start_time": "2022-02-14T03:21:17.048Z"
   },
   {
    "duration": 6,
    "start_time": "2022-02-14T03:21:17.084Z"
   },
   {
    "duration": 87,
    "start_time": "2022-02-14T03:21:17.091Z"
   },
   {
    "duration": 76,
    "start_time": "2022-02-14T03:21:17.180Z"
   },
   {
    "duration": 23,
    "start_time": "2022-02-14T03:21:17.257Z"
   },
   {
    "duration": 17,
    "start_time": "2022-02-14T03:21:17.282Z"
   },
   {
    "duration": 39,
    "start_time": "2022-02-14T03:21:17.300Z"
   },
   {
    "duration": 20,
    "start_time": "2022-02-14T03:21:17.341Z"
   },
   {
    "duration": 12,
    "start_time": "2022-02-14T03:21:17.363Z"
   },
   {
    "duration": 549,
    "start_time": "2022-02-14T03:21:17.376Z"
   },
   {
    "duration": 484,
    "start_time": "2022-02-14T03:21:17.930Z"
   },
   {
    "duration": 481,
    "start_time": "2022-02-14T03:21:18.416Z"
   },
   {
    "duration": 542,
    "start_time": "2022-02-14T03:21:18.899Z"
   },
   {
    "duration": 14,
    "start_time": "2022-02-14T03:21:19.442Z"
   },
   {
    "duration": 212,
    "start_time": "2022-02-14T03:21:19.457Z"
   },
   {
    "duration": 35,
    "start_time": "2022-02-14T03:21:19.672Z"
   },
   {
    "duration": 1050,
    "start_time": "2022-02-14T03:21:19.709Z"
   },
   {
    "duration": 272,
    "start_time": "2022-02-14T03:21:20.760Z"
   },
   {
    "duration": 5641,
    "start_time": "2022-02-14T03:21:15.393Z"
   },
   {
    "duration": 5636,
    "start_time": "2022-02-14T03:21:15.399Z"
   },
   {
    "duration": 5631,
    "start_time": "2022-02-14T03:21:15.405Z"
   },
   {
    "duration": 5627,
    "start_time": "2022-02-14T03:21:15.410Z"
   },
   {
    "duration": 5527,
    "start_time": "2022-02-14T03:21:15.511Z"
   },
   {
    "duration": 5496,
    "start_time": "2022-02-14T03:21:15.543Z"
   },
   {
    "duration": 1181,
    "start_time": "2022-02-14T03:26:02.324Z"
   },
   {
    "duration": 400,
    "start_time": "2022-02-14T03:26:16.556Z"
   },
   {
    "duration": 407,
    "start_time": "2022-02-14T03:26:42.764Z"
   },
   {
    "duration": 423,
    "start_time": "2022-02-14T03:26:43.172Z"
   },
   {
    "duration": 681,
    "start_time": "2022-02-14T03:26:43.597Z"
   },
   {
    "duration": 266,
    "start_time": "2022-02-14T03:26:44.280Z"
   },
   {
    "duration": 353,
    "start_time": "2022-02-14T03:26:44.548Z"
   },
   {
    "duration": 338,
    "start_time": "2022-02-14T03:26:44.903Z"
   },
   {
    "duration": 62,
    "start_time": "2022-02-14T03:26:45.243Z"
   },
   {
    "duration": 63,
    "start_time": "2022-02-14T04:03:06.435Z"
   },
   {
    "duration": 1427,
    "start_time": "2022-02-14T04:03:11.066Z"
   },
   {
    "duration": 54,
    "start_time": "2022-02-14T04:03:21.580Z"
   },
   {
    "duration": 781,
    "start_time": "2022-02-14T04:03:25.217Z"
   },
   {
    "duration": 590,
    "start_time": "2022-02-14T04:03:41.773Z"
   },
   {
    "duration": 494,
    "start_time": "2022-02-14T04:03:56.861Z"
   },
   {
    "duration": 59,
    "start_time": "2022-02-14T04:08:57.958Z"
   },
   {
    "duration": 454,
    "start_time": "2022-02-14T04:09:57.430Z"
   },
   {
    "duration": 441,
    "start_time": "2022-02-14T04:11:33.676Z"
   },
   {
    "duration": 365,
    "start_time": "2022-02-15T04:08:00.039Z"
   },
   {
    "duration": 1160,
    "start_time": "2022-02-15T04:08:09.796Z"
   },
   {
    "duration": 387,
    "start_time": "2022-02-15T04:08:10.958Z"
   },
   {
    "duration": 80,
    "start_time": "2022-02-15T04:08:11.347Z"
   },
   {
    "duration": 60,
    "start_time": "2022-02-15T04:08:11.429Z"
   },
   {
    "duration": 9,
    "start_time": "2022-02-15T04:08:11.490Z"
   },
   {
    "duration": 26,
    "start_time": "2022-02-15T04:08:11.501Z"
   },
   {
    "duration": 15,
    "start_time": "2022-02-15T04:08:11.529Z"
   },
   {
    "duration": 33,
    "start_time": "2022-02-15T04:08:11.547Z"
   },
   {
    "duration": 5,
    "start_time": "2022-02-15T04:08:11.583Z"
   },
   {
    "duration": 90,
    "start_time": "2022-02-15T04:08:11.590Z"
   },
   {
    "duration": 73,
    "start_time": "2022-02-15T04:08:11.682Z"
   },
   {
    "duration": 21,
    "start_time": "2022-02-15T04:08:11.757Z"
   },
   {
    "duration": 16,
    "start_time": "2022-02-15T04:08:11.779Z"
   },
   {
    "duration": 40,
    "start_time": "2022-02-15T04:08:11.796Z"
   },
   {
    "duration": 21,
    "start_time": "2022-02-15T04:08:11.837Z"
   },
   {
    "duration": 12,
    "start_time": "2022-02-15T04:08:11.859Z"
   },
   {
    "duration": 525,
    "start_time": "2022-02-15T04:08:11.872Z"
   },
   {
    "duration": 501,
    "start_time": "2022-02-15T04:08:12.399Z"
   },
   {
    "duration": 461,
    "start_time": "2022-02-15T04:08:12.902Z"
   },
   {
    "duration": 520,
    "start_time": "2022-02-15T04:08:13.364Z"
   },
   {
    "duration": 13,
    "start_time": "2022-02-15T04:08:13.885Z"
   },
   {
    "duration": 214,
    "start_time": "2022-02-15T04:08:13.899Z"
   },
   {
    "duration": 40,
    "start_time": "2022-02-15T04:08:14.117Z"
   },
   {
    "duration": 416,
    "start_time": "2022-02-15T04:08:14.159Z"
   },
   {
    "duration": 7776,
    "start_time": "2022-02-15T04:08:06.800Z"
   },
   {
    "duration": 7771,
    "start_time": "2022-02-15T04:08:06.806Z"
   },
   {
    "duration": 7765,
    "start_time": "2022-02-15T04:08:06.813Z"
   },
   {
    "duration": 7760,
    "start_time": "2022-02-15T04:08:06.819Z"
   },
   {
    "duration": 7755,
    "start_time": "2022-02-15T04:08:06.825Z"
   },
   {
    "duration": 7749,
    "start_time": "2022-02-15T04:08:06.832Z"
   },
   {
    "duration": 7743,
    "start_time": "2022-02-15T04:08:06.839Z"
   },
   {
    "duration": 7738,
    "start_time": "2022-02-15T04:08:06.845Z"
   },
   {
    "duration": 309,
    "start_time": "2022-02-15T04:08:52.478Z"
   },
   {
    "duration": 962,
    "start_time": "2022-02-15T04:09:02.111Z"
   },
   {
    "duration": 5,
    "start_time": "2022-02-15T04:09:18.862Z"
   },
   {
    "duration": 60,
    "start_time": "2022-02-15T04:12:19.523Z"
   },
   {
    "duration": 66,
    "start_time": "2022-02-15T04:12:52.079Z"
   },
   {
    "duration": 1257,
    "start_time": "2022-02-15T04:18:47.496Z"
   },
   {
    "duration": 395,
    "start_time": "2022-02-15T04:18:48.755Z"
   },
   {
    "duration": 392,
    "start_time": "2022-02-15T04:18:49.151Z"
   },
   {
    "duration": 601,
    "start_time": "2022-02-15T04:18:49.545Z"
   },
   {
    "duration": 342,
    "start_time": "2022-02-15T04:18:50.147Z"
   },
   {
    "duration": 314,
    "start_time": "2022-02-15T04:18:50.490Z"
   },
   {
    "duration": 301,
    "start_time": "2022-02-15T04:18:50.806Z"
   },
   {
    "duration": 68,
    "start_time": "2022-02-15T04:18:51.109Z"
   },
   {
    "duration": 4,
    "start_time": "2022-02-15T04:18:51.178Z"
   },
   {
    "duration": 6,
    "start_time": "2022-02-15T04:22:24.429Z"
   },
   {
    "duration": 8,
    "start_time": "2022-02-15T04:23:17.454Z"
   },
   {
    "duration": 1122,
    "start_time": "2022-02-16T03:28:09.133Z"
   },
   {
    "duration": 455,
    "start_time": "2022-02-16T03:28:10.257Z"
   },
   {
    "duration": 96,
    "start_time": "2022-02-16T03:28:10.714Z"
   },
   {
    "duration": 87,
    "start_time": "2022-02-16T03:28:10.812Z"
   },
   {
    "duration": 9,
    "start_time": "2022-02-16T03:28:10.901Z"
   },
   {
    "duration": 17,
    "start_time": "2022-02-16T03:28:10.911Z"
   },
   {
    "duration": 35,
    "start_time": "2022-02-16T03:28:10.929Z"
   },
   {
    "duration": 41,
    "start_time": "2022-02-16T03:28:10.970Z"
   },
   {
    "duration": 13,
    "start_time": "2022-02-16T03:28:11.014Z"
   },
   {
    "duration": 91,
    "start_time": "2022-02-16T03:28:11.029Z"
   },
   {
    "duration": 89,
    "start_time": "2022-02-16T03:28:11.122Z"
   },
   {
    "duration": 57,
    "start_time": "2022-02-16T03:28:11.213Z"
   },
   {
    "duration": 19,
    "start_time": "2022-02-16T03:28:11.273Z"
   },
   {
    "duration": 12,
    "start_time": "2022-02-16T03:28:11.294Z"
   },
   {
    "duration": 25,
    "start_time": "2022-02-16T03:28:11.308Z"
   },
   {
    "duration": 46,
    "start_time": "2022-02-16T03:28:11.335Z"
   },
   {
    "duration": 658,
    "start_time": "2022-02-16T03:28:11.383Z"
   },
   {
    "duration": 592,
    "start_time": "2022-02-16T03:28:12.044Z"
   },
   {
    "duration": 585,
    "start_time": "2022-02-16T03:28:12.638Z"
   },
   {
    "duration": 657,
    "start_time": "2022-02-16T03:28:13.225Z"
   },
   {
    "duration": 17,
    "start_time": "2022-02-16T03:28:13.884Z"
   },
   {
    "duration": 239,
    "start_time": "2022-02-16T03:28:13.903Z"
   },
   {
    "duration": 55,
    "start_time": "2022-02-16T03:28:14.146Z"
   },
   {
    "duration": 1321,
    "start_time": "2022-02-16T03:28:14.203Z"
   },
   {
    "duration": 516,
    "start_time": "2022-02-16T03:28:15.526Z"
   },
   {
    "duration": 592,
    "start_time": "2022-02-16T03:28:16.044Z"
   },
   {
    "duration": 789,
    "start_time": "2022-02-16T03:28:16.638Z"
   },
   {
    "duration": 308,
    "start_time": "2022-02-16T03:28:17.428Z"
   },
   {
    "duration": 419,
    "start_time": "2022-02-16T03:28:17.738Z"
   },
   {
    "duration": 385,
    "start_time": "2022-02-16T03:28:18.159Z"
   },
   {
    "duration": 88,
    "start_time": "2022-02-16T03:28:18.546Z"
   },
   {
    "duration": 6,
    "start_time": "2022-02-16T03:28:18.636Z"
   },
   {
    "duration": 27,
    "start_time": "2022-02-16T03:28:18.644Z"
   },
   {
    "duration": 538,
    "start_time": "2022-02-16T03:30:35.689Z"
   },
   {
    "duration": 1420,
    "start_time": "2022-02-16T03:33:45.745Z"
   },
   {
    "duration": 1310,
    "start_time": "2022-02-16T03:34:13.229Z"
   },
   {
    "duration": 514,
    "start_time": "2022-02-16T03:36:29.361Z"
   },
   {
    "duration": 1423,
    "start_time": "2022-02-16T04:07:06.955Z"
   },
   {
    "duration": 81,
    "start_time": "2022-02-16T04:10:35.801Z"
   },
   {
    "duration": 6,
    "start_time": "2022-02-16T04:11:50.916Z"
   },
   {
    "duration": 33,
    "start_time": "2022-02-16T04:14:37.232Z"
   },
   {
    "duration": 30,
    "start_time": "2022-02-16T04:15:21.479Z"
   },
   {
    "duration": 54,
    "start_time": "2022-02-16T04:15:38.365Z"
   },
   {
    "duration": 59,
    "start_time": "2022-02-16T04:16:29.377Z"
   },
   {
    "duration": 39,
    "start_time": "2022-02-16T04:19:54.613Z"
   },
   {
    "duration": 18,
    "start_time": "2022-02-16T04:20:06.360Z"
   },
   {
    "duration": 19,
    "start_time": "2022-02-16T04:21:42.966Z"
   },
   {
    "duration": 23,
    "start_time": "2022-02-16T04:21:53.429Z"
   },
   {
    "duration": 20,
    "start_time": "2022-02-16T04:22:12.567Z"
   },
   {
    "duration": 7485,
    "start_time": "2022-02-16T04:23:09.537Z"
   },
   {
    "duration": 26,
    "start_time": "2022-02-16T04:23:46.497Z"
   },
   {
    "duration": 20,
    "start_time": "2022-02-16T04:25:55.518Z"
   },
   {
    "duration": 5,
    "start_time": "2022-02-16T04:26:07.720Z"
   },
   {
    "duration": 1526,
    "start_time": "2022-02-17T03:28:16.102Z"
   },
   {
    "duration": 545,
    "start_time": "2022-02-17T03:28:17.630Z"
   },
   {
    "duration": 158,
    "start_time": "2022-02-17T03:28:18.178Z"
   },
   {
    "duration": 119,
    "start_time": "2022-02-17T03:28:18.339Z"
   },
   {
    "duration": 14,
    "start_time": "2022-02-17T03:28:18.470Z"
   },
   {
    "duration": 12,
    "start_time": "2022-02-17T03:28:18.486Z"
   },
   {
    "duration": 23,
    "start_time": "2022-02-17T03:28:18.501Z"
   },
   {
    "duration": 92,
    "start_time": "2022-02-17T03:28:18.528Z"
   },
   {
    "duration": 9,
    "start_time": "2022-02-17T03:28:18.623Z"
   },
   {
    "duration": 134,
    "start_time": "2022-02-17T03:28:18.635Z"
   },
   {
    "duration": 123,
    "start_time": "2022-02-17T03:28:18.772Z"
   },
   {
    "duration": 72,
    "start_time": "2022-02-17T03:28:18.898Z"
   },
   {
    "duration": 28,
    "start_time": "2022-02-17T03:28:18.972Z"
   },
   {
    "duration": 16,
    "start_time": "2022-02-17T03:28:19.002Z"
   },
   {
    "duration": 68,
    "start_time": "2022-02-17T03:28:19.020Z"
   },
   {
    "duration": 19,
    "start_time": "2022-02-17T03:28:19.091Z"
   },
   {
    "duration": 974,
    "start_time": "2022-02-17T03:28:19.112Z"
   },
   {
    "duration": 1014,
    "start_time": "2022-02-17T03:28:20.089Z"
   },
   {
    "duration": 938,
    "start_time": "2022-02-17T03:28:21.106Z"
   },
   {
    "duration": 1332,
    "start_time": "2022-02-17T03:28:22.047Z"
   },
   {
    "duration": 25,
    "start_time": "2022-02-17T03:28:23.382Z"
   },
   {
    "duration": 625,
    "start_time": "2022-02-17T03:28:23.411Z"
   },
   {
    "duration": 103,
    "start_time": "2022-02-17T03:28:24.043Z"
   },
   {
    "duration": 3348,
    "start_time": "2022-02-17T03:28:24.150Z"
   },
   {
    "duration": 779,
    "start_time": "2022-02-17T03:28:27.502Z"
   },
   {
    "duration": 859,
    "start_time": "2022-02-17T03:28:28.285Z"
   },
   {
    "duration": 1002,
    "start_time": "2022-02-17T03:28:29.147Z"
   },
   {
    "duration": 462,
    "start_time": "2022-02-17T03:28:30.151Z"
   },
   {
    "duration": 759,
    "start_time": "2022-02-17T03:28:30.615Z"
   },
   {
    "duration": 620,
    "start_time": "2022-02-17T03:28:31.376Z"
   },
   {
    "duration": 146,
    "start_time": "2022-02-17T03:28:31.999Z"
   },
   {
    "duration": 22,
    "start_time": "2022-02-17T03:28:32.148Z"
   },
   {
    "duration": 37,
    "start_time": "2022-02-17T03:28:32.172Z"
   },
   {
    "duration": 6,
    "start_time": "2022-02-17T03:28:32.212Z"
   },
   {
    "duration": 454,
    "start_time": "2022-02-17T03:32:54.133Z"
   },
   {
    "duration": 440,
    "start_time": "2022-02-17T03:34:43.238Z"
   },
   {
    "duration": 446,
    "start_time": "2022-02-17T03:42:43.274Z"
   },
   {
    "duration": 16,
    "start_time": "2022-02-17T04:12:16.330Z"
   },
   {
    "duration": 15,
    "start_time": "2022-02-17T04:13:09.416Z"
   },
   {
    "duration": 1109,
    "start_time": "2022-02-17T18:41:19.115Z"
   },
   {
    "duration": 388,
    "start_time": "2022-02-17T18:41:20.225Z"
   },
   {
    "duration": 117,
    "start_time": "2022-02-17T18:41:20.614Z"
   },
   {
    "duration": 68,
    "start_time": "2022-02-17T18:41:20.733Z"
   },
   {
    "duration": 23,
    "start_time": "2022-02-17T18:41:20.803Z"
   },
   {
    "duration": 11,
    "start_time": "2022-02-17T18:41:20.828Z"
   },
   {
    "duration": 18,
    "start_time": "2022-02-17T18:41:20.841Z"
   },
   {
    "duration": 69,
    "start_time": "2022-02-17T18:41:20.861Z"
   },
   {
    "duration": 7,
    "start_time": "2022-02-17T18:41:20.932Z"
   },
   {
    "duration": 80,
    "start_time": "2022-02-17T18:41:20.940Z"
   },
   {
    "duration": 65,
    "start_time": "2022-02-17T18:41:21.022Z"
   },
   {
    "duration": 53,
    "start_time": "2022-02-17T18:41:21.089Z"
   },
   {
    "duration": 17,
    "start_time": "2022-02-17T18:41:21.143Z"
   },
   {
    "duration": 11,
    "start_time": "2022-02-17T18:41:21.161Z"
   },
   {
    "duration": 51,
    "start_time": "2022-02-17T18:41:21.173Z"
   },
   {
    "duration": 12,
    "start_time": "2022-02-17T18:41:21.226Z"
   },
   {
    "duration": 624,
    "start_time": "2022-02-17T18:41:21.240Z"
   },
   {
    "duration": 581,
    "start_time": "2022-02-17T18:41:21.865Z"
   },
   {
    "duration": 592,
    "start_time": "2022-02-17T18:41:22.448Z"
   },
   {
    "duration": 665,
    "start_time": "2022-02-17T18:41:23.042Z"
   },
   {
    "duration": 28,
    "start_time": "2022-02-17T18:41:23.709Z"
   },
   {
    "duration": 238,
    "start_time": "2022-02-17T18:41:23.739Z"
   },
   {
    "duration": 51,
    "start_time": "2022-02-17T18:41:23.979Z"
   },
   {
    "duration": 1291,
    "start_time": "2022-02-17T18:41:24.032Z"
   },
   {
    "duration": 485,
    "start_time": "2022-02-17T18:41:25.324Z"
   },
   {
    "duration": 588,
    "start_time": "2022-02-17T18:41:25.811Z"
   },
   {
    "duration": 771,
    "start_time": "2022-02-17T18:41:26.401Z"
   },
   {
    "duration": 311,
    "start_time": "2022-02-17T18:41:27.173Z"
   },
   {
    "duration": 407,
    "start_time": "2022-02-17T18:41:27.486Z"
   },
   {
    "duration": 379,
    "start_time": "2022-02-17T18:41:27.894Z"
   },
   {
    "duration": 302,
    "start_time": "2022-02-17T18:41:28.274Z"
   },
   {
    "duration": 84,
    "start_time": "2022-02-17T18:41:28.577Z"
   },
   {
    "duration": 6,
    "start_time": "2022-02-17T18:41:28.663Z"
   },
   {
    "duration": 24,
    "start_time": "2022-02-17T18:41:28.670Z"
   },
   {
    "duration": 26,
    "start_time": "2022-02-17T18:41:28.695Z"
   },
   {
    "duration": 92,
    "start_time": "2022-02-26T22:16:06.854Z"
   },
   {
    "duration": 210,
    "start_time": "2022-02-27T07:20:42.312Z"
   },
   {
    "duration": 1137,
    "start_time": "2022-02-27T07:20:49.542Z"
   },
   {
    "duration": 409,
    "start_time": "2022-02-27T07:20:50.683Z"
   },
   {
    "duration": 91,
    "start_time": "2022-02-27T07:20:51.094Z"
   },
   {
    "duration": 87,
    "start_time": "2022-02-27T07:20:51.186Z"
   },
   {
    "duration": 9,
    "start_time": "2022-02-27T07:20:51.275Z"
   },
   {
    "duration": 20,
    "start_time": "2022-02-27T07:20:51.285Z"
   },
   {
    "duration": 32,
    "start_time": "2022-02-27T07:20:51.306Z"
   },
   {
    "duration": 38,
    "start_time": "2022-02-27T07:20:51.341Z"
   },
   {
    "duration": 5,
    "start_time": "2022-02-27T07:20:51.381Z"
   },
   {
    "duration": 88,
    "start_time": "2022-02-27T07:20:51.388Z"
   },
   {
    "duration": 91,
    "start_time": "2022-02-27T07:20:51.477Z"
   },
   {
    "duration": 25,
    "start_time": "2022-02-27T07:20:51.569Z"
   },
   {
    "duration": 46,
    "start_time": "2022-02-27T07:20:51.595Z"
   },
   {
    "duration": 16,
    "start_time": "2022-02-27T07:20:51.643Z"
   },
   {
    "duration": 23,
    "start_time": "2022-02-27T07:20:51.661Z"
   },
   {
    "duration": 14,
    "start_time": "2022-02-27T07:20:51.686Z"
   },
   {
    "duration": 638,
    "start_time": "2022-02-27T07:20:51.702Z"
   },
   {
    "duration": 568,
    "start_time": "2022-02-27T07:20:52.342Z"
   },
   {
    "duration": 550,
    "start_time": "2022-02-27T07:20:52.912Z"
   },
   {
    "duration": 638,
    "start_time": "2022-02-27T07:20:53.464Z"
   },
   {
    "duration": 14,
    "start_time": "2022-02-27T07:20:54.103Z"
   },
   {
    "duration": 226,
    "start_time": "2022-02-27T07:20:54.119Z"
   },
   {
    "duration": 508,
    "start_time": "2022-02-27T07:20:54.348Z"
   },
   {
    "duration": 41,
    "start_time": "2022-02-27T07:20:54.857Z"
   },
   {
    "duration": 1194,
    "start_time": "2022-02-27T07:20:54.900Z"
   },
   {
    "duration": 550,
    "start_time": "2022-02-27T07:20:56.095Z"
   },
   {
    "duration": 452,
    "start_time": "2022-02-27T07:20:56.647Z"
   },
   {
    "duration": 692,
    "start_time": "2022-02-27T07:20:57.101Z"
   },
   {
    "duration": 284,
    "start_time": "2022-02-27T07:20:57.796Z"
   },
   {
    "duration": 376,
    "start_time": "2022-02-27T07:20:58.083Z"
   },
   {
    "duration": 362,
    "start_time": "2022-02-27T07:20:58.461Z"
   },
   {
    "duration": 270,
    "start_time": "2022-02-27T07:20:58.825Z"
   },
   {
    "duration": 87,
    "start_time": "2022-02-27T07:20:59.097Z"
   },
   {
    "duration": 6,
    "start_time": "2022-02-27T07:20:59.186Z"
   },
   {
    "duration": 22,
    "start_time": "2022-02-27T07:20:59.193Z"
   },
   {
    "duration": 23,
    "start_time": "2022-02-27T07:20:59.217Z"
   },
   {
    "duration": 20,
    "start_time": "2022-02-27T08:09:29.580Z"
   },
   {
    "duration": 17,
    "start_time": "2022-02-27T08:09:45.557Z"
   },
   {
    "duration": 3,
    "start_time": "2022-02-27T08:11:47.407Z"
   },
   {
    "duration": 356,
    "start_time": "2022-02-27T08:11:47.415Z"
   },
   {
    "duration": 95,
    "start_time": "2022-02-27T08:11:47.773Z"
   },
   {
    "duration": 79,
    "start_time": "2022-02-27T08:11:47.870Z"
   },
   {
    "duration": 10,
    "start_time": "2022-02-27T08:11:47.951Z"
   },
   {
    "duration": 13,
    "start_time": "2022-02-27T08:11:47.963Z"
   },
   {
    "duration": 18,
    "start_time": "2022-02-27T08:11:47.977Z"
   },
   {
    "duration": 60,
    "start_time": "2022-02-27T08:11:47.997Z"
   },
   {
    "duration": 6,
    "start_time": "2022-02-27T08:11:48.059Z"
   },
   {
    "duration": 78,
    "start_time": "2022-02-27T08:11:48.066Z"
   },
   {
    "duration": 61,
    "start_time": "2022-02-27T08:11:48.146Z"
   },
   {
    "duration": 54,
    "start_time": "2022-02-27T08:11:48.209Z"
   },
   {
    "duration": 19,
    "start_time": "2022-02-27T08:21:01.066Z"
   },
   {
    "duration": 20,
    "start_time": "2022-02-27T08:21:11.314Z"
   },
   {
    "duration": 12,
    "start_time": "2022-02-27T08:25:56.364Z"
   },
   {
    "duration": 21,
    "start_time": "2022-02-27T08:26:17.764Z"
   },
   {
    "duration": 14,
    "start_time": "2022-02-27T08:29:02.595Z"
   },
   {
    "duration": 17,
    "start_time": "2022-02-27T08:36:50.728Z"
   },
   {
    "duration": 37,
    "start_time": "2022-02-27T08:36:59.554Z"
   },
   {
    "duration": 247,
    "start_time": "2022-02-27T08:37:08.166Z"
   },
   {
    "duration": 44,
    "start_time": "2022-02-27T08:37:31.322Z"
   },
   {
    "duration": 19,
    "start_time": "2022-02-27T08:37:36.274Z"
   },
   {
    "duration": 57,
    "start_time": "2022-02-27T08:37:54.512Z"
   },
   {
    "duration": 3,
    "start_time": "2022-02-27T08:38:10.044Z"
   },
   {
    "duration": 393,
    "start_time": "2022-02-27T08:38:10.051Z"
   },
   {
    "duration": 128,
    "start_time": "2022-02-27T08:38:10.446Z"
   },
   {
    "duration": 89,
    "start_time": "2022-02-27T08:38:10.576Z"
   },
   {
    "duration": 10,
    "start_time": "2022-02-27T08:38:10.667Z"
   },
   {
    "duration": 11,
    "start_time": "2022-02-27T08:38:10.678Z"
   },
   {
    "duration": 18,
    "start_time": "2022-02-27T08:38:10.691Z"
   },
   {
    "duration": 61,
    "start_time": "2022-02-27T08:38:10.711Z"
   },
   {
    "duration": 7,
    "start_time": "2022-02-27T08:38:10.774Z"
   },
   {
    "duration": 92,
    "start_time": "2022-02-27T08:38:10.783Z"
   },
   {
    "duration": 83,
    "start_time": "2022-02-27T08:38:10.877Z"
   },
   {
    "duration": 26,
    "start_time": "2022-02-27T08:38:10.962Z"
   },
   {
    "duration": 20,
    "start_time": "2022-02-27T08:38:10.990Z"
   },
   {
    "duration": 14,
    "start_time": "2022-02-27T08:38:11.038Z"
   },
   {
    "duration": 25,
    "start_time": "2022-02-27T08:38:11.054Z"
   },
   {
    "duration": 13,
    "start_time": "2022-02-27T08:38:11.080Z"
   },
   {
    "duration": 626,
    "start_time": "2022-02-27T08:38:11.095Z"
   },
   {
    "duration": 574,
    "start_time": "2022-02-27T08:38:11.723Z"
   },
   {
    "duration": 560,
    "start_time": "2022-02-27T08:38:12.299Z"
   },
   {
    "duration": 539,
    "start_time": "2022-02-27T08:38:12.860Z"
   },
   {
    "duration": 15,
    "start_time": "2022-02-27T08:38:13.400Z"
   },
   {
    "duration": 376,
    "start_time": "2022-02-27T08:38:13.416Z"
   },
   {
    "duration": 511,
    "start_time": "2022-02-27T08:38:13.794Z"
   },
   {
    "duration": 52,
    "start_time": "2022-02-27T08:38:14.308Z"
   },
   {
    "duration": 1219,
    "start_time": "2022-02-27T08:38:14.362Z"
   },
   {
    "duration": 469,
    "start_time": "2022-02-27T08:38:15.582Z"
   },
   {
    "duration": 498,
    "start_time": "2022-02-27T08:38:16.053Z"
   },
   {
    "duration": 707,
    "start_time": "2022-02-27T08:38:16.553Z"
   },
   {
    "duration": 369,
    "start_time": "2022-02-27T08:38:17.262Z"
   },
   {
    "duration": 601,
    "start_time": "2022-02-27T08:38:17.633Z"
   },
   {
    "duration": 366,
    "start_time": "2022-02-27T08:38:18.236Z"
   },
   {
    "duration": 277,
    "start_time": "2022-02-27T08:38:18.604Z"
   },
   {
    "duration": 89,
    "start_time": "2022-02-27T08:38:18.883Z"
   },
   {
    "duration": 6,
    "start_time": "2022-02-27T08:38:18.974Z"
   },
   {
    "duration": 22,
    "start_time": "2022-02-27T08:38:18.981Z"
   },
   {
    "duration": 5,
    "start_time": "2022-02-27T08:38:19.004Z"
   },
   {
    "duration": 83,
    "start_time": "2022-02-27T08:44:34.700Z"
   },
   {
    "duration": 1133,
    "start_time": "2022-02-27T08:46:01.798Z"
   },
   {
    "duration": 398,
    "start_time": "2022-02-27T08:46:02.933Z"
   },
   {
    "duration": 92,
    "start_time": "2022-02-27T08:46:03.334Z"
   },
   {
    "duration": 131,
    "start_time": "2022-02-27T08:46:03.428Z"
   },
   {
    "duration": 8,
    "start_time": "2022-02-27T08:46:03.561Z"
   },
   {
    "duration": 11,
    "start_time": "2022-02-27T08:46:03.570Z"
   },
   {
    "duration": 16,
    "start_time": "2022-02-27T08:46:03.582Z"
   },
   {
    "duration": 57,
    "start_time": "2022-02-27T08:46:03.601Z"
   },
   {
    "duration": 7,
    "start_time": "2022-02-27T08:46:03.660Z"
   },
   {
    "duration": 170,
    "start_time": "2022-02-27T08:46:03.669Z"
   },
   {
    "duration": 71,
    "start_time": "2022-02-27T08:46:03.841Z"
   },
   {
    "duration": 52,
    "start_time": "2022-02-27T08:46:03.914Z"
   },
   {
    "duration": 22,
    "start_time": "2022-02-27T08:46:03.968Z"
   },
   {
    "duration": 50,
    "start_time": "2022-02-27T08:46:03.992Z"
   },
   {
    "duration": 26,
    "start_time": "2022-02-27T08:46:04.045Z"
   },
   {
    "duration": 14,
    "start_time": "2022-02-27T08:46:04.073Z"
   },
   {
    "duration": 650,
    "start_time": "2022-02-27T08:46:04.089Z"
   },
   {
    "duration": 580,
    "start_time": "2022-02-27T08:46:04.741Z"
   },
   {
    "duration": 554,
    "start_time": "2022-02-27T08:46:05.322Z"
   },
   {
    "duration": 640,
    "start_time": "2022-02-27T08:46:05.878Z"
   },
   {
    "duration": 22,
    "start_time": "2022-02-27T08:46:06.520Z"
   },
   {
    "duration": 220,
    "start_time": "2022-02-27T08:46:06.543Z"
   },
   {
    "duration": 532,
    "start_time": "2022-02-27T08:46:06.766Z"
   },
   {
    "duration": 53,
    "start_time": "2022-02-27T08:46:07.300Z"
   },
   {
    "duration": 1229,
    "start_time": "2022-02-27T08:46:07.355Z"
   },
   {
    "duration": 607,
    "start_time": "2022-02-27T08:46:08.586Z"
   },
   {
    "duration": 483,
    "start_time": "2022-02-27T08:46:09.195Z"
   },
   {
    "duration": 748,
    "start_time": "2022-02-27T08:46:09.679Z"
   },
   {
    "duration": 424,
    "start_time": "2022-02-27T08:46:10.429Z"
   },
   {
    "duration": 385,
    "start_time": "2022-02-27T08:46:10.855Z"
   },
   {
    "duration": 382,
    "start_time": "2022-02-27T08:46:11.241Z"
   },
   {
    "duration": 283,
    "start_time": "2022-02-27T08:46:11.625Z"
   },
   {
    "duration": 90,
    "start_time": "2022-02-27T08:46:11.909Z"
   },
   {
    "duration": 6,
    "start_time": "2022-02-27T08:46:12.000Z"
   },
   {
    "duration": 42,
    "start_time": "2022-02-27T08:46:12.007Z"
   },
   {
    "duration": 4,
    "start_time": "2022-02-27T08:46:12.051Z"
   },
   {
    "duration": 1012,
    "start_time": "2022-02-28T03:45:56.843Z"
   },
   {
    "duration": 363,
    "start_time": "2022-02-28T03:45:57.857Z"
   },
   {
    "duration": 79,
    "start_time": "2022-02-28T03:45:58.222Z"
   },
   {
    "duration": 59,
    "start_time": "2022-02-28T03:45:58.303Z"
   },
   {
    "duration": 7,
    "start_time": "2022-02-28T03:45:58.364Z"
   },
   {
    "duration": 7,
    "start_time": "2022-02-28T03:45:58.373Z"
   },
   {
    "duration": 31,
    "start_time": "2022-02-28T03:45:58.382Z"
   },
   {
    "duration": 33,
    "start_time": "2022-02-28T03:45:58.415Z"
   },
   {
    "duration": 5,
    "start_time": "2022-02-28T03:45:58.450Z"
   },
   {
    "duration": 78,
    "start_time": "2022-02-28T03:45:58.457Z"
   },
   {
    "duration": 77,
    "start_time": "2022-02-28T03:45:58.536Z"
   },
   {
    "duration": 23,
    "start_time": "2022-02-28T03:45:58.615Z"
   },
   {
    "duration": 17,
    "start_time": "2022-02-28T03:45:58.640Z"
   },
   {
    "duration": 10,
    "start_time": "2022-02-28T03:45:58.659Z"
   },
   {
    "duration": 21,
    "start_time": "2022-02-28T03:45:58.701Z"
   },
   {
    "duration": 12,
    "start_time": "2022-02-28T03:45:58.723Z"
   },
   {
    "duration": 517,
    "start_time": "2022-02-28T03:45:58.736Z"
   },
   {
    "duration": 503,
    "start_time": "2022-02-28T03:45:59.255Z"
   },
   {
    "duration": 470,
    "start_time": "2022-02-28T03:45:59.759Z"
   },
   {
    "duration": 545,
    "start_time": "2022-02-28T03:46:00.231Z"
   },
   {
    "duration": 14,
    "start_time": "2022-02-28T03:46:00.777Z"
   },
   {
    "duration": 212,
    "start_time": "2022-02-28T03:46:00.801Z"
   },
   {
    "duration": 442,
    "start_time": "2022-02-28T03:46:01.016Z"
   },
   {
    "duration": 50,
    "start_time": "2022-02-28T03:46:01.460Z"
   },
   {
    "duration": 1011,
    "start_time": "2022-02-28T03:46:01.511Z"
   },
   {
    "duration": 489,
    "start_time": "2022-02-28T03:46:02.523Z"
   },
   {
    "duration": 405,
    "start_time": "2022-02-28T03:46:03.014Z"
   },
   {
    "duration": 599,
    "start_time": "2022-02-28T03:46:03.421Z"
   },
   {
    "duration": 305,
    "start_time": "2022-02-28T03:46:04.022Z"
   },
   {
    "duration": 337,
    "start_time": "2022-02-28T03:46:04.329Z"
   },
   {
    "duration": 310,
    "start_time": "2022-02-28T03:46:04.668Z"
   },
   {
    "duration": 236,
    "start_time": "2022-02-28T03:46:04.979Z"
   },
   {
    "duration": 67,
    "start_time": "2022-02-28T03:46:05.217Z"
   },
   {
    "duration": 18,
    "start_time": "2022-02-28T03:46:05.285Z"
   },
   {
    "duration": 21,
    "start_time": "2022-02-28T03:46:05.304Z"
   },
   {
    "duration": 4,
    "start_time": "2022-02-28T03:46:05.327Z"
   },
   {
    "duration": 5,
    "start_time": "2022-02-28T03:48:05.110Z"
   },
   {
    "duration": 68,
    "start_time": "2022-03-25T03:59:42.202Z"
   }
  ],
  "kernelspec": {
   "display_name": "Python 3 (ipykernel)",
   "language": "python",
   "name": "python3"
  },
  "language_info": {
   "codemirror_mode": {
    "name": "ipython",
    "version": 3
   },
   "file_extension": ".py",
   "mimetype": "text/x-python",
   "name": "python",
   "nbconvert_exporter": "python",
   "pygments_lexer": "ipython3",
   "version": "3.9.5"
  },
  "toc": {
   "base_numbering": 1,
   "nav_menu": {},
   "number_sections": true,
   "sideBar": true,
   "skip_h1_title": true,
   "title_cell": "Table of Contents",
   "title_sidebar": "Contents",
   "toc_cell": false,
   "toc_position": {},
   "toc_section_display": true,
   "toc_window_display": false
  }
 },
 "nbformat": 4,
 "nbformat_minor": 2
}
